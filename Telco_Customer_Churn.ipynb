{
  "nbformat": 4,
  "nbformat_minor": 0,
  "metadata": {
    "colab": {
      "provenance": []
    },
    "kernelspec": {
      "name": "python3",
      "display_name": "Python 3"
    },
    "language_info": {
      "name": "python"
    }
  },
  "cells": [
    {
      "cell_type": "markdown",
      "source": [
        "# Telco Customer Churn\n",
        "This notebook consists of the following sections in order:\n",
        "- 1 - Load the Data\n",
        "- 2 - Exploratory Data Analysis (EDA)\n",
        "  - 2.1 - Data Pre-Processing\n",
        "  - 2.2 - Remove Missing Values\n",
        "  - 2.3 - Customer Demographic Info\n",
        "  - 2.4 - Customer Account Info\n",
        "  - 2.5 - Customer Purchase Info\n",
        "  - 2.6 - Numerical Features\n",
        "  - 2.7 - Correlation between Features\n",
        "- 3 - Model and Analysis\n",
        "  - 3.1 - Compare Standardization and Normalization\n",
        "    - 3.1.1 - Train-Test Split\n",
        "    - 3.1.2 - SVM\n",
        "    - 3.1.3 - Logistic Regression\n",
        "    - 3.1.4 - Random Forest\n",
        "  - 3.2 - Feature Selection\n",
        "    - 3.2.1 - Chi-Squared Test for Categorical Features\n",
        "    - 3.2.2 - ANOVA F-Test for Numerical Features\n",
        "    - 3.2.3 - Mutual Information (MI) for Both Types of Features\n",
        "  - 3.3 - Model Fitting\n",
        "    - 3.3.1 - Does Not Apply ADASYN\n",
        "      - 3.3.1.1 - SVM\n",
        "      - 3.3.1.2 - Logistic Regression\n",
        "      - 3.3.1.3 - Random Forest\n",
        "    - 3.3.2 - Balance Classes by ADASYN Oversampling\n",
        "      - 3.3.2.1 - SVM\n",
        "      - 3.3.2.2 - Logistic Regression\n",
        "      - 3.3.2.3 - Random Forest          \n",
        "  - 3.4 - Multicollinearity\n",
        "    - 3.4.1 - Remove Tenure\n",
        "      - 3.4.1.1 - SVM\n",
        "      - 3.4.1.2 - Logistic Regression\n",
        "      - 3.4.1.3 - Random Forest     \n",
        "    - 3.4.2 - Remove TotalCharges\n",
        "      - 3.4.2.1 - SVM\n",
        "      - 3.4.2.2 - Logistic Regression\n",
        "      - 3.4.2.3 - Random Forest\n",
        "  - Additional Analysis: Hyperparameter Tuning\n",
        "    - A.1 - SVM\n",
        "    - A.2 - Logistic Regression\n",
        "    - A.3 - Random Forest     "
      ],
      "metadata": {
        "id": "3HyV1w91NKZy"
      }
    },
    {
      "cell_type": "markdown",
      "source": [
        "## 1 - Load the Data\n"
      ],
      "metadata": {
        "id": "Hkok6yjMNJme"
      }
    },
    {
      "cell_type": "code",
      "source": [
        "import pandas as pd\n",
        "import numpy as np"
      ],
      "metadata": {
        "id": "S-xngBeW-9d-"
      },
      "execution_count": 255,
      "outputs": []
    },
    {
      "cell_type": "code",
      "source": [
        "# load raw data from personal github\n",
        "telco = pd.read_csv(\"https://raw.githubusercontent.com/yihan219/sta2101_project/main/WA_Fn-UseC_-Telco-Customer-Churn.csv\", header=0)\n",
        "telco.head()"
      ],
      "metadata": {
        "id": "shFpGZNJNSPM",
        "colab": {
          "base_uri": "https://localhost:8080/",
          "height": 386
        },
        "outputId": "10ef4990-7e9f-443e-f397-daa6d229a522"
      },
      "execution_count": 256,
      "outputs": [
        {
          "output_type": "execute_result",
          "data": {
            "text/plain": [
              "   customerID  gender  SeniorCitizen Partner Dependents  tenure PhoneService  \\\n",
              "0  7590-VHVEG  Female              0     Yes         No       1           No   \n",
              "1  5575-GNVDE    Male              0      No         No      34          Yes   \n",
              "2  3668-QPYBK    Male              0      No         No       2          Yes   \n",
              "3  7795-CFOCW    Male              0      No         No      45           No   \n",
              "4  9237-HQITU  Female              0      No         No       2          Yes   \n",
              "\n",
              "      MultipleLines InternetService OnlineSecurity  ... DeviceProtection  \\\n",
              "0  No phone service             DSL             No  ...               No   \n",
              "1                No             DSL            Yes  ...              Yes   \n",
              "2                No             DSL            Yes  ...               No   \n",
              "3  No phone service             DSL            Yes  ...              Yes   \n",
              "4                No     Fiber optic             No  ...               No   \n",
              "\n",
              "  TechSupport StreamingTV StreamingMovies        Contract PaperlessBilling  \\\n",
              "0          No          No              No  Month-to-month              Yes   \n",
              "1          No          No              No        One year               No   \n",
              "2          No          No              No  Month-to-month              Yes   \n",
              "3         Yes          No              No        One year               No   \n",
              "4          No          No              No  Month-to-month              Yes   \n",
              "\n",
              "               PaymentMethod MonthlyCharges  TotalCharges Churn  \n",
              "0           Electronic check          29.85         29.85    No  \n",
              "1               Mailed check          56.95        1889.5    No  \n",
              "2               Mailed check          53.85        108.15   Yes  \n",
              "3  Bank transfer (automatic)          42.30       1840.75    No  \n",
              "4           Electronic check          70.70        151.65   Yes  \n",
              "\n",
              "[5 rows x 21 columns]"
            ],
            "text/html": [
              "\n",
              "  <div id=\"df-a50b1003-38c8-42dd-9fbc-20f5bf35499c\">\n",
              "    <div class=\"colab-df-container\">\n",
              "      <div>\n",
              "<style scoped>\n",
              "    .dataframe tbody tr th:only-of-type {\n",
              "        vertical-align: middle;\n",
              "    }\n",
              "\n",
              "    .dataframe tbody tr th {\n",
              "        vertical-align: top;\n",
              "    }\n",
              "\n",
              "    .dataframe thead th {\n",
              "        text-align: right;\n",
              "    }\n",
              "</style>\n",
              "<table border=\"1\" class=\"dataframe\">\n",
              "  <thead>\n",
              "    <tr style=\"text-align: right;\">\n",
              "      <th></th>\n",
              "      <th>customerID</th>\n",
              "      <th>gender</th>\n",
              "      <th>SeniorCitizen</th>\n",
              "      <th>Partner</th>\n",
              "      <th>Dependents</th>\n",
              "      <th>tenure</th>\n",
              "      <th>PhoneService</th>\n",
              "      <th>MultipleLines</th>\n",
              "      <th>InternetService</th>\n",
              "      <th>OnlineSecurity</th>\n",
              "      <th>...</th>\n",
              "      <th>DeviceProtection</th>\n",
              "      <th>TechSupport</th>\n",
              "      <th>StreamingTV</th>\n",
              "      <th>StreamingMovies</th>\n",
              "      <th>Contract</th>\n",
              "      <th>PaperlessBilling</th>\n",
              "      <th>PaymentMethod</th>\n",
              "      <th>MonthlyCharges</th>\n",
              "      <th>TotalCharges</th>\n",
              "      <th>Churn</th>\n",
              "    </tr>\n",
              "  </thead>\n",
              "  <tbody>\n",
              "    <tr>\n",
              "      <th>0</th>\n",
              "      <td>7590-VHVEG</td>\n",
              "      <td>Female</td>\n",
              "      <td>0</td>\n",
              "      <td>Yes</td>\n",
              "      <td>No</td>\n",
              "      <td>1</td>\n",
              "      <td>No</td>\n",
              "      <td>No phone service</td>\n",
              "      <td>DSL</td>\n",
              "      <td>No</td>\n",
              "      <td>...</td>\n",
              "      <td>No</td>\n",
              "      <td>No</td>\n",
              "      <td>No</td>\n",
              "      <td>No</td>\n",
              "      <td>Month-to-month</td>\n",
              "      <td>Yes</td>\n",
              "      <td>Electronic check</td>\n",
              "      <td>29.85</td>\n",
              "      <td>29.85</td>\n",
              "      <td>No</td>\n",
              "    </tr>\n",
              "    <tr>\n",
              "      <th>1</th>\n",
              "      <td>5575-GNVDE</td>\n",
              "      <td>Male</td>\n",
              "      <td>0</td>\n",
              "      <td>No</td>\n",
              "      <td>No</td>\n",
              "      <td>34</td>\n",
              "      <td>Yes</td>\n",
              "      <td>No</td>\n",
              "      <td>DSL</td>\n",
              "      <td>Yes</td>\n",
              "      <td>...</td>\n",
              "      <td>Yes</td>\n",
              "      <td>No</td>\n",
              "      <td>No</td>\n",
              "      <td>No</td>\n",
              "      <td>One year</td>\n",
              "      <td>No</td>\n",
              "      <td>Mailed check</td>\n",
              "      <td>56.95</td>\n",
              "      <td>1889.5</td>\n",
              "      <td>No</td>\n",
              "    </tr>\n",
              "    <tr>\n",
              "      <th>2</th>\n",
              "      <td>3668-QPYBK</td>\n",
              "      <td>Male</td>\n",
              "      <td>0</td>\n",
              "      <td>No</td>\n",
              "      <td>No</td>\n",
              "      <td>2</td>\n",
              "      <td>Yes</td>\n",
              "      <td>No</td>\n",
              "      <td>DSL</td>\n",
              "      <td>Yes</td>\n",
              "      <td>...</td>\n",
              "      <td>No</td>\n",
              "      <td>No</td>\n",
              "      <td>No</td>\n",
              "      <td>No</td>\n",
              "      <td>Month-to-month</td>\n",
              "      <td>Yes</td>\n",
              "      <td>Mailed check</td>\n",
              "      <td>53.85</td>\n",
              "      <td>108.15</td>\n",
              "      <td>Yes</td>\n",
              "    </tr>\n",
              "    <tr>\n",
              "      <th>3</th>\n",
              "      <td>7795-CFOCW</td>\n",
              "      <td>Male</td>\n",
              "      <td>0</td>\n",
              "      <td>No</td>\n",
              "      <td>No</td>\n",
              "      <td>45</td>\n",
              "      <td>No</td>\n",
              "      <td>No phone service</td>\n",
              "      <td>DSL</td>\n",
              "      <td>Yes</td>\n",
              "      <td>...</td>\n",
              "      <td>Yes</td>\n",
              "      <td>Yes</td>\n",
              "      <td>No</td>\n",
              "      <td>No</td>\n",
              "      <td>One year</td>\n",
              "      <td>No</td>\n",
              "      <td>Bank transfer (automatic)</td>\n",
              "      <td>42.30</td>\n",
              "      <td>1840.75</td>\n",
              "      <td>No</td>\n",
              "    </tr>\n",
              "    <tr>\n",
              "      <th>4</th>\n",
              "      <td>9237-HQITU</td>\n",
              "      <td>Female</td>\n",
              "      <td>0</td>\n",
              "      <td>No</td>\n",
              "      <td>No</td>\n",
              "      <td>2</td>\n",
              "      <td>Yes</td>\n",
              "      <td>No</td>\n",
              "      <td>Fiber optic</td>\n",
              "      <td>No</td>\n",
              "      <td>...</td>\n",
              "      <td>No</td>\n",
              "      <td>No</td>\n",
              "      <td>No</td>\n",
              "      <td>No</td>\n",
              "      <td>Month-to-month</td>\n",
              "      <td>Yes</td>\n",
              "      <td>Electronic check</td>\n",
              "      <td>70.70</td>\n",
              "      <td>151.65</td>\n",
              "      <td>Yes</td>\n",
              "    </tr>\n",
              "  </tbody>\n",
              "</table>\n",
              "<p>5 rows × 21 columns</p>\n",
              "</div>\n",
              "      <button class=\"colab-df-convert\" onclick=\"convertToInteractive('df-a50b1003-38c8-42dd-9fbc-20f5bf35499c')\"\n",
              "              title=\"Convert this dataframe to an interactive table.\"\n",
              "              style=\"display:none;\">\n",
              "        \n",
              "  <svg xmlns=\"http://www.w3.org/2000/svg\" height=\"24px\"viewBox=\"0 0 24 24\"\n",
              "       width=\"24px\">\n",
              "    <path d=\"M0 0h24v24H0V0z\" fill=\"none\"/>\n",
              "    <path d=\"M18.56 5.44l.94 2.06.94-2.06 2.06-.94-2.06-.94-.94-2.06-.94 2.06-2.06.94zm-11 1L8.5 8.5l.94-2.06 2.06-.94-2.06-.94L8.5 2.5l-.94 2.06-2.06.94zm10 10l.94 2.06.94-2.06 2.06-.94-2.06-.94-.94-2.06-.94 2.06-2.06.94z\"/><path d=\"M17.41 7.96l-1.37-1.37c-.4-.4-.92-.59-1.43-.59-.52 0-1.04.2-1.43.59L10.3 9.45l-7.72 7.72c-.78.78-.78 2.05 0 2.83L4 21.41c.39.39.9.59 1.41.59.51 0 1.02-.2 1.41-.59l7.78-7.78 2.81-2.81c.8-.78.8-2.07 0-2.86zM5.41 20L4 18.59l7.72-7.72 1.47 1.35L5.41 20z\"/>\n",
              "  </svg>\n",
              "      </button>\n",
              "      \n",
              "  <style>\n",
              "    .colab-df-container {\n",
              "      display:flex;\n",
              "      flex-wrap:wrap;\n",
              "      gap: 12px;\n",
              "    }\n",
              "\n",
              "    .colab-df-convert {\n",
              "      background-color: #E8F0FE;\n",
              "      border: none;\n",
              "      border-radius: 50%;\n",
              "      cursor: pointer;\n",
              "      display: none;\n",
              "      fill: #1967D2;\n",
              "      height: 32px;\n",
              "      padding: 0 0 0 0;\n",
              "      width: 32px;\n",
              "    }\n",
              "\n",
              "    .colab-df-convert:hover {\n",
              "      background-color: #E2EBFA;\n",
              "      box-shadow: 0px 1px 2px rgba(60, 64, 67, 0.3), 0px 1px 3px 1px rgba(60, 64, 67, 0.15);\n",
              "      fill: #174EA6;\n",
              "    }\n",
              "\n",
              "    [theme=dark] .colab-df-convert {\n",
              "      background-color: #3B4455;\n",
              "      fill: #D2E3FC;\n",
              "    }\n",
              "\n",
              "    [theme=dark] .colab-df-convert:hover {\n",
              "      background-color: #434B5C;\n",
              "      box-shadow: 0px 1px 3px 1px rgba(0, 0, 0, 0.15);\n",
              "      filter: drop-shadow(0px 1px 2px rgba(0, 0, 0, 0.3));\n",
              "      fill: #FFFFFF;\n",
              "    }\n",
              "  </style>\n",
              "\n",
              "      <script>\n",
              "        const buttonEl =\n",
              "          document.querySelector('#df-a50b1003-38c8-42dd-9fbc-20f5bf35499c button.colab-df-convert');\n",
              "        buttonEl.style.display =\n",
              "          google.colab.kernel.accessAllowed ? 'block' : 'none';\n",
              "\n",
              "        async function convertToInteractive(key) {\n",
              "          const element = document.querySelector('#df-a50b1003-38c8-42dd-9fbc-20f5bf35499c');\n",
              "          const dataTable =\n",
              "            await google.colab.kernel.invokeFunction('convertToInteractive',\n",
              "                                                     [key], {});\n",
              "          if (!dataTable) return;\n",
              "\n",
              "          const docLinkHtml = 'Like what you see? Visit the ' +\n",
              "            '<a target=\"_blank\" href=https://colab.research.google.com/notebooks/data_table.ipynb>data table notebook</a>'\n",
              "            + ' to learn more about interactive tables.';\n",
              "          element.innerHTML = '';\n",
              "          dataTable['output_type'] = 'display_data';\n",
              "          await google.colab.output.renderOutput(dataTable, element);\n",
              "          const docLink = document.createElement('div');\n",
              "          docLink.innerHTML = docLinkHtml;\n",
              "          element.appendChild(docLink);\n",
              "        }\n",
              "      </script>\n",
              "    </div>\n",
              "  </div>\n",
              "  "
            ]
          },
          "metadata": {},
          "execution_count": 256
        }
      ]
    },
    {
      "cell_type": "code",
      "source": [
        "telco.shape"
      ],
      "metadata": {
        "colab": {
          "base_uri": "https://localhost:8080/"
        },
        "id": "DHj9mf1M_Jr0",
        "outputId": "97336703-7286-4675-8892-5e7c04a2756f"
      },
      "execution_count": 257,
      "outputs": [
        {
          "output_type": "execute_result",
          "data": {
            "text/plain": [
              "(7043, 21)"
            ]
          },
          "metadata": {},
          "execution_count": 257
        }
      ]
    },
    {
      "cell_type": "code",
      "source": [
        "telco.info()"
      ],
      "metadata": {
        "colab": {
          "base_uri": "https://localhost:8080/"
        },
        "id": "qJJx1i_R_On2",
        "outputId": "761b2ac9-1271-4d24-94f1-536d2d673305"
      },
      "execution_count": 258,
      "outputs": [
        {
          "output_type": "stream",
          "name": "stdout",
          "text": [
            "<class 'pandas.core.frame.DataFrame'>\n",
            "RangeIndex: 7043 entries, 0 to 7042\n",
            "Data columns (total 21 columns):\n",
            " #   Column            Non-Null Count  Dtype  \n",
            "---  ------            --------------  -----  \n",
            " 0   customerID        7043 non-null   object \n",
            " 1   gender            7043 non-null   object \n",
            " 2   SeniorCitizen     7043 non-null   int64  \n",
            " 3   Partner           7043 non-null   object \n",
            " 4   Dependents        7043 non-null   object \n",
            " 5   tenure            7043 non-null   int64  \n",
            " 6   PhoneService      7043 non-null   object \n",
            " 7   MultipleLines     7043 non-null   object \n",
            " 8   InternetService   7043 non-null   object \n",
            " 9   OnlineSecurity    7043 non-null   object \n",
            " 10  OnlineBackup      7043 non-null   object \n",
            " 11  DeviceProtection  7043 non-null   object \n",
            " 12  TechSupport       7043 non-null   object \n",
            " 13  StreamingTV       7043 non-null   object \n",
            " 14  StreamingMovies   7043 non-null   object \n",
            " 15  Contract          7043 non-null   object \n",
            " 16  PaperlessBilling  7043 non-null   object \n",
            " 17  PaymentMethod     7043 non-null   object \n",
            " 18  MonthlyCharges    7043 non-null   float64\n",
            " 19  TotalCharges      7043 non-null   object \n",
            " 20  Churn             7043 non-null   object \n",
            "dtypes: float64(1), int64(2), object(18)\n",
            "memory usage: 1.1+ MB\n"
          ]
        }
      ]
    },
    {
      "cell_type": "markdown",
      "source": [
        "## 2 - Exploratory Data Analysis (EDA)"
      ],
      "metadata": {
        "id": "VKMrWtalB0n9"
      }
    },
    {
      "cell_type": "markdown",
      "source": [
        "### 2.1 - Data Pre-Processing"
      ],
      "metadata": {
        "id": "XjXWSNW_DBeO"
      }
    },
    {
      "cell_type": "code",
      "source": [
        "# replace label column values to 0 or 1\n",
        "telco.Churn = telco.Churn.map({'Yes': 1, 'No': 0})\n",
        "\n",
        "# drop entirely duplicated rows\n",
        "telco.drop_duplicates(inplace=True)"
      ],
      "metadata": {
        "id": "Z6Uv9ZY8D1wg"
      },
      "execution_count": 259,
      "outputs": []
    },
    {
      "cell_type": "code",
      "source": [
        "telco.shape"
      ],
      "metadata": {
        "colab": {
          "base_uri": "https://localhost:8080/"
        },
        "id": "GO-S4xf1FMZ0",
        "outputId": "f5b4031c-ca45-4a76-b06e-768730c8acd2"
      },
      "execution_count": 260,
      "outputs": [
        {
          "output_type": "execute_result",
          "data": {
            "text/plain": [
              "(7043, 21)"
            ]
          },
          "metadata": {},
          "execution_count": 260
        }
      ]
    },
    {
      "cell_type": "code",
      "source": [
        "telco.Churn.value_counts()"
      ],
      "metadata": {
        "colab": {
          "base_uri": "https://localhost:8080/"
        },
        "id": "yEwx0R-rJRfV",
        "outputId": "3cfdf1cc-7a96-40f2-bce8-b78c26ff1509"
      },
      "execution_count": 261,
      "outputs": [
        {
          "output_type": "execute_result",
          "data": {
            "text/plain": [
              "0    5174\n",
              "1    1869\n",
              "Name: Churn, dtype: int64"
            ]
          },
          "metadata": {},
          "execution_count": 261
        }
      ]
    },
    {
      "cell_type": "code",
      "source": [
        "telco.SeniorCitizen.value_counts()"
      ],
      "metadata": {
        "colab": {
          "base_uri": "https://localhost:8080/"
        },
        "id": "Q9C83IkMI4aM",
        "outputId": "b3d1379f-072f-476b-ec02-1c763a0fd3c6"
      },
      "execution_count": 262,
      "outputs": [
        {
          "output_type": "execute_result",
          "data": {
            "text/plain": [
              "0    5901\n",
              "1    1142\n",
              "Name: SeniorCitizen, dtype: int64"
            ]
          },
          "metadata": {},
          "execution_count": 262
        }
      ]
    },
    {
      "cell_type": "code",
      "source": [
        "# convert'SeniorCitizen' from {1,0} to {Yes, No} representation so that plots will have meaningful labels\n",
        "telco.SeniorCitizen = telco.SeniorCitizen.map({1:'Yes', 0:'No'})  \n",
        "telco.SeniorCitizen.value_counts()"
      ],
      "metadata": {
        "colab": {
          "base_uri": "https://localhost:8080/"
        },
        "id": "b7xckqiEEsDl",
        "outputId": "53c4a947-45b0-4b91-841e-fe35fe942de3"
      },
      "execution_count": 263,
      "outputs": [
        {
          "output_type": "execute_result",
          "data": {
            "text/plain": [
              "No     5901\n",
              "Yes    1142\n",
              "Name: SeniorCitizen, dtype: int64"
            ]
          },
          "metadata": {},
          "execution_count": 263
        }
      ]
    },
    {
      "cell_type": "code",
      "source": [
        "# count NA values in each column of the dataframe\n",
        "telco.isna().sum()"
      ],
      "metadata": {
        "colab": {
          "base_uri": "https://localhost:8080/"
        },
        "id": "7Nyr65BvGWq6",
        "outputId": "9aaae5c4-dc46-4798-9f6f-6002485f741b"
      },
      "execution_count": 264,
      "outputs": [
        {
          "output_type": "execute_result",
          "data": {
            "text/plain": [
              "customerID          0\n",
              "gender              0\n",
              "SeniorCitizen       0\n",
              "Partner             0\n",
              "Dependents          0\n",
              "tenure              0\n",
              "PhoneService        0\n",
              "MultipleLines       0\n",
              "InternetService     0\n",
              "OnlineSecurity      0\n",
              "OnlineBackup        0\n",
              "DeviceProtection    0\n",
              "TechSupport         0\n",
              "StreamingTV         0\n",
              "StreamingMovies     0\n",
              "Contract            0\n",
              "PaperlessBilling    0\n",
              "PaymentMethod       0\n",
              "MonthlyCharges      0\n",
              "TotalCharges        0\n",
              "Churn               0\n",
              "dtype: int64"
            ]
          },
          "metadata": {},
          "execution_count": 264
        }
      ]
    },
    {
      "cell_type": "code",
      "source": [
        "# check if any strange values might represent missing values in each column \n",
        "# all categorical variables have meaningful values\n",
        "for c in telco.columns:\n",
        "    if c not in ['customerID', 'tenure', 'MonthlyCharges', 'TotalCharges']:\n",
        "      print(\"---- %s ---\" % c)\n",
        "      print(telco[c].value_counts())"
      ],
      "metadata": {
        "colab": {
          "base_uri": "https://localhost:8080/"
        },
        "id": "nkMS5L9f5-t5",
        "outputId": "51d2ead1-a8ca-4f35-ec73-12a6b3eb2e30"
      },
      "execution_count": 265,
      "outputs": [
        {
          "output_type": "stream",
          "name": "stdout",
          "text": [
            "---- gender ---\n",
            "Male      3555\n",
            "Female    3488\n",
            "Name: gender, dtype: int64\n",
            "---- SeniorCitizen ---\n",
            "No     5901\n",
            "Yes    1142\n",
            "Name: SeniorCitizen, dtype: int64\n",
            "---- Partner ---\n",
            "No     3641\n",
            "Yes    3402\n",
            "Name: Partner, dtype: int64\n",
            "---- Dependents ---\n",
            "No     4933\n",
            "Yes    2110\n",
            "Name: Dependents, dtype: int64\n",
            "---- PhoneService ---\n",
            "Yes    6361\n",
            "No      682\n",
            "Name: PhoneService, dtype: int64\n",
            "---- MultipleLines ---\n",
            "No                  3390\n",
            "Yes                 2971\n",
            "No phone service     682\n",
            "Name: MultipleLines, dtype: int64\n",
            "---- InternetService ---\n",
            "Fiber optic    3096\n",
            "DSL            2421\n",
            "No             1526\n",
            "Name: InternetService, dtype: int64\n",
            "---- OnlineSecurity ---\n",
            "No                     3498\n",
            "Yes                    2019\n",
            "No internet service    1526\n",
            "Name: OnlineSecurity, dtype: int64\n",
            "---- OnlineBackup ---\n",
            "No                     3088\n",
            "Yes                    2429\n",
            "No internet service    1526\n",
            "Name: OnlineBackup, dtype: int64\n",
            "---- DeviceProtection ---\n",
            "No                     3095\n",
            "Yes                    2422\n",
            "No internet service    1526\n",
            "Name: DeviceProtection, dtype: int64\n",
            "---- TechSupport ---\n",
            "No                     3473\n",
            "Yes                    2044\n",
            "No internet service    1526\n",
            "Name: TechSupport, dtype: int64\n",
            "---- StreamingTV ---\n",
            "No                     2810\n",
            "Yes                    2707\n",
            "No internet service    1526\n",
            "Name: StreamingTV, dtype: int64\n",
            "---- StreamingMovies ---\n",
            "No                     2785\n",
            "Yes                    2732\n",
            "No internet service    1526\n",
            "Name: StreamingMovies, dtype: int64\n",
            "---- Contract ---\n",
            "Month-to-month    3875\n",
            "Two year          1695\n",
            "One year          1473\n",
            "Name: Contract, dtype: int64\n",
            "---- PaperlessBilling ---\n",
            "Yes    4171\n",
            "No     2872\n",
            "Name: PaperlessBilling, dtype: int64\n",
            "---- PaymentMethod ---\n",
            "Electronic check             2365\n",
            "Mailed check                 1612\n",
            "Bank transfer (automatic)    1544\n",
            "Credit card (automatic)      1522\n",
            "Name: PaymentMethod, dtype: int64\n",
            "---- Churn ---\n",
            "0    5174\n",
            "1    1869\n",
            "Name: Churn, dtype: int64\n"
          ]
        }
      ]
    },
    {
      "cell_type": "code",
      "source": [
        "# 'tenure' column has 0 values, but this makes sense since they represent \n",
        "# customers who have just joined the company less than a month\n",
        "telco.tenure.describe()"
      ],
      "metadata": {
        "colab": {
          "base_uri": "https://localhost:8080/"
        },
        "id": "HJKtPBXn944q",
        "outputId": "0ecb1cb6-67ba-4ef9-fab6-e34997cad915"
      },
      "execution_count": 266,
      "outputs": [
        {
          "output_type": "execute_result",
          "data": {
            "text/plain": [
              "count    7043.000000\n",
              "mean       32.371149\n",
              "std        24.559481\n",
              "min         0.000000\n",
              "25%         9.000000\n",
              "50%        29.000000\n",
              "75%        55.000000\n",
              "max        72.000000\n",
              "Name: tenure, dtype: float64"
            ]
          },
          "metadata": {},
          "execution_count": 266
        }
      ]
    },
    {
      "cell_type": "code",
      "source": [
        "# 'MonthlyCharges' column does not contain 0 values, which makes sense because\n",
        "# all customers must pay for the service hence have a minimum monthly charge\n",
        "telco.MonthlyCharges.describe()"
      ],
      "metadata": {
        "colab": {
          "base_uri": "https://localhost:8080/"
        },
        "id": "V1EAuhA4-xJT",
        "outputId": "5020985a-91cc-4992-d3cb-9a4c5fc52788"
      },
      "execution_count": 267,
      "outputs": [
        {
          "output_type": "execute_result",
          "data": {
            "text/plain": [
              "count    7043.000000\n",
              "mean       64.761692\n",
              "std        30.090047\n",
              "min        18.250000\n",
              "25%        35.500000\n",
              "50%        70.350000\n",
              "75%        89.850000\n",
              "max       118.750000\n",
              "Name: MonthlyCharges, dtype: float64"
            ]
          },
          "metadata": {},
          "execution_count": 267
        }
      ]
    },
    {
      "cell_type": "code",
      "source": [
        "# the dtype of column 'TotalCharges' is object, which is suspicious as it might contains non-numeric values\n",
        "# there are 11 \" \" values in the column, since they only account for a small proportion of the entire dataset, \n",
        "# I simply discarded those rows\n",
        "telco[['TotalCharges']].sort_values(by='TotalCharges',ascending=True)"
      ],
      "metadata": {
        "colab": {
          "base_uri": "https://localhost:8080/",
          "height": 423
        },
        "id": "qrGuQlAjAk-F",
        "outputId": "af5ae9cd-555b-4c12-9ac2-8ca071df7236"
      },
      "execution_count": 268,
      "outputs": [
        {
          "output_type": "execute_result",
          "data": {
            "text/plain": [
              "     TotalCharges\n",
              "936              \n",
              "3826             \n",
              "4380             \n",
              "753              \n",
              "5218             \n",
              "...           ...\n",
              "6646       997.75\n",
              "5598        998.1\n",
              "3686       999.45\n",
              "3353        999.8\n",
              "2845        999.9\n",
              "\n",
              "[7043 rows x 1 columns]"
            ],
            "text/html": [
              "\n",
              "  <div id=\"df-35ac02c0-e3cd-4f90-ab78-27824c2dcad8\">\n",
              "    <div class=\"colab-df-container\">\n",
              "      <div>\n",
              "<style scoped>\n",
              "    .dataframe tbody tr th:only-of-type {\n",
              "        vertical-align: middle;\n",
              "    }\n",
              "\n",
              "    .dataframe tbody tr th {\n",
              "        vertical-align: top;\n",
              "    }\n",
              "\n",
              "    .dataframe thead th {\n",
              "        text-align: right;\n",
              "    }\n",
              "</style>\n",
              "<table border=\"1\" class=\"dataframe\">\n",
              "  <thead>\n",
              "    <tr style=\"text-align: right;\">\n",
              "      <th></th>\n",
              "      <th>TotalCharges</th>\n",
              "    </tr>\n",
              "  </thead>\n",
              "  <tbody>\n",
              "    <tr>\n",
              "      <th>936</th>\n",
              "      <td></td>\n",
              "    </tr>\n",
              "    <tr>\n",
              "      <th>3826</th>\n",
              "      <td></td>\n",
              "    </tr>\n",
              "    <tr>\n",
              "      <th>4380</th>\n",
              "      <td></td>\n",
              "    </tr>\n",
              "    <tr>\n",
              "      <th>753</th>\n",
              "      <td></td>\n",
              "    </tr>\n",
              "    <tr>\n",
              "      <th>5218</th>\n",
              "      <td></td>\n",
              "    </tr>\n",
              "    <tr>\n",
              "      <th>...</th>\n",
              "      <td>...</td>\n",
              "    </tr>\n",
              "    <tr>\n",
              "      <th>6646</th>\n",
              "      <td>997.75</td>\n",
              "    </tr>\n",
              "    <tr>\n",
              "      <th>5598</th>\n",
              "      <td>998.1</td>\n",
              "    </tr>\n",
              "    <tr>\n",
              "      <th>3686</th>\n",
              "      <td>999.45</td>\n",
              "    </tr>\n",
              "    <tr>\n",
              "      <th>3353</th>\n",
              "      <td>999.8</td>\n",
              "    </tr>\n",
              "    <tr>\n",
              "      <th>2845</th>\n",
              "      <td>999.9</td>\n",
              "    </tr>\n",
              "  </tbody>\n",
              "</table>\n",
              "<p>7043 rows × 1 columns</p>\n",
              "</div>\n",
              "      <button class=\"colab-df-convert\" onclick=\"convertToInteractive('df-35ac02c0-e3cd-4f90-ab78-27824c2dcad8')\"\n",
              "              title=\"Convert this dataframe to an interactive table.\"\n",
              "              style=\"display:none;\">\n",
              "        \n",
              "  <svg xmlns=\"http://www.w3.org/2000/svg\" height=\"24px\"viewBox=\"0 0 24 24\"\n",
              "       width=\"24px\">\n",
              "    <path d=\"M0 0h24v24H0V0z\" fill=\"none\"/>\n",
              "    <path d=\"M18.56 5.44l.94 2.06.94-2.06 2.06-.94-2.06-.94-.94-2.06-.94 2.06-2.06.94zm-11 1L8.5 8.5l.94-2.06 2.06-.94-2.06-.94L8.5 2.5l-.94 2.06-2.06.94zm10 10l.94 2.06.94-2.06 2.06-.94-2.06-.94-.94-2.06-.94 2.06-2.06.94z\"/><path d=\"M17.41 7.96l-1.37-1.37c-.4-.4-.92-.59-1.43-.59-.52 0-1.04.2-1.43.59L10.3 9.45l-7.72 7.72c-.78.78-.78 2.05 0 2.83L4 21.41c.39.39.9.59 1.41.59.51 0 1.02-.2 1.41-.59l7.78-7.78 2.81-2.81c.8-.78.8-2.07 0-2.86zM5.41 20L4 18.59l7.72-7.72 1.47 1.35L5.41 20z\"/>\n",
              "  </svg>\n",
              "      </button>\n",
              "      \n",
              "  <style>\n",
              "    .colab-df-container {\n",
              "      display:flex;\n",
              "      flex-wrap:wrap;\n",
              "      gap: 12px;\n",
              "    }\n",
              "\n",
              "    .colab-df-convert {\n",
              "      background-color: #E8F0FE;\n",
              "      border: none;\n",
              "      border-radius: 50%;\n",
              "      cursor: pointer;\n",
              "      display: none;\n",
              "      fill: #1967D2;\n",
              "      height: 32px;\n",
              "      padding: 0 0 0 0;\n",
              "      width: 32px;\n",
              "    }\n",
              "\n",
              "    .colab-df-convert:hover {\n",
              "      background-color: #E2EBFA;\n",
              "      box-shadow: 0px 1px 2px rgba(60, 64, 67, 0.3), 0px 1px 3px 1px rgba(60, 64, 67, 0.15);\n",
              "      fill: #174EA6;\n",
              "    }\n",
              "\n",
              "    [theme=dark] .colab-df-convert {\n",
              "      background-color: #3B4455;\n",
              "      fill: #D2E3FC;\n",
              "    }\n",
              "\n",
              "    [theme=dark] .colab-df-convert:hover {\n",
              "      background-color: #434B5C;\n",
              "      box-shadow: 0px 1px 3px 1px rgba(0, 0, 0, 0.15);\n",
              "      filter: drop-shadow(0px 1px 2px rgba(0, 0, 0, 0.3));\n",
              "      fill: #FFFFFF;\n",
              "    }\n",
              "  </style>\n",
              "\n",
              "      <script>\n",
              "        const buttonEl =\n",
              "          document.querySelector('#df-35ac02c0-e3cd-4f90-ab78-27824c2dcad8 button.colab-df-convert');\n",
              "        buttonEl.style.display =\n",
              "          google.colab.kernel.accessAllowed ? 'block' : 'none';\n",
              "\n",
              "        async function convertToInteractive(key) {\n",
              "          const element = document.querySelector('#df-35ac02c0-e3cd-4f90-ab78-27824c2dcad8');\n",
              "          const dataTable =\n",
              "            await google.colab.kernel.invokeFunction('convertToInteractive',\n",
              "                                                     [key], {});\n",
              "          if (!dataTable) return;\n",
              "\n",
              "          const docLinkHtml = 'Like what you see? Visit the ' +\n",
              "            '<a target=\"_blank\" href=https://colab.research.google.com/notebooks/data_table.ipynb>data table notebook</a>'\n",
              "            + ' to learn more about interactive tables.';\n",
              "          element.innerHTML = '';\n",
              "          dataTable['output_type'] = 'display_data';\n",
              "          await google.colab.output.renderOutput(dataTable, element);\n",
              "          const docLink = document.createElement('div');\n",
              "          docLink.innerHTML = docLinkHtml;\n",
              "          element.appendChild(docLink);\n",
              "        }\n",
              "      </script>\n",
              "    </div>\n",
              "  </div>\n",
              "  "
            ]
          },
          "metadata": {},
          "execution_count": 268
        }
      ]
    },
    {
      "cell_type": "markdown",
      "source": [
        "### 2.2 - Remove Missing Values"
      ],
      "metadata": {
        "id": "F6M55Xrks_pW"
      }
    },
    {
      "cell_type": "code",
      "source": [
        "# removing rows from telco with TotalCharges=\" \"\n",
        "telco = telco[telco.TotalCharges!=\" \"]\n",
        "telco.reset_index(drop=True, inplace=True)\n",
        "telco.shape"
      ],
      "metadata": {
        "colab": {
          "base_uri": "https://localhost:8080/"
        },
        "id": "J-upq8poCdky",
        "outputId": "10b24c97-0bda-40a1-8136-ef7155e9ab90"
      },
      "execution_count": 269,
      "outputs": [
        {
          "output_type": "execute_result",
          "data": {
            "text/plain": [
              "(7032, 21)"
            ]
          },
          "metadata": {},
          "execution_count": 269
        }
      ]
    },
    {
      "cell_type": "code",
      "source": [
        "# convert column 'TotalCharges' to numeric\n",
        "telco.TotalCharges = pd.to_numeric(telco.TotalCharges)"
      ],
      "metadata": {
        "id": "hqWSsaUy45l4",
        "colab": {
          "base_uri": "https://localhost:8080/"
        },
        "outputId": "b6d28892-3bf4-4665-aaa4-f8e0c1bb56d7"
      },
      "execution_count": 270,
      "outputs": [
        {
          "output_type": "stream",
          "name": "stderr",
          "text": [
            "/usr/local/lib/python3.8/dist-packages/pandas/core/generic.py:5516: SettingWithCopyWarning: \n",
            "A value is trying to be set on a copy of a slice from a DataFrame.\n",
            "Try using .loc[row_indexer,col_indexer] = value instead\n",
            "\n",
            "See the caveats in the documentation: https://pandas.pydata.org/pandas-docs/stable/user_guide/indexing.html#returning-a-view-versus-a-copy\n",
            "  self[name] = value\n"
          ]
        }
      ]
    },
    {
      "cell_type": "code",
      "source": [
        "telco['TotalCharges'].describe()"
      ],
      "metadata": {
        "colab": {
          "base_uri": "https://localhost:8080/"
        },
        "id": "E2tAXmjdr-tf",
        "outputId": "62bde03f-0cd5-4655-8344-a4f02c4f28c0"
      },
      "execution_count": 271,
      "outputs": [
        {
          "output_type": "execute_result",
          "data": {
            "text/plain": [
              "count    7032.000000\n",
              "mean     2283.300441\n",
              "std      2266.771362\n",
              "min        18.800000\n",
              "25%       401.450000\n",
              "50%      1397.475000\n",
              "75%      3794.737500\n",
              "max      8684.800000\n",
              "Name: TotalCharges, dtype: float64"
            ]
          },
          "metadata": {},
          "execution_count": 271
        }
      ]
    },
    {
      "cell_type": "markdown",
      "source": [
        "### 2.3 - Customer Demographic Info"
      ],
      "metadata": {
        "id": "7qR8ZF7YCL_L"
      }
    },
    {
      "cell_type": "code",
      "source": [
        "import matplotlib.pyplot as plt\n",
        "import seaborn as sns"
      ],
      "metadata": {
        "id": "uHP3uMjRA2JZ"
      },
      "execution_count": 272,
      "outputs": []
    },
    {
      "cell_type": "code",
      "source": [
        "# plot histogram \n",
        "fig, axs = plt.subplots(2, 2, figsize=(10, 10))\n",
        "index = [axs[0,0],axs[0,1],axs[1,0],axs[1,1]]\n",
        "for i,j in zip([\"gender\", \"SeniorCitizen\", \"Partner\", \"Dependents\"],index):\n",
        "  ax = sns.histplot(data=telco, x=i, hue=\"Churn\", multiple=\"dodge\", ax=j)\n",
        "  ax.set(title='Distribution of {}'.format(i))\n",
        "  # label each bar in histogram\n",
        "  for p in ax.patches:\n",
        "    height = p.get_height() # get the height of each bar\n",
        "    # adding text to each bar\n",
        "    ax.text(x = p.get_x()+(p.get_width()/2), # x-coordinate position of data label, padded to be in the middle of the bar\n",
        "    y = height+20, # y-coordinate position of data label, padded 20 above bar\n",
        "    s = '{:.0f}'.format(height), # data label, formatted to ignore decimals\n",
        "    ha = 'center') # sets horizontal alignment (ha) to center\n",
        "plt.show()  "
      ],
      "metadata": {
        "colab": {
          "base_uri": "https://localhost:8080/",
          "height": 621
        },
        "id": "qlChaRtOZkbM",
        "outputId": "b2a6ed27-12f9-42ec-ed6c-a2622de243ad"
      },
      "execution_count": 273,
      "outputs": [
        {
          "output_type": "display_data",
          "data": {
            "text/plain": [
              "<Figure size 720x720 with 4 Axes>"
            ],
            "image/png": "[encoded data removed]"
          },
          "metadata": {
            "needs_background": "light"
          }
        }
      ]
    },
    {
      "cell_type": "code",
      "source": [
        "# contingency table for gender by churn status\n",
        "pd.crosstab(telco.gender, telco.Churn, margins=True)"
      ],
      "metadata": {
        "colab": {
          "base_uri": "https://localhost:8080/",
          "height": 175
        },
        "id": "m8C-a4qpRr8E",
        "outputId": "d3effd68-86d8-4006-b2b5-81e4ca7dfd4f"
      },
      "execution_count": 274,
      "outputs": [
        {
          "output_type": "execute_result",
          "data": {
            "text/plain": [
              "Churn      0     1   All\n",
              "gender                  \n",
              "Female  2544   939  3483\n",
              "Male    2619   930  3549\n",
              "All     5163  1869  7032"
            ],
            "text/html": [
              "\n",
              "  <div id=\"df-48bd955a-125e-409d-b011-5ea0d5105063\">\n",
              "    <div class=\"colab-df-container\">\n",
              "      <div>\n",
              "<style scoped>\n",
              "    .dataframe tbody tr th:only-of-type {\n",
              "        vertical-align: middle;\n",
              "    }\n",
              "\n",
              "    .dataframe tbody tr th {\n",
              "        vertical-align: top;\n",
              "    }\n",
              "\n",
              "    .dataframe thead th {\n",
              "        text-align: right;\n",
              "    }\n",
              "</style>\n",
              "<table border=\"1\" class=\"dataframe\">\n",
              "  <thead>\n",
              "    <tr style=\"text-align: right;\">\n",
              "      <th>Churn</th>\n",
              "      <th>0</th>\n",
              "      <th>1</th>\n",
              "      <th>All</th>\n",
              "    </tr>\n",
              "    <tr>\n",
              "      <th>gender</th>\n",
              "      <th></th>\n",
              "      <th></th>\n",
              "      <th></th>\n",
              "    </tr>\n",
              "  </thead>\n",
              "  <tbody>\n",
              "    <tr>\n",
              "      <th>Female</th>\n",
              "      <td>2544</td>\n",
              "      <td>939</td>\n",
              "      <td>3483</td>\n",
              "    </tr>\n",
              "    <tr>\n",
              "      <th>Male</th>\n",
              "      <td>2619</td>\n",
              "      <td>930</td>\n",
              "      <td>3549</td>\n",
              "    </tr>\n",
              "    <tr>\n",
              "      <th>All</th>\n",
              "      <td>5163</td>\n",
              "      <td>1869</td>\n",
              "      <td>7032</td>\n",
              "    </tr>\n",
              "  </tbody>\n",
              "</table>\n",
              "</div>\n",
              "      <button class=\"colab-df-convert\" onclick=\"convertToInteractive('df-48bd955a-125e-409d-b011-5ea0d5105063')\"\n",
              "              title=\"Convert this dataframe to an interactive table.\"\n",
              "              style=\"display:none;\">\n",
              "        \n",
              "  <svg xmlns=\"http://www.w3.org/2000/svg\" height=\"24px\"viewBox=\"0 0 24 24\"\n",
              "       width=\"24px\">\n",
              "    <path d=\"M0 0h24v24H0V0z\" fill=\"none\"/>\n",
              "    <path d=\"M18.56 5.44l.94 2.06.94-2.06 2.06-.94-2.06-.94-.94-2.06-.94 2.06-2.06.94zm-11 1L8.5 8.5l.94-2.06 2.06-.94-2.06-.94L8.5 2.5l-.94 2.06-2.06.94zm10 10l.94 2.06.94-2.06 2.06-.94-2.06-.94-.94-2.06-.94 2.06-2.06.94z\"/><path d=\"M17.41 7.96l-1.37-1.37c-.4-.4-.92-.59-1.43-.59-.52 0-1.04.2-1.43.59L10.3 9.45l-7.72 7.72c-.78.78-.78 2.05 0 2.83L4 21.41c.39.39.9.59 1.41.59.51 0 1.02-.2 1.41-.59l7.78-7.78 2.81-2.81c.8-.78.8-2.07 0-2.86zM5.41 20L4 18.59l7.72-7.72 1.47 1.35L5.41 20z\"/>\n",
              "  </svg>\n",
              "      </button>\n",
              "      \n",
              "  <style>\n",
              "    .colab-df-container {\n",
              "      display:flex;\n",
              "      flex-wrap:wrap;\n",
              "      gap: 12px;\n",
              "    }\n",
              "\n",
              "    .colab-df-convert {\n",
              "      background-color: #E8F0FE;\n",
              "      border: none;\n",
              "      border-radius: 50%;\n",
              "      cursor: pointer;\n",
              "      display: none;\n",
              "      fill: #1967D2;\n",
              "      height: 32px;\n",
              "      padding: 0 0 0 0;\n",
              "      width: 32px;\n",
              "    }\n",
              "\n",
              "    .colab-df-convert:hover {\n",
              "      background-color: #E2EBFA;\n",
              "      box-shadow: 0px 1px 2px rgba(60, 64, 67, 0.3), 0px 1px 3px 1px rgba(60, 64, 67, 0.15);\n",
              "      fill: #174EA6;\n",
              "    }\n",
              "\n",
              "    [theme=dark] .colab-df-convert {\n",
              "      background-color: #3B4455;\n",
              "      fill: #D2E3FC;\n",
              "    }\n",
              "\n",
              "    [theme=dark] .colab-df-convert:hover {\n",
              "      background-color: #434B5C;\n",
              "      box-shadow: 0px 1px 3px 1px rgba(0, 0, 0, 0.15);\n",
              "      filter: drop-shadow(0px 1px 2px rgba(0, 0, 0, 0.3));\n",
              "      fill: #FFFFFF;\n",
              "    }\n",
              "  </style>\n",
              "\n",
              "      <script>\n",
              "        const buttonEl =\n",
              "          document.querySelector('#df-48bd955a-125e-409d-b011-5ea0d5105063 button.colab-df-convert');\n",
              "        buttonEl.style.display =\n",
              "          google.colab.kernel.accessAllowed ? 'block' : 'none';\n",
              "\n",
              "        async function convertToInteractive(key) {\n",
              "          const element = document.querySelector('#df-48bd955a-125e-409d-b011-5ea0d5105063');\n",
              "          const dataTable =\n",
              "            await google.colab.kernel.invokeFunction('convertToInteractive',\n",
              "                                                     [key], {});\n",
              "          if (!dataTable) return;\n",
              "\n",
              "          const docLinkHtml = 'Like what you see? Visit the ' +\n",
              "            '<a target=\"_blank\" href=https://colab.research.google.com/notebooks/data_table.ipynb>data table notebook</a>'\n",
              "            + ' to learn more about interactive tables.';\n",
              "          element.innerHTML = '';\n",
              "          dataTable['output_type'] = 'display_data';\n",
              "          await google.colab.output.renderOutput(dataTable, element);\n",
              "          const docLink = document.createElement('div');\n",
              "          docLink.innerHTML = docLinkHtml;\n",
              "          element.appendChild(docLink);\n",
              "        }\n",
              "      </script>\n",
              "    </div>\n",
              "  </div>\n",
              "  "
            ]
          },
          "metadata": {},
          "execution_count": 274
        }
      ]
    },
    {
      "cell_type": "code",
      "source": [
        "# contingency table for seniorcitizen by churn status\n",
        "pd.crosstab(telco.SeniorCitizen, telco.Churn, margins=True)"
      ],
      "metadata": {
        "colab": {
          "base_uri": "https://localhost:8080/",
          "height": 175
        },
        "id": "7AWulTr3w50m",
        "outputId": "c0c13daa-7a79-4d97-dd0d-56126d2cff99"
      },
      "execution_count": 275,
      "outputs": [
        {
          "output_type": "execute_result",
          "data": {
            "text/plain": [
              "Churn             0     1   All\n",
              "SeniorCitizen                  \n",
              "No             4497  1393  5890\n",
              "Yes             666   476  1142\n",
              "All            5163  1869  7032"
            ],
            "text/html": [
              "\n",
              "  <div id=\"df-d9040908-024c-47ce-877c-31b8605435a8\">\n",
              "    <div class=\"colab-df-container\">\n",
              "      <div>\n",
              "<style scoped>\n",
              "    .dataframe tbody tr th:only-of-type {\n",
              "        vertical-align: middle;\n",
              "    }\n",
              "\n",
              "    .dataframe tbody tr th {\n",
              "        vertical-align: top;\n",
              "    }\n",
              "\n",
              "    .dataframe thead th {\n",
              "        text-align: right;\n",
              "    }\n",
              "</style>\n",
              "<table border=\"1\" class=\"dataframe\">\n",
              "  <thead>\n",
              "    <tr style=\"text-align: right;\">\n",
              "      <th>Churn</th>\n",
              "      <th>0</th>\n",
              "      <th>1</th>\n",
              "      <th>All</th>\n",
              "    </tr>\n",
              "    <tr>\n",
              "      <th>SeniorCitizen</th>\n",
              "      <th></th>\n",
              "      <th></th>\n",
              "      <th></th>\n",
              "    </tr>\n",
              "  </thead>\n",
              "  <tbody>\n",
              "    <tr>\n",
              "      <th>No</th>\n",
              "      <td>4497</td>\n",
              "      <td>1393</td>\n",
              "      <td>5890</td>\n",
              "    </tr>\n",
              "    <tr>\n",
              "      <th>Yes</th>\n",
              "      <td>666</td>\n",
              "      <td>476</td>\n",
              "      <td>1142</td>\n",
              "    </tr>\n",
              "    <tr>\n",
              "      <th>All</th>\n",
              "      <td>5163</td>\n",
              "      <td>1869</td>\n",
              "      <td>7032</td>\n",
              "    </tr>\n",
              "  </tbody>\n",
              "</table>\n",
              "</div>\n",
              "      <button class=\"colab-df-convert\" onclick=\"convertToInteractive('df-d9040908-024c-47ce-877c-31b8605435a8')\"\n",
              "              title=\"Convert this dataframe to an interactive table.\"\n",
              "              style=\"display:none;\">\n",
              "        \n",
              "  <svg xmlns=\"http://www.w3.org/2000/svg\" height=\"24px\"viewBox=\"0 0 24 24\"\n",
              "       width=\"24px\">\n",
              "    <path d=\"M0 0h24v24H0V0z\" fill=\"none\"/>\n",
              "    <path d=\"M18.56 5.44l.94 2.06.94-2.06 2.06-.94-2.06-.94-.94-2.06-.94 2.06-2.06.94zm-11 1L8.5 8.5l.94-2.06 2.06-.94-2.06-.94L8.5 2.5l-.94 2.06-2.06.94zm10 10l.94 2.06.94-2.06 2.06-.94-2.06-.94-.94-2.06-.94 2.06-2.06.94z\"/><path d=\"M17.41 7.96l-1.37-1.37c-.4-.4-.92-.59-1.43-.59-.52 0-1.04.2-1.43.59L10.3 9.45l-7.72 7.72c-.78.78-.78 2.05 0 2.83L4 21.41c.39.39.9.59 1.41.59.51 0 1.02-.2 1.41-.59l7.78-7.78 2.81-2.81c.8-.78.8-2.07 0-2.86zM5.41 20L4 18.59l7.72-7.72 1.47 1.35L5.41 20z\"/>\n",
              "  </svg>\n",
              "      </button>\n",
              "      \n",
              "  <style>\n",
              "    .colab-df-container {\n",
              "      display:flex;\n",
              "      flex-wrap:wrap;\n",
              "      gap: 12px;\n",
              "    }\n",
              "\n",
              "    .colab-df-convert {\n",
              "      background-color: #E8F0FE;\n",
              "      border: none;\n",
              "      border-radius: 50%;\n",
              "      cursor: pointer;\n",
              "      display: none;\n",
              "      fill: #1967D2;\n",
              "      height: 32px;\n",
              "      padding: 0 0 0 0;\n",
              "      width: 32px;\n",
              "    }\n",
              "\n",
              "    .colab-df-convert:hover {\n",
              "      background-color: #E2EBFA;\n",
              "      box-shadow: 0px 1px 2px rgba(60, 64, 67, 0.3), 0px 1px 3px 1px rgba(60, 64, 67, 0.15);\n",
              "      fill: #174EA6;\n",
              "    }\n",
              "\n",
              "    [theme=dark] .colab-df-convert {\n",
              "      background-color: #3B4455;\n",
              "      fill: #D2E3FC;\n",
              "    }\n",
              "\n",
              "    [theme=dark] .colab-df-convert:hover {\n",
              "      background-color: #434B5C;\n",
              "      box-shadow: 0px 1px 3px 1px rgba(0, 0, 0, 0.15);\n",
              "      filter: drop-shadow(0px 1px 2px rgba(0, 0, 0, 0.3));\n",
              "      fill: #FFFFFF;\n",
              "    }\n",
              "  </style>\n",
              "\n",
              "      <script>\n",
              "        const buttonEl =\n",
              "          document.querySelector('#df-d9040908-024c-47ce-877c-31b8605435a8 button.colab-df-convert');\n",
              "        buttonEl.style.display =\n",
              "          google.colab.kernel.accessAllowed ? 'block' : 'none';\n",
              "\n",
              "        async function convertToInteractive(key) {\n",
              "          const element = document.querySelector('#df-d9040908-024c-47ce-877c-31b8605435a8');\n",
              "          const dataTable =\n",
              "            await google.colab.kernel.invokeFunction('convertToInteractive',\n",
              "                                                     [key], {});\n",
              "          if (!dataTable) return;\n",
              "\n",
              "          const docLinkHtml = 'Like what you see? Visit the ' +\n",
              "            '<a target=\"_blank\" href=https://colab.research.google.com/notebooks/data_table.ipynb>data table notebook</a>'\n",
              "            + ' to learn more about interactive tables.';\n",
              "          element.innerHTML = '';\n",
              "          dataTable['output_type'] = 'display_data';\n",
              "          await google.colab.output.renderOutput(dataTable, element);\n",
              "          const docLink = document.createElement('div');\n",
              "          docLink.innerHTML = docLinkHtml;\n",
              "          element.appendChild(docLink);\n",
              "        }\n",
              "      </script>\n",
              "    </div>\n",
              "  </div>\n",
              "  "
            ]
          },
          "metadata": {},
          "execution_count": 275
        }
      ]
    },
    {
      "cell_type": "code",
      "source": [
        "# contingency table for partner by churn status\n",
        "pd.crosstab(telco.Partner, telco.Churn, margins=True)"
      ],
      "metadata": {
        "colab": {
          "base_uri": "https://localhost:8080/",
          "height": 175
        },
        "id": "YJoT-KmKz-pU",
        "outputId": "68d4150c-f1dc-4d57-b0f4-8d6fb73993da"
      },
      "execution_count": 276,
      "outputs": [
        {
          "output_type": "execute_result",
          "data": {
            "text/plain": [
              "Churn       0     1   All\n",
              "Partner                  \n",
              "No       2439  1200  3639\n",
              "Yes      2724   669  3393\n",
              "All      5163  1869  7032"
            ],
            "text/html": [
              "\n",
              "  <div id=\"df-df541699-788f-49bc-977f-f8fc9989af24\">\n",
              "    <div class=\"colab-df-container\">\n",
              "      <div>\n",
              "<style scoped>\n",
              "    .dataframe tbody tr th:only-of-type {\n",
              "        vertical-align: middle;\n",
              "    }\n",
              "\n",
              "    .dataframe tbody tr th {\n",
              "        vertical-align: top;\n",
              "    }\n",
              "\n",
              "    .dataframe thead th {\n",
              "        text-align: right;\n",
              "    }\n",
              "</style>\n",
              "<table border=\"1\" class=\"dataframe\">\n",
              "  <thead>\n",
              "    <tr style=\"text-align: right;\">\n",
              "      <th>Churn</th>\n",
              "      <th>0</th>\n",
              "      <th>1</th>\n",
              "      <th>All</th>\n",
              "    </tr>\n",
              "    <tr>\n",
              "      <th>Partner</th>\n",
              "      <th></th>\n",
              "      <th></th>\n",
              "      <th></th>\n",
              "    </tr>\n",
              "  </thead>\n",
              "  <tbody>\n",
              "    <tr>\n",
              "      <th>No</th>\n",
              "      <td>2439</td>\n",
              "      <td>1200</td>\n",
              "      <td>3639</td>\n",
              "    </tr>\n",
              "    <tr>\n",
              "      <th>Yes</th>\n",
              "      <td>2724</td>\n",
              "      <td>669</td>\n",
              "      <td>3393</td>\n",
              "    </tr>\n",
              "    <tr>\n",
              "      <th>All</th>\n",
              "      <td>5163</td>\n",
              "      <td>1869</td>\n",
              "      <td>7032</td>\n",
              "    </tr>\n",
              "  </tbody>\n",
              "</table>\n",
              "</div>\n",
              "      <button class=\"colab-df-convert\" onclick=\"convertToInteractive('df-df541699-788f-49bc-977f-f8fc9989af24')\"\n",
              "              title=\"Convert this dataframe to an interactive table.\"\n",
              "              style=\"display:none;\">\n",
              "        \n",
              "  <svg xmlns=\"http://www.w3.org/2000/svg\" height=\"24px\"viewBox=\"0 0 24 24\"\n",
              "       width=\"24px\">\n",
              "    <path d=\"M0 0h24v24H0V0z\" fill=\"none\"/>\n",
              "    <path d=\"M18.56 5.44l.94 2.06.94-2.06 2.06-.94-2.06-.94-.94-2.06-.94 2.06-2.06.94zm-11 1L8.5 8.5l.94-2.06 2.06-.94-2.06-.94L8.5 2.5l-.94 2.06-2.06.94zm10 10l.94 2.06.94-2.06 2.06-.94-2.06-.94-.94-2.06-.94 2.06-2.06.94z\"/><path d=\"M17.41 7.96l-1.37-1.37c-.4-.4-.92-.59-1.43-.59-.52 0-1.04.2-1.43.59L10.3 9.45l-7.72 7.72c-.78.78-.78 2.05 0 2.83L4 21.41c.39.39.9.59 1.41.59.51 0 1.02-.2 1.41-.59l7.78-7.78 2.81-2.81c.8-.78.8-2.07 0-2.86zM5.41 20L4 18.59l7.72-7.72 1.47 1.35L5.41 20z\"/>\n",
              "  </svg>\n",
              "      </button>\n",
              "      \n",
              "  <style>\n",
              "    .colab-df-container {\n",
              "      display:flex;\n",
              "      flex-wrap:wrap;\n",
              "      gap: 12px;\n",
              "    }\n",
              "\n",
              "    .colab-df-convert {\n",
              "      background-color: #E8F0FE;\n",
              "      border: none;\n",
              "      border-radius: 50%;\n",
              "      cursor: pointer;\n",
              "      display: none;\n",
              "      fill: #1967D2;\n",
              "      height: 32px;\n",
              "      padding: 0 0 0 0;\n",
              "      width: 32px;\n",
              "    }\n",
              "\n",
              "    .colab-df-convert:hover {\n",
              "      background-color: #E2EBFA;\n",
              "      box-shadow: 0px 1px 2px rgba(60, 64, 67, 0.3), 0px 1px 3px 1px rgba(60, 64, 67, 0.15);\n",
              "      fill: #174EA6;\n",
              "    }\n",
              "\n",
              "    [theme=dark] .colab-df-convert {\n",
              "      background-color: #3B4455;\n",
              "      fill: #D2E3FC;\n",
              "    }\n",
              "\n",
              "    [theme=dark] .colab-df-convert:hover {\n",
              "      background-color: #434B5C;\n",
              "      box-shadow: 0px 1px 3px 1px rgba(0, 0, 0, 0.15);\n",
              "      filter: drop-shadow(0px 1px 2px rgba(0, 0, 0, 0.3));\n",
              "      fill: #FFFFFF;\n",
              "    }\n",
              "  </style>\n",
              "\n",
              "      <script>\n",
              "        const buttonEl =\n",
              "          document.querySelector('#df-df541699-788f-49bc-977f-f8fc9989af24 button.colab-df-convert');\n",
              "        buttonEl.style.display =\n",
              "          google.colab.kernel.accessAllowed ? 'block' : 'none';\n",
              "\n",
              "        async function convertToInteractive(key) {\n",
              "          const element = document.querySelector('#df-df541699-788f-49bc-977f-f8fc9989af24');\n",
              "          const dataTable =\n",
              "            await google.colab.kernel.invokeFunction('convertToInteractive',\n",
              "                                                     [key], {});\n",
              "          if (!dataTable) return;\n",
              "\n",
              "          const docLinkHtml = 'Like what you see? Visit the ' +\n",
              "            '<a target=\"_blank\" href=https://colab.research.google.com/notebooks/data_table.ipynb>data table notebook</a>'\n",
              "            + ' to learn more about interactive tables.';\n",
              "          element.innerHTML = '';\n",
              "          dataTable['output_type'] = 'display_data';\n",
              "          await google.colab.output.renderOutput(dataTable, element);\n",
              "          const docLink = document.createElement('div');\n",
              "          docLink.innerHTML = docLinkHtml;\n",
              "          element.appendChild(docLink);\n",
              "        }\n",
              "      </script>\n",
              "    </div>\n",
              "  </div>\n",
              "  "
            ]
          },
          "metadata": {},
          "execution_count": 276
        }
      ]
    },
    {
      "cell_type": "code",
      "source": [
        "# contingency table for dependents by churn status\n",
        "pd.crosstab(telco.Dependents, telco.Churn, margins=True)"
      ],
      "metadata": {
        "colab": {
          "base_uri": "https://localhost:8080/",
          "height": 175
        },
        "id": "TjLysD8Wz_HY",
        "outputId": "d8fade7f-3b75-404e-cb30-01964b561bd5"
      },
      "execution_count": 277,
      "outputs": [
        {
          "output_type": "execute_result",
          "data": {
            "text/plain": [
              "Churn          0     1   All\n",
              "Dependents                  \n",
              "No          3390  1543  4933\n",
              "Yes         1773   326  2099\n",
              "All         5163  1869  7032"
            ],
            "text/html": [
              "\n",
              "  <div id=\"df-540bf0a4-c557-431a-8f8a-11cd79992fb1\">\n",
              "    <div class=\"colab-df-container\">\n",
              "      <div>\n",
              "<style scoped>\n",
              "    .dataframe tbody tr th:only-of-type {\n",
              "        vertical-align: middle;\n",
              "    }\n",
              "\n",
              "    .dataframe tbody tr th {\n",
              "        vertical-align: top;\n",
              "    }\n",
              "\n",
              "    .dataframe thead th {\n",
              "        text-align: right;\n",
              "    }\n",
              "</style>\n",
              "<table border=\"1\" class=\"dataframe\">\n",
              "  <thead>\n",
              "    <tr style=\"text-align: right;\">\n",
              "      <th>Churn</th>\n",
              "      <th>0</th>\n",
              "      <th>1</th>\n",
              "      <th>All</th>\n",
              "    </tr>\n",
              "    <tr>\n",
              "      <th>Dependents</th>\n",
              "      <th></th>\n",
              "      <th></th>\n",
              "      <th></th>\n",
              "    </tr>\n",
              "  </thead>\n",
              "  <tbody>\n",
              "    <tr>\n",
              "      <th>No</th>\n",
              "      <td>3390</td>\n",
              "      <td>1543</td>\n",
              "      <td>4933</td>\n",
              "    </tr>\n",
              "    <tr>\n",
              "      <th>Yes</th>\n",
              "      <td>1773</td>\n",
              "      <td>326</td>\n",
              "      <td>2099</td>\n",
              "    </tr>\n",
              "    <tr>\n",
              "      <th>All</th>\n",
              "      <td>5163</td>\n",
              "      <td>1869</td>\n",
              "      <td>7032</td>\n",
              "    </tr>\n",
              "  </tbody>\n",
              "</table>\n",
              "</div>\n",
              "      <button class=\"colab-df-convert\" onclick=\"convertToInteractive('df-540bf0a4-c557-431a-8f8a-11cd79992fb1')\"\n",
              "              title=\"Convert this dataframe to an interactive table.\"\n",
              "              style=\"display:none;\">\n",
              "        \n",
              "  <svg xmlns=\"http://www.w3.org/2000/svg\" height=\"24px\"viewBox=\"0 0 24 24\"\n",
              "       width=\"24px\">\n",
              "    <path d=\"M0 0h24v24H0V0z\" fill=\"none\"/>\n",
              "    <path d=\"M18.56 5.44l.94 2.06.94-2.06 2.06-.94-2.06-.94-.94-2.06-.94 2.06-2.06.94zm-11 1L8.5 8.5l.94-2.06 2.06-.94-2.06-.94L8.5 2.5l-.94 2.06-2.06.94zm10 10l.94 2.06.94-2.06 2.06-.94-2.06-.94-.94-2.06-.94 2.06-2.06.94z\"/><path d=\"M17.41 7.96l-1.37-1.37c-.4-.4-.92-.59-1.43-.59-.52 0-1.04.2-1.43.59L10.3 9.45l-7.72 7.72c-.78.78-.78 2.05 0 2.83L4 21.41c.39.39.9.59 1.41.59.51 0 1.02-.2 1.41-.59l7.78-7.78 2.81-2.81c.8-.78.8-2.07 0-2.86zM5.41 20L4 18.59l7.72-7.72 1.47 1.35L5.41 20z\"/>\n",
              "  </svg>\n",
              "      </button>\n",
              "      \n",
              "  <style>\n",
              "    .colab-df-container {\n",
              "      display:flex;\n",
              "      flex-wrap:wrap;\n",
              "      gap: 12px;\n",
              "    }\n",
              "\n",
              "    .colab-df-convert {\n",
              "      background-color: #E8F0FE;\n",
              "      border: none;\n",
              "      border-radius: 50%;\n",
              "      cursor: pointer;\n",
              "      display: none;\n",
              "      fill: #1967D2;\n",
              "      height: 32px;\n",
              "      padding: 0 0 0 0;\n",
              "      width: 32px;\n",
              "    }\n",
              "\n",
              "    .colab-df-convert:hover {\n",
              "      background-color: #E2EBFA;\n",
              "      box-shadow: 0px 1px 2px rgba(60, 64, 67, 0.3), 0px 1px 3px 1px rgba(60, 64, 67, 0.15);\n",
              "      fill: #174EA6;\n",
              "    }\n",
              "\n",
              "    [theme=dark] .colab-df-convert {\n",
              "      background-color: #3B4455;\n",
              "      fill: #D2E3FC;\n",
              "    }\n",
              "\n",
              "    [theme=dark] .colab-df-convert:hover {\n",
              "      background-color: #434B5C;\n",
              "      box-shadow: 0px 1px 3px 1px rgba(0, 0, 0, 0.15);\n",
              "      filter: drop-shadow(0px 1px 2px rgba(0, 0, 0, 0.3));\n",
              "      fill: #FFFFFF;\n",
              "    }\n",
              "  </style>\n",
              "\n",
              "      <script>\n",
              "        const buttonEl =\n",
              "          document.querySelector('#df-540bf0a4-c557-431a-8f8a-11cd79992fb1 button.colab-df-convert');\n",
              "        buttonEl.style.display =\n",
              "          google.colab.kernel.accessAllowed ? 'block' : 'none';\n",
              "\n",
              "        async function convertToInteractive(key) {\n",
              "          const element = document.querySelector('#df-540bf0a4-c557-431a-8f8a-11cd79992fb1');\n",
              "          const dataTable =\n",
              "            await google.colab.kernel.invokeFunction('convertToInteractive',\n",
              "                                                     [key], {});\n",
              "          if (!dataTable) return;\n",
              "\n",
              "          const docLinkHtml = 'Like what you see? Visit the ' +\n",
              "            '<a target=\"_blank\" href=https://colab.research.google.com/notebooks/data_table.ipynb>data table notebook</a>'\n",
              "            + ' to learn more about interactive tables.';\n",
              "          element.innerHTML = '';\n",
              "          dataTable['output_type'] = 'display_data';\n",
              "          await google.colab.output.renderOutput(dataTable, element);\n",
              "          const docLink = document.createElement('div');\n",
              "          docLink.innerHTML = docLinkHtml;\n",
              "          element.appendChild(docLink);\n",
              "        }\n",
              "      </script>\n",
              "    </div>\n",
              "  </div>\n",
              "  "
            ]
          },
          "metadata": {},
          "execution_count": 277
        }
      ]
    },
    {
      "cell_type": "markdown",
      "source": [
        "### 2.4 - Customer Account Info"
      ],
      "metadata": {
        "id": "qe9l3-CodxbV"
      }
    },
    {
      "cell_type": "code",
      "source": [
        "# contingency table for phoneservice by churn status\n",
        "pd.crosstab(telco.PhoneService, telco.Churn, margins=True)"
      ],
      "metadata": {
        "colab": {
          "base_uri": "https://localhost:8080/",
          "height": 175
        },
        "id": "LjvLSHVWmZ0V",
        "outputId": "7c2fbe5d-69f5-4d6e-f43f-dcf10f73cd51"
      },
      "execution_count": 278,
      "outputs": [
        {
          "output_type": "execute_result",
          "data": {
            "text/plain": [
              "Churn            0     1   All\n",
              "PhoneService                  \n",
              "No             510   170   680\n",
              "Yes           4653  1699  6352\n",
              "All           5163  1869  7032"
            ],
            "text/html": [
              "\n",
              "  <div id=\"df-e0812264-1a55-4a56-9ba1-2c2695b7f885\">\n",
              "    <div class=\"colab-df-container\">\n",
              "      <div>\n",
              "<style scoped>\n",
              "    .dataframe tbody tr th:only-of-type {\n",
              "        vertical-align: middle;\n",
              "    }\n",
              "\n",
              "    .dataframe tbody tr th {\n",
              "        vertical-align: top;\n",
              "    }\n",
              "\n",
              "    .dataframe thead th {\n",
              "        text-align: right;\n",
              "    }\n",
              "</style>\n",
              "<table border=\"1\" class=\"dataframe\">\n",
              "  <thead>\n",
              "    <tr style=\"text-align: right;\">\n",
              "      <th>Churn</th>\n",
              "      <th>0</th>\n",
              "      <th>1</th>\n",
              "      <th>All</th>\n",
              "    </tr>\n",
              "    <tr>\n",
              "      <th>PhoneService</th>\n",
              "      <th></th>\n",
              "      <th></th>\n",
              "      <th></th>\n",
              "    </tr>\n",
              "  </thead>\n",
              "  <tbody>\n",
              "    <tr>\n",
              "      <th>No</th>\n",
              "      <td>510</td>\n",
              "      <td>170</td>\n",
              "      <td>680</td>\n",
              "    </tr>\n",
              "    <tr>\n",
              "      <th>Yes</th>\n",
              "      <td>4653</td>\n",
              "      <td>1699</td>\n",
              "      <td>6352</td>\n",
              "    </tr>\n",
              "    <tr>\n",
              "      <th>All</th>\n",
              "      <td>5163</td>\n",
              "      <td>1869</td>\n",
              "      <td>7032</td>\n",
              "    </tr>\n",
              "  </tbody>\n",
              "</table>\n",
              "</div>\n",
              "      <button class=\"colab-df-convert\" onclick=\"convertToInteractive('df-e0812264-1a55-4a56-9ba1-2c2695b7f885')\"\n",
              "              title=\"Convert this dataframe to an interactive table.\"\n",
              "              style=\"display:none;\">\n",
              "        \n",
              "  <svg xmlns=\"http://www.w3.org/2000/svg\" height=\"24px\"viewBox=\"0 0 24 24\"\n",
              "       width=\"24px\">\n",
              "    <path d=\"M0 0h24v24H0V0z\" fill=\"none\"/>\n",
              "    <path d=\"M18.56 5.44l.94 2.06.94-2.06 2.06-.94-2.06-.94-.94-2.06-.94 2.06-2.06.94zm-11 1L8.5 8.5l.94-2.06 2.06-.94-2.06-.94L8.5 2.5l-.94 2.06-2.06.94zm10 10l.94 2.06.94-2.06 2.06-.94-2.06-.94-.94-2.06-.94 2.06-2.06.94z\"/><path d=\"M17.41 7.96l-1.37-1.37c-.4-.4-.92-.59-1.43-.59-.52 0-1.04.2-1.43.59L10.3 9.45l-7.72 7.72c-.78.78-.78 2.05 0 2.83L4 21.41c.39.39.9.59 1.41.59.51 0 1.02-.2 1.41-.59l7.78-7.78 2.81-2.81c.8-.78.8-2.07 0-2.86zM5.41 20L4 18.59l7.72-7.72 1.47 1.35L5.41 20z\"/>\n",
              "  </svg>\n",
              "      </button>\n",
              "      \n",
              "  <style>\n",
              "    .colab-df-container {\n",
              "      display:flex;\n",
              "      flex-wrap:wrap;\n",
              "      gap: 12px;\n",
              "    }\n",
              "\n",
              "    .colab-df-convert {\n",
              "      background-color: #E8F0FE;\n",
              "      border: none;\n",
              "      border-radius: 50%;\n",
              "      cursor: pointer;\n",
              "      display: none;\n",
              "      fill: #1967D2;\n",
              "      height: 32px;\n",
              "      padding: 0 0 0 0;\n",
              "      width: 32px;\n",
              "    }\n",
              "\n",
              "    .colab-df-convert:hover {\n",
              "      background-color: #E2EBFA;\n",
              "      box-shadow: 0px 1px 2px rgba(60, 64, 67, 0.3), 0px 1px 3px 1px rgba(60, 64, 67, 0.15);\n",
              "      fill: #174EA6;\n",
              "    }\n",
              "\n",
              "    [theme=dark] .colab-df-convert {\n",
              "      background-color: #3B4455;\n",
              "      fill: #D2E3FC;\n",
              "    }\n",
              "\n",
              "    [theme=dark] .colab-df-convert:hover {\n",
              "      background-color: #434B5C;\n",
              "      box-shadow: 0px 1px 3px 1px rgba(0, 0, 0, 0.15);\n",
              "      filter: drop-shadow(0px 1px 2px rgba(0, 0, 0, 0.3));\n",
              "      fill: #FFFFFF;\n",
              "    }\n",
              "  </style>\n",
              "\n",
              "      <script>\n",
              "        const buttonEl =\n",
              "          document.querySelector('#df-e0812264-1a55-4a56-9ba1-2c2695b7f885 button.colab-df-convert');\n",
              "        buttonEl.style.display =\n",
              "          google.colab.kernel.accessAllowed ? 'block' : 'none';\n",
              "\n",
              "        async function convertToInteractive(key) {\n",
              "          const element = document.querySelector('#df-e0812264-1a55-4a56-9ba1-2c2695b7f885');\n",
              "          const dataTable =\n",
              "            await google.colab.kernel.invokeFunction('convertToInteractive',\n",
              "                                                     [key], {});\n",
              "          if (!dataTable) return;\n",
              "\n",
              "          const docLinkHtml = 'Like what you see? Visit the ' +\n",
              "            '<a target=\"_blank\" href=https://colab.research.google.com/notebooks/data_table.ipynb>data table notebook</a>'\n",
              "            + ' to learn more about interactive tables.';\n",
              "          element.innerHTML = '';\n",
              "          dataTable['output_type'] = 'display_data';\n",
              "          await google.colab.output.renderOutput(dataTable, element);\n",
              "          const docLink = document.createElement('div');\n",
              "          docLink.innerHTML = docLinkHtml;\n",
              "          element.appendChild(docLink);\n",
              "        }\n",
              "      </script>\n",
              "    </div>\n",
              "  </div>\n",
              "  "
            ]
          },
          "metadata": {},
          "execution_count": 278
        }
      ]
    },
    {
      "cell_type": "code",
      "source": [
        "# contingency table for internetservice by churn status\n",
        "pd.crosstab(telco.InternetService, telco.Churn, margins=True)"
      ],
      "metadata": {
        "colab": {
          "base_uri": "https://localhost:8080/",
          "height": 206
        },
        "id": "JST75vUDm7tA",
        "outputId": "0206bd26-3925-454d-ca79-3248be23f7f8"
      },
      "execution_count": 279,
      "outputs": [
        {
          "output_type": "execute_result",
          "data": {
            "text/plain": [
              "Churn               0     1   All\n",
              "InternetService                  \n",
              "DSL              1957   459  2416\n",
              "Fiber optic      1799  1297  3096\n",
              "No               1407   113  1520\n",
              "All              5163  1869  7032"
            ],
            "text/html": [
              "\n",
              "  <div id=\"df-e89f4260-f09b-476e-83d3-738e7277d340\">\n",
              "    <div class=\"colab-df-container\">\n",
              "      <div>\n",
              "<style scoped>\n",
              "    .dataframe tbody tr th:only-of-type {\n",
              "        vertical-align: middle;\n",
              "    }\n",
              "\n",
              "    .dataframe tbody tr th {\n",
              "        vertical-align: top;\n",
              "    }\n",
              "\n",
              "    .dataframe thead th {\n",
              "        text-align: right;\n",
              "    }\n",
              "</style>\n",
              "<table border=\"1\" class=\"dataframe\">\n",
              "  <thead>\n",
              "    <tr style=\"text-align: right;\">\n",
              "      <th>Churn</th>\n",
              "      <th>0</th>\n",
              "      <th>1</th>\n",
              "      <th>All</th>\n",
              "    </tr>\n",
              "    <tr>\n",
              "      <th>InternetService</th>\n",
              "      <th></th>\n",
              "      <th></th>\n",
              "      <th></th>\n",
              "    </tr>\n",
              "  </thead>\n",
              "  <tbody>\n",
              "    <tr>\n",
              "      <th>DSL</th>\n",
              "      <td>1957</td>\n",
              "      <td>459</td>\n",
              "      <td>2416</td>\n",
              "    </tr>\n",
              "    <tr>\n",
              "      <th>Fiber optic</th>\n",
              "      <td>1799</td>\n",
              "      <td>1297</td>\n",
              "      <td>3096</td>\n",
              "    </tr>\n",
              "    <tr>\n",
              "      <th>No</th>\n",
              "      <td>1407</td>\n",
              "      <td>113</td>\n",
              "      <td>1520</td>\n",
              "    </tr>\n",
              "    <tr>\n",
              "      <th>All</th>\n",
              "      <td>5163</td>\n",
              "      <td>1869</td>\n",
              "      <td>7032</td>\n",
              "    </tr>\n",
              "  </tbody>\n",
              "</table>\n",
              "</div>\n",
              "      <button class=\"colab-df-convert\" onclick=\"convertToInteractive('df-e89f4260-f09b-476e-83d3-738e7277d340')\"\n",
              "              title=\"Convert this dataframe to an interactive table.\"\n",
              "              style=\"display:none;\">\n",
              "        \n",
              "  <svg xmlns=\"http://www.w3.org/2000/svg\" height=\"24px\"viewBox=\"0 0 24 24\"\n",
              "       width=\"24px\">\n",
              "    <path d=\"M0 0h24v24H0V0z\" fill=\"none\"/>\n",
              "    <path d=\"M18.56 5.44l.94 2.06.94-2.06 2.06-.94-2.06-.94-.94-2.06-.94 2.06-2.06.94zm-11 1L8.5 8.5l.94-2.06 2.06-.94-2.06-.94L8.5 2.5l-.94 2.06-2.06.94zm10 10l.94 2.06.94-2.06 2.06-.94-2.06-.94-.94-2.06-.94 2.06-2.06.94z\"/><path d=\"M17.41 7.96l-1.37-1.37c-.4-.4-.92-.59-1.43-.59-.52 0-1.04.2-1.43.59L10.3 9.45l-7.72 7.72c-.78.78-.78 2.05 0 2.83L4 21.41c.39.39.9.59 1.41.59.51 0 1.02-.2 1.41-.59l7.78-7.78 2.81-2.81c.8-.78.8-2.07 0-2.86zM5.41 20L4 18.59l7.72-7.72 1.47 1.35L5.41 20z\"/>\n",
              "  </svg>\n",
              "      </button>\n",
              "      \n",
              "  <style>\n",
              "    .colab-df-container {\n",
              "      display:flex;\n",
              "      flex-wrap:wrap;\n",
              "      gap: 12px;\n",
              "    }\n",
              "\n",
              "    .colab-df-convert {\n",
              "      background-color: #E8F0FE;\n",
              "      border: none;\n",
              "      border-radius: 50%;\n",
              "      cursor: pointer;\n",
              "      display: none;\n",
              "      fill: #1967D2;\n",
              "      height: 32px;\n",
              "      padding: 0 0 0 0;\n",
              "      width: 32px;\n",
              "    }\n",
              "\n",
              "    .colab-df-convert:hover {\n",
              "      background-color: #E2EBFA;\n",
              "      box-shadow: 0px 1px 2px rgba(60, 64, 67, 0.3), 0px 1px 3px 1px rgba(60, 64, 67, 0.15);\n",
              "      fill: #174EA6;\n",
              "    }\n",
              "\n",
              "    [theme=dark] .colab-df-convert {\n",
              "      background-color: #3B4455;\n",
              "      fill: #D2E3FC;\n",
              "    }\n",
              "\n",
              "    [theme=dark] .colab-df-convert:hover {\n",
              "      background-color: #434B5C;\n",
              "      box-shadow: 0px 1px 3px 1px rgba(0, 0, 0, 0.15);\n",
              "      filter: drop-shadow(0px 1px 2px rgba(0, 0, 0, 0.3));\n",
              "      fill: #FFFFFF;\n",
              "    }\n",
              "  </style>\n",
              "\n",
              "      <script>\n",
              "        const buttonEl =\n",
              "          document.querySelector('#df-e89f4260-f09b-476e-83d3-738e7277d340 button.colab-df-convert');\n",
              "        buttonEl.style.display =\n",
              "          google.colab.kernel.accessAllowed ? 'block' : 'none';\n",
              "\n",
              "        async function convertToInteractive(key) {\n",
              "          const element = document.querySelector('#df-e89f4260-f09b-476e-83d3-738e7277d340');\n",
              "          const dataTable =\n",
              "            await google.colab.kernel.invokeFunction('convertToInteractive',\n",
              "                                                     [key], {});\n",
              "          if (!dataTable) return;\n",
              "\n",
              "          const docLinkHtml = 'Like what you see? Visit the ' +\n",
              "            '<a target=\"_blank\" href=https://colab.research.google.com/notebooks/data_table.ipynb>data table notebook</a>'\n",
              "            + ' to learn more about interactive tables.';\n",
              "          element.innerHTML = '';\n",
              "          dataTable['output_type'] = 'display_data';\n",
              "          await google.colab.output.renderOutput(dataTable, element);\n",
              "          const docLink = document.createElement('div');\n",
              "          docLink.innerHTML = docLinkHtml;\n",
              "          element.appendChild(docLink);\n",
              "        }\n",
              "      </script>\n",
              "    </div>\n",
              "  </div>\n",
              "  "
            ]
          },
          "metadata": {},
          "execution_count": 279
        }
      ]
    },
    {
      "cell_type": "code",
      "source": [
        "# contingency table for internetservice by churn status, shown as proportion of each column\n",
        "pd.crosstab(telco.InternetService, telco.Churn, margins=True, normalize='columns')"
      ],
      "metadata": {
        "colab": {
          "base_uri": "https://localhost:8080/",
          "height": 175
        },
        "id": "x52-KxiRsMVs",
        "outputId": "f668eb27-96f5-421f-9e20-53bbb4dbd621"
      },
      "execution_count": 280,
      "outputs": [
        {
          "output_type": "execute_result",
          "data": {
            "text/plain": [
              "Churn                   0         1       All\n",
              "InternetService                              \n",
              "DSL              0.379043  0.245586  0.343572\n",
              "Fiber optic      0.348441  0.693954  0.440273\n",
              "No               0.272516  0.060460  0.216155"
            ],
            "text/html": [
              "\n",
              "  <div id=\"df-84b02ab9-7d71-4ce4-a74a-6716edf57a5b\">\n",
              "    <div class=\"colab-df-container\">\n",
              "      <div>\n",
              "<style scoped>\n",
              "    .dataframe tbody tr th:only-of-type {\n",
              "        vertical-align: middle;\n",
              "    }\n",
              "\n",
              "    .dataframe tbody tr th {\n",
              "        vertical-align: top;\n",
              "    }\n",
              "\n",
              "    .dataframe thead th {\n",
              "        text-align: right;\n",
              "    }\n",
              "</style>\n",
              "<table border=\"1\" class=\"dataframe\">\n",
              "  <thead>\n",
              "    <tr style=\"text-align: right;\">\n",
              "      <th>Churn</th>\n",
              "      <th>0</th>\n",
              "      <th>1</th>\n",
              "      <th>All</th>\n",
              "    </tr>\n",
              "    <tr>\n",
              "      <th>InternetService</th>\n",
              "      <th></th>\n",
              "      <th></th>\n",
              "      <th></th>\n",
              "    </tr>\n",
              "  </thead>\n",
              "  <tbody>\n",
              "    <tr>\n",
              "      <th>DSL</th>\n",
              "      <td>0.379043</td>\n",
              "      <td>0.245586</td>\n",
              "      <td>0.343572</td>\n",
              "    </tr>\n",
              "    <tr>\n",
              "      <th>Fiber optic</th>\n",
              "      <td>0.348441</td>\n",
              "      <td>0.693954</td>\n",
              "      <td>0.440273</td>\n",
              "    </tr>\n",
              "    <tr>\n",
              "      <th>No</th>\n",
              "      <td>0.272516</td>\n",
              "      <td>0.060460</td>\n",
              "      <td>0.216155</td>\n",
              "    </tr>\n",
              "  </tbody>\n",
              "</table>\n",
              "</div>\n",
              "      <button class=\"colab-df-convert\" onclick=\"convertToInteractive('df-84b02ab9-7d71-4ce4-a74a-6716edf57a5b')\"\n",
              "              title=\"Convert this dataframe to an interactive table.\"\n",
              "              style=\"display:none;\">\n",
              "        \n",
              "  <svg xmlns=\"http://www.w3.org/2000/svg\" height=\"24px\"viewBox=\"0 0 24 24\"\n",
              "       width=\"24px\">\n",
              "    <path d=\"M0 0h24v24H0V0z\" fill=\"none\"/>\n",
              "    <path d=\"M18.56 5.44l.94 2.06.94-2.06 2.06-.94-2.06-.94-.94-2.06-.94 2.06-2.06.94zm-11 1L8.5 8.5l.94-2.06 2.06-.94-2.06-.94L8.5 2.5l-.94 2.06-2.06.94zm10 10l.94 2.06.94-2.06 2.06-.94-2.06-.94-.94-2.06-.94 2.06-2.06.94z\"/><path d=\"M17.41 7.96l-1.37-1.37c-.4-.4-.92-.59-1.43-.59-.52 0-1.04.2-1.43.59L10.3 9.45l-7.72 7.72c-.78.78-.78 2.05 0 2.83L4 21.41c.39.39.9.59 1.41.59.51 0 1.02-.2 1.41-.59l7.78-7.78 2.81-2.81c.8-.78.8-2.07 0-2.86zM5.41 20L4 18.59l7.72-7.72 1.47 1.35L5.41 20z\"/>\n",
              "  </svg>\n",
              "      </button>\n",
              "      \n",
              "  <style>\n",
              "    .colab-df-container {\n",
              "      display:flex;\n",
              "      flex-wrap:wrap;\n",
              "      gap: 12px;\n",
              "    }\n",
              "\n",
              "    .colab-df-convert {\n",
              "      background-color: #E8F0FE;\n",
              "      border: none;\n",
              "      border-radius: 50%;\n",
              "      cursor: pointer;\n",
              "      display: none;\n",
              "      fill: #1967D2;\n",
              "      height: 32px;\n",
              "      padding: 0 0 0 0;\n",
              "      width: 32px;\n",
              "    }\n",
              "\n",
              "    .colab-df-convert:hover {\n",
              "      background-color: #E2EBFA;\n",
              "      box-shadow: 0px 1px 2px rgba(60, 64, 67, 0.3), 0px 1px 3px 1px rgba(60, 64, 67, 0.15);\n",
              "      fill: #174EA6;\n",
              "    }\n",
              "\n",
              "    [theme=dark] .colab-df-convert {\n",
              "      background-color: #3B4455;\n",
              "      fill: #D2E3FC;\n",
              "    }\n",
              "\n",
              "    [theme=dark] .colab-df-convert:hover {\n",
              "      background-color: #434B5C;\n",
              "      box-shadow: 0px 1px 3px 1px rgba(0, 0, 0, 0.15);\n",
              "      filter: drop-shadow(0px 1px 2px rgba(0, 0, 0, 0.3));\n",
              "      fill: #FFFFFF;\n",
              "    }\n",
              "  </style>\n",
              "\n",
              "      <script>\n",
              "        const buttonEl =\n",
              "          document.querySelector('#df-84b02ab9-7d71-4ce4-a74a-6716edf57a5b button.colab-df-convert');\n",
              "        buttonEl.style.display =\n",
              "          google.colab.kernel.accessAllowed ? 'block' : 'none';\n",
              "\n",
              "        async function convertToInteractive(key) {\n",
              "          const element = document.querySelector('#df-84b02ab9-7d71-4ce4-a74a-6716edf57a5b');\n",
              "          const dataTable =\n",
              "            await google.colab.kernel.invokeFunction('convertToInteractive',\n",
              "                                                     [key], {});\n",
              "          if (!dataTable) return;\n",
              "\n",
              "          const docLinkHtml = 'Like what you see? Visit the ' +\n",
              "            '<a target=\"_blank\" href=https://colab.research.google.com/notebooks/data_table.ipynb>data table notebook</a>'\n",
              "            + ' to learn more about interactive tables.';\n",
              "          element.innerHTML = '';\n",
              "          dataTable['output_type'] = 'display_data';\n",
              "          await google.colab.output.renderOutput(dataTable, element);\n",
              "          const docLink = document.createElement('div');\n",
              "          docLink.innerHTML = docLinkHtml;\n",
              "          element.appendChild(docLink);\n",
              "        }\n",
              "      </script>\n",
              "    </div>\n",
              "  </div>\n",
              "  "
            ]
          },
          "metadata": {},
          "execution_count": 280
        }
      ]
    },
    {
      "cell_type": "code",
      "source": [
        "# plot histogram \n",
        "fig, axs = plt.subplots(2, 2, figsize=(10, 10))\n",
        "index = [axs[0,0],axs[0,1],axs[1,0],axs[1,1]]\n",
        "for i,j in zip([\"OnlineSecurity\", \"OnlineBackup\", \"DeviceProtection\", \"TechSupport\"],index):\n",
        "  ax = sns.histplot(data=telco, x=i, hue=\"Churn\", multiple=\"dodge\", ax=j)\n",
        "  ax.set(title='Distribution of {}'.format(i))\n",
        "  # label each bar in histogram\n",
        "  for p in ax.patches:\n",
        "    height = p.get_height() # get the height of each bar\n",
        "    # adding text to each bar\n",
        "    ax.text(x = p.get_x()+(p.get_width()/2), # x-coordinate position of data label, padded to be in the middle of the bar\n",
        "    y = height+20, # y-coordinate position of data label, padded 20 above bar\n",
        "    s = '{:.0f}'.format(height), # data label, formatted to ignore decimals\n",
        "    ha = 'center') # sets horizontal alignment (ha) to center\n",
        "plt.show()  "
      ],
      "metadata": {
        "colab": {
          "base_uri": "https://localhost:8080/",
          "height": 621
        },
        "id": "5HWrwKfUdyN0",
        "outputId": "706cd227-b295-49c0-af9f-219f26f08380"
      },
      "execution_count": 281,
      "outputs": [
        {
          "output_type": "display_data",
          "data": {
            "text/plain": [
              "<Figure size 720x720 with 4 Axes>"
            ],
            "image/png": "[encoded data removed]"
          },
          "metadata": {
            "needs_background": "light"
          }
        }
      ]
    },
    {
      "cell_type": "code",
      "source": [
        "# plot histogram \n",
        "fig, axs = plt.subplots(1, 2, figsize=(10, 5))\n",
        "index = [axs[0],axs[1]]\n",
        "for i,j in zip([\"StreamingTV\", \"StreamingMovies\"],index):\n",
        "  ax = sns.histplot(data=telco, x=i, hue=\"Churn\", multiple=\"dodge\", ax=j)\n",
        "  ax.set(title='Distribution of {}'.format(i))\n",
        "  # label each bar in histogram\n",
        "  for p in ax.patches:\n",
        "    height = p.get_height() # get the height of each bar\n",
        "    # adding text to each bar\n",
        "    ax.text(x = p.get_x()+(p.get_width()/2), # x-coordinate position of data label, padded to be in the middle of the bar\n",
        "    y = height+20, # y-coordinate position of data label, padded 20 above bar\n",
        "    s = '{:.0f}'.format(height), # data label, formatted to ignore decimals\n",
        "    ha = 'center') # sets horizontal alignment (ha) to center\n",
        "plt.show()  "
      ],
      "metadata": {
        "colab": {
          "base_uri": "https://localhost:8080/",
          "height": 350
        },
        "id": "tlQj3g_TicN1",
        "outputId": "54dc689c-36ba-4ebe-a1e6-bde5f13c9670"
      },
      "execution_count": 282,
      "outputs": [
        {
          "output_type": "display_data",
          "data": {
            "text/plain": [
              "<Figure size 720x360 with 2 Axes>"
            ],
            "image/png": "[encoded data removed]"
          },
          "metadata": {
            "needs_background": "light"
          }
        }
      ]
    },
    {
      "cell_type": "code",
      "source": [
        "# plot histogram \n",
        "fig, axs = plt.subplots(1, 3, figsize=(15, 5))\n",
        "index = [axs[0],axs[1],axs[2]]\n",
        "for i,j in zip([\"PhoneService\", \"MultipleLines\", \"InternetService\"],index):\n",
        "  ax = sns.histplot(data=telco, x=i, hue=\"Churn\", multiple=\"dodge\", ax=j)\n",
        "  ax.set(title='Distribution of {}'.format(i))\n",
        "  # label each bar in histogram\n",
        "  for p in ax.patches:\n",
        "    height = p.get_height() # get the height of each bar\n",
        "    # adding text to each bar\n",
        "    ax.text(x = p.get_x()+(p.get_width()/2), # x-coordinate position of data label, padded to be in the middle of the bar\n",
        "    y = height+20, # y-coordinate position of data label, padded 20 above bar\n",
        "    s = '{:.0f}'.format(height), # data label, formatted to ignore decimals\n",
        "    ha = 'center') # sets horizontal alignment (ha) to center\n",
        "plt.show()  "
      ],
      "metadata": {
        "colab": {
          "base_uri": "https://localhost:8080/",
          "height": 350
        },
        "id": "-1C8SZjdivhZ",
        "outputId": "778b5cfa-a51d-4ccb-cce9-3ae430a38b21"
      },
      "execution_count": 283,
      "outputs": [
        {
          "output_type": "display_data",
          "data": {
            "text/plain": [
              "<Figure size 1080x360 with 3 Axes>"
            ],
            "image/png": "[encoded data removed]"
          },
          "metadata": {
            "needs_background": "light"
          }
        }
      ]
    },
    {
      "cell_type": "code",
      "source": [
        "# plot histogram \n",
        "fig, axs = plt.subplots(1, 2, figsize=(10, 4))\n",
        "ax = sns.histplot(data=telco, x='Contract', hue=\"Churn\", multiple=\"dodge\", ax=axs[0])\n",
        "ax.set(title='Distribution of Contract')\n",
        "# label each bar in histogram\n",
        "for p in ax.patches:\n",
        " height = p.get_height() # get the height of each bar\n",
        " # adding text to each bar\n",
        " ax.text(x = p.get_x()+(p.get_width()/2), # x-coordinate position of data label, padded to be in the middle of the bar\n",
        " y = height+20, # y-coordinate position of data label, padded 0.2 above bar\n",
        " s = '{:.0f}'.format(height), # data label, formatted to ignore decimals\n",
        " ha = 'center') # sets horizontal alignment (ha) to center\n",
        "\n",
        "# boxplots of tenure by contract\n",
        "sns.boxplot(data=telco, y='tenure', x='Contract', ax=axs[1])\n",
        "\n",
        "plt.show()"
      ],
      "metadata": {
        "colab": {
          "base_uri": "https://localhost:8080/",
          "height": 295
        },
        "id": "eC9fSsOBku7_",
        "outputId": "b460eff6-8da0-4f03-866b-a4e819c47885"
      },
      "execution_count": 284,
      "outputs": [
        {
          "output_type": "display_data",
          "data": {
            "text/plain": [
              "<Figure size 720x288 with 2 Axes>"
            ],
            "image/png": "[encoded data removed]"
          },
          "metadata": {
            "needs_background": "light"
          }
        }
      ]
    },
    {
      "cell_type": "markdown",
      "source": [
        "### 2.5 - Customer Purchase Info"
      ],
      "metadata": {
        "id": "KO1vJw-m1sT-"
      }
    },
    {
      "cell_type": "code",
      "source": [
        "# plot histogram \n",
        "fig, axs = plt.subplots(2, 1, figsize=(10, 10))\n",
        "index = [axs[0],axs[1]]\n",
        "for i,j in zip([\"PaperlessBilling\", \"PaymentMethod\"],index):\n",
        "  ax = sns.histplot(data=telco, x=i, hue=\"Churn\", multiple=\"dodge\", ax=j)\n",
        "  ax.set(title='Distribution of {}'.format(i))\n",
        "  # label each bar in histogram\n",
        "  for p in ax.patches:\n",
        "    height = p.get_height() # get the height of each bar\n",
        "    # adding text to each bar\n",
        "    ax.text(x = p.get_x()+(p.get_width()/2), # x-coordinate position of data label, padded to be in the middle of the bar\n",
        "    y = height+20, # y-coordinate position of data label, padded 20 above bar\n",
        "    s = '{:.0f}'.format(height), # data label, formatted to ignore decimals\n",
        "    ha = 'center') # sets horizontal alignment (ha) to center\n",
        "plt.show()  "
      ],
      "metadata": {
        "colab": {
          "base_uri": "https://localhost:8080/",
          "height": 621
        },
        "id": "V6zOgSDBkMvG",
        "outputId": "ceb687e1-c087-4ba4-e8aa-adffed65bb91"
      },
      "execution_count": 285,
      "outputs": [
        {
          "output_type": "display_data",
          "data": {
            "text/plain": [
              "<Figure size 720x720 with 2 Axes>"
            ],
            "image/png": "[encoded data removed]"
          },
          "metadata": {
            "needs_background": "light"
          }
        }
      ]
    },
    {
      "cell_type": "code",
      "source": [
        "# boxplot of monthlycharges and totalcharges by churn status\n",
        "fig, axs = plt.subplots(1, 2, figsize=(12, 5))\n",
        "\n",
        "y5 = sns.boxplot(data=telco, y='MonthlyCharges', x='Churn', ax=axs[0])\n",
        "y6 = sns.boxplot(data=telco, y='TotalCharges', x='Churn', ax=axs[1])\n",
        "\n",
        "plt.show()"
      ],
      "metadata": {
        "colab": {
          "base_uri": "https://localhost:8080/",
          "height": 334
        },
        "id": "c6wZxtTHzWAh",
        "outputId": "3d030125-e598-402b-da93-7b90800e40dc"
      },
      "execution_count": 286,
      "outputs": [
        {
          "output_type": "display_data",
          "data": {
            "text/plain": [
              "<Figure size 864x360 with 2 Axes>"
            ],
            "image/png": "[encoded data removed]"
          },
          "metadata": {
            "needs_background": "light"
          }
        }
      ]
    },
    {
      "cell_type": "markdown",
      "source": [
        "### 2.6 - Numerical Features"
      ],
      "metadata": {
        "id": "Ij30h_oPptej"
      }
    },
    {
      "cell_type": "code",
      "source": [
        "fig, axs = plt.subplots(1, 3, figsize=(15, 4))\n",
        "\n",
        "y1 = sns.histplot(data=telco, x=\"tenure\", hue='Churn', kde=True, multiple='stack', stat='proportion', ax=axs[0])\n",
        "y2 = sns.histplot(data=telco, x=\"MonthlyCharges\", hue='Churn', kde=True, multiple='stack', stat='proportion', ax=axs[1])\n",
        "y3 = sns.histplot(data=telco, x=\"TotalCharges\", hue='Churn', kde=True, multiple='stack', stat='proportion', ax=axs[2])\n",
        "\n",
        "plt.show()"
      ],
      "metadata": {
        "colab": {
          "base_uri": "https://localhost:8080/",
          "height": 283
        },
        "id": "O_X-WBt0psnZ",
        "outputId": "4fd59772-acaa-4591-c887-6c6e4e8d9319"
      },
      "execution_count": 287,
      "outputs": [
        {
          "output_type": "display_data",
          "data": {
            "text/plain": [
              "<Figure size 1080x288 with 3 Axes>"
            ],
            "image/png": "[encoded data removed]"
          },
          "metadata": {
            "needs_background": "light"
          }
        }
      ]
    },
    {
      "cell_type": "code",
      "source": [
        "telco[[\"tenure\",\"MonthlyCharges\",\"TotalCharges\"]].describe()"
      ],
      "metadata": {
        "colab": {
          "base_uri": "https://localhost:8080/",
          "height": 300
        },
        "id": "IM03cWaSH8Zi",
        "outputId": "5932a562-068a-4fab-c98b-b56681bc4bef"
      },
      "execution_count": 288,
      "outputs": [
        {
          "output_type": "execute_result",
          "data": {
            "text/plain": [
              "            tenure  MonthlyCharges  TotalCharges\n",
              "count  7032.000000     7032.000000   7032.000000\n",
              "mean     32.421786       64.798208   2283.300441\n",
              "std      24.545260       30.085974   2266.771362\n",
              "min       1.000000       18.250000     18.800000\n",
              "25%       9.000000       35.587500    401.450000\n",
              "50%      29.000000       70.350000   1397.475000\n",
              "75%      55.000000       89.862500   3794.737500\n",
              "max      72.000000      118.750000   8684.800000"
            ],
            "text/html": [
              "\n",
              "  <div id=\"df-e462fe59-cf60-427e-ab25-e657468d6684\">\n",
              "    <div class=\"colab-df-container\">\n",
              "      <div>\n",
              "<style scoped>\n",
              "    .dataframe tbody tr th:only-of-type {\n",
              "        vertical-align: middle;\n",
              "    }\n",
              "\n",
              "    .dataframe tbody tr th {\n",
              "        vertical-align: top;\n",
              "    }\n",
              "\n",
              "    .dataframe thead th {\n",
              "        text-align: right;\n",
              "    }\n",
              "</style>\n",
              "<table border=\"1\" class=\"dataframe\">\n",
              "  <thead>\n",
              "    <tr style=\"text-align: right;\">\n",
              "      <th></th>\n",
              "      <th>tenure</th>\n",
              "      <th>MonthlyCharges</th>\n",
              "      <th>TotalCharges</th>\n",
              "    </tr>\n",
              "  </thead>\n",
              "  <tbody>\n",
              "    <tr>\n",
              "      <th>count</th>\n",
              "      <td>7032.000000</td>\n",
              "      <td>7032.000000</td>\n",
              "      <td>7032.000000</td>\n",
              "    </tr>\n",
              "    <tr>\n",
              "      <th>mean</th>\n",
              "      <td>32.421786</td>\n",
              "      <td>64.798208</td>\n",
              "      <td>2283.300441</td>\n",
              "    </tr>\n",
              "    <tr>\n",
              "      <th>std</th>\n",
              "      <td>24.545260</td>\n",
              "      <td>30.085974</td>\n",
              "      <td>2266.771362</td>\n",
              "    </tr>\n",
              "    <tr>\n",
              "      <th>min</th>\n",
              "      <td>1.000000</td>\n",
              "      <td>18.250000</td>\n",
              "      <td>18.800000</td>\n",
              "    </tr>\n",
              "    <tr>\n",
              "      <th>25%</th>\n",
              "      <td>9.000000</td>\n",
              "      <td>35.587500</td>\n",
              "      <td>401.450000</td>\n",
              "    </tr>\n",
              "    <tr>\n",
              "      <th>50%</th>\n",
              "      <td>29.000000</td>\n",
              "      <td>70.350000</td>\n",
              "      <td>1397.475000</td>\n",
              "    </tr>\n",
              "    <tr>\n",
              "      <th>75%</th>\n",
              "      <td>55.000000</td>\n",
              "      <td>89.862500</td>\n",
              "      <td>3794.737500</td>\n",
              "    </tr>\n",
              "    <tr>\n",
              "      <th>max</th>\n",
              "      <td>72.000000</td>\n",
              "      <td>118.750000</td>\n",
              "      <td>8684.800000</td>\n",
              "    </tr>\n",
              "  </tbody>\n",
              "</table>\n",
              "</div>\n",
              "      <button class=\"colab-df-convert\" onclick=\"convertToInteractive('df-e462fe59-cf60-427e-ab25-e657468d6684')\"\n",
              "              title=\"Convert this dataframe to an interactive table.\"\n",
              "              style=\"display:none;\">\n",
              "        \n",
              "  <svg xmlns=\"http://www.w3.org/2000/svg\" height=\"24px\"viewBox=\"0 0 24 24\"\n",
              "       width=\"24px\">\n",
              "    <path d=\"M0 0h24v24H0V0z\" fill=\"none\"/>\n",
              "    <path d=\"M18.56 5.44l.94 2.06.94-2.06 2.06-.94-2.06-.94-.94-2.06-.94 2.06-2.06.94zm-11 1L8.5 8.5l.94-2.06 2.06-.94-2.06-.94L8.5 2.5l-.94 2.06-2.06.94zm10 10l.94 2.06.94-2.06 2.06-.94-2.06-.94-.94-2.06-.94 2.06-2.06.94z\"/><path d=\"M17.41 7.96l-1.37-1.37c-.4-.4-.92-.59-1.43-.59-.52 0-1.04.2-1.43.59L10.3 9.45l-7.72 7.72c-.78.78-.78 2.05 0 2.83L4 21.41c.39.39.9.59 1.41.59.51 0 1.02-.2 1.41-.59l7.78-7.78 2.81-2.81c.8-.78.8-2.07 0-2.86zM5.41 20L4 18.59l7.72-7.72 1.47 1.35L5.41 20z\"/>\n",
              "  </svg>\n",
              "      </button>\n",
              "      \n",
              "  <style>\n",
              "    .colab-df-container {\n",
              "      display:flex;\n",
              "      flex-wrap:wrap;\n",
              "      gap: 12px;\n",
              "    }\n",
              "\n",
              "    .colab-df-convert {\n",
              "      background-color: #E8F0FE;\n",
              "      border: none;\n",
              "      border-radius: 50%;\n",
              "      cursor: pointer;\n",
              "      display: none;\n",
              "      fill: #1967D2;\n",
              "      height: 32px;\n",
              "      padding: 0 0 0 0;\n",
              "      width: 32px;\n",
              "    }\n",
              "\n",
              "    .colab-df-convert:hover {\n",
              "      background-color: #E2EBFA;\n",
              "      box-shadow: 0px 1px 2px rgba(60, 64, 67, 0.3), 0px 1px 3px 1px rgba(60, 64, 67, 0.15);\n",
              "      fill: #174EA6;\n",
              "    }\n",
              "\n",
              "    [theme=dark] .colab-df-convert {\n",
              "      background-color: #3B4455;\n",
              "      fill: #D2E3FC;\n",
              "    }\n",
              "\n",
              "    [theme=dark] .colab-df-convert:hover {\n",
              "      background-color: #434B5C;\n",
              "      box-shadow: 0px 1px 3px 1px rgba(0, 0, 0, 0.15);\n",
              "      filter: drop-shadow(0px 1px 2px rgba(0, 0, 0, 0.3));\n",
              "      fill: #FFFFFF;\n",
              "    }\n",
              "  </style>\n",
              "\n",
              "      <script>\n",
              "        const buttonEl =\n",
              "          document.querySelector('#df-e462fe59-cf60-427e-ab25-e657468d6684 button.colab-df-convert');\n",
              "        buttonEl.style.display =\n",
              "          google.colab.kernel.accessAllowed ? 'block' : 'none';\n",
              "\n",
              "        async function convertToInteractive(key) {\n",
              "          const element = document.querySelector('#df-e462fe59-cf60-427e-ab25-e657468d6684');\n",
              "          const dataTable =\n",
              "            await google.colab.kernel.invokeFunction('convertToInteractive',\n",
              "                                                     [key], {});\n",
              "          if (!dataTable) return;\n",
              "\n",
              "          const docLinkHtml = 'Like what you see? Visit the ' +\n",
              "            '<a target=\"_blank\" href=https://colab.research.google.com/notebooks/data_table.ipynb>data table notebook</a>'\n",
              "            + ' to learn more about interactive tables.';\n",
              "          element.innerHTML = '';\n",
              "          dataTable['output_type'] = 'display_data';\n",
              "          await google.colab.output.renderOutput(dataTable, element);\n",
              "          const docLink = document.createElement('div');\n",
              "          docLink.innerHTML = docLinkHtml;\n",
              "          element.appendChild(docLink);\n",
              "        }\n",
              "      </script>\n",
              "    </div>\n",
              "  </div>\n",
              "  "
            ]
          },
          "metadata": {},
          "execution_count": 288
        }
      ]
    },
    {
      "cell_type": "markdown",
      "source": [
        "### 2.7 - Correlation between Features"
      ],
      "metadata": {
        "id": "fZ3aFEjMPN8Q"
      }
    },
    {
      "cell_type": "code",
      "source": [
        "cols_lst = list(telco.columns)\n",
        "cols_lst.remove('tenure')\n",
        "cols_lst.remove('MonthlyCharges')\n",
        "cols_lst.remove('TotalCharges')\n",
        "cols_lst.remove('Churn')\n",
        "cols_lst.remove('customerID')"
      ],
      "metadata": {
        "id": "WwmB_wFoP1nu"
      },
      "execution_count": 289,
      "outputs": []
    },
    {
      "cell_type": "code",
      "source": [
        "cramers_v_table = pd.DataFrame(columns=['var1', 'var2', 'cramers_v'])"
      ],
      "metadata": {
        "id": "iSbLxLRsTkbo"
      },
      "execution_count": 290,
      "outputs": []
    },
    {
      "cell_type": "code",
      "source": [
        "# define function to calculate bias-corrected Cramer's V\n",
        "# code adapted from https://stackoverflow.com/questions/20892799/using-pandas-calculate-cram%C3%A9rs-coefficient-matrix\n",
        "import scipy.stats as ss\n",
        "\n",
        "def cramers_corrected_stat(confusion_matrix):\n",
        "    \"\"\" calculate Cramers V statistic for categorial-categorial association.\n",
        "        uses correction from Bergsma and Wicher, \n",
        "        Journal of the Korean Statistical Society 42 (2013): 323-328\n",
        "    \"\"\"\n",
        "    chi2 = ss.chi2_contingency(confusion_matrix)[0]\n",
        "    n = confusion_matrix.sum().sum()\n",
        "    phi2 = chi2/n\n",
        "    r,k = confusion_matrix.shape\n",
        "    phi2corr = max(0, phi2 - ((k-1)*(r-1))/(n-1))    \n",
        "    rcorr = r - ((r-1)**2)/(n-1)\n",
        "    kcorr = k - ((k-1)**2)/(n-1)\n",
        "    return np.sqrt(phi2corr / min( (kcorr-1), (rcorr-1)))"
      ],
      "metadata": {
        "id": "oH4odpSzROXE"
      },
      "execution_count": 291,
      "outputs": []
    },
    {
      "cell_type": "code",
      "source": [
        "# Cramer's V for each pair of categorical features\n",
        "for i in range(len(cols_lst)):\n",
        "  for j in range(len(cols_lst)):\n",
        "    if cols_lst[i]!=cols_lst[j]:\n",
        "      contingency_table = pd.crosstab(telco[cols_lst[i]], telco[cols_lst[j]])\n",
        "      data = pd.DataFrame({'var1':[cols_lst[i]],\n",
        "                     'var2':[cols_lst[j]],\n",
        "                     'cramers_v':[cramers_corrected_stat(contingency_table)]})\n",
        "      cramers_v_table = cramers_v_table.append(data, ignore_index=True)"
      ],
      "metadata": {
        "id": "mSPGIhkdPSma"
      },
      "execution_count": 292,
      "outputs": []
    },
    {
      "cell_type": "code",
      "source": [
        "cramers_v_table.sort_values(by='cramers_v',ascending=False)"
      ],
      "metadata": {
        "colab": {
          "base_uri": "https://localhost:8080/",
          "height": 423
        },
        "id": "WPjQkFXOfxWS",
        "outputId": "24ad541c-eaa6-45b5-aa7f-a56a2fd2e7dc"
      },
      "execution_count": 293,
      "outputs": [
        {
          "output_type": "execute_result",
          "data": {
            "text/plain": [
              "                 var1             var2  cramers_v\n",
              "79      MultipleLines     PhoneService   0.999929\n",
              "64       PhoneService    MultipleLines   0.999929\n",
              "191   StreamingMovies      StreamingTV   0.771132\n",
              "176       StreamingTV  StreamingMovies   0.771132\n",
              "146  DeviceProtection  StreamingMovies   0.736063\n",
              "..                ...              ...        ...\n",
              "72       PhoneService         Contract   0.000000\n",
              "63       PhoneService       Dependents   0.000000\n",
              "61       PhoneService    SeniorCitizen   0.000000\n",
              "60       PhoneService           gender   0.000000\n",
              "120      OnlineBackup           gender   0.000000\n",
              "\n",
              "[240 rows x 3 columns]"
            ],
            "text/html": [
              "\n",
              "  <div id=\"df-e4035c63-8fe8-41a6-b38a-8bacce3e7923\">\n",
              "    <div class=\"colab-df-container\">\n",
              "      <div>\n",
              "<style scoped>\n",
              "    .dataframe tbody tr th:only-of-type {\n",
              "        vertical-align: middle;\n",
              "    }\n",
              "\n",
              "    .dataframe tbody tr th {\n",
              "        vertical-align: top;\n",
              "    }\n",
              "\n",
              "    .dataframe thead th {\n",
              "        text-align: right;\n",
              "    }\n",
              "</style>\n",
              "<table border=\"1\" class=\"dataframe\">\n",
              "  <thead>\n",
              "    <tr style=\"text-align: right;\">\n",
              "      <th></th>\n",
              "      <th>var1</th>\n",
              "      <th>var2</th>\n",
              "      <th>cramers_v</th>\n",
              "    </tr>\n",
              "  </thead>\n",
              "  <tbody>\n",
              "    <tr>\n",
              "      <th>79</th>\n",
              "      <td>MultipleLines</td>\n",
              "      <td>PhoneService</td>\n",
              "      <td>0.999929</td>\n",
              "    </tr>\n",
              "    <tr>\n",
              "      <th>64</th>\n",
              "      <td>PhoneService</td>\n",
              "      <td>MultipleLines</td>\n",
              "      <td>0.999929</td>\n",
              "    </tr>\n",
              "    <tr>\n",
              "      <th>191</th>\n",
              "      <td>StreamingMovies</td>\n",
              "      <td>StreamingTV</td>\n",
              "      <td>0.771132</td>\n",
              "    </tr>\n",
              "    <tr>\n",
              "      <th>176</th>\n",
              "      <td>StreamingTV</td>\n",
              "      <td>StreamingMovies</td>\n",
              "      <td>0.771132</td>\n",
              "    </tr>\n",
              "    <tr>\n",
              "      <th>146</th>\n",
              "      <td>DeviceProtection</td>\n",
              "      <td>StreamingMovies</td>\n",
              "      <td>0.736063</td>\n",
              "    </tr>\n",
              "    <tr>\n",
              "      <th>...</th>\n",
              "      <td>...</td>\n",
              "      <td>...</td>\n",
              "      <td>...</td>\n",
              "    </tr>\n",
              "    <tr>\n",
              "      <th>72</th>\n",
              "      <td>PhoneService</td>\n",
              "      <td>Contract</td>\n",
              "      <td>0.000000</td>\n",
              "    </tr>\n",
              "    <tr>\n",
              "      <th>63</th>\n",
              "      <td>PhoneService</td>\n",
              "      <td>Dependents</td>\n",
              "      <td>0.000000</td>\n",
              "    </tr>\n",
              "    <tr>\n",
              "      <th>61</th>\n",
              "      <td>PhoneService</td>\n",
              "      <td>SeniorCitizen</td>\n",
              "      <td>0.000000</td>\n",
              "    </tr>\n",
              "    <tr>\n",
              "      <th>60</th>\n",
              "      <td>PhoneService</td>\n",
              "      <td>gender</td>\n",
              "      <td>0.000000</td>\n",
              "    </tr>\n",
              "    <tr>\n",
              "      <th>120</th>\n",
              "      <td>OnlineBackup</td>\n",
              "      <td>gender</td>\n",
              "      <td>0.000000</td>\n",
              "    </tr>\n",
              "  </tbody>\n",
              "</table>\n",
              "<p>240 rows × 3 columns</p>\n",
              "</div>\n",
              "      <button class=\"colab-df-convert\" onclick=\"convertToInteractive('df-e4035c63-8fe8-41a6-b38a-8bacce3e7923')\"\n",
              "              title=\"Convert this dataframe to an interactive table.\"\n",
              "              style=\"display:none;\">\n",
              "        \n",
              "  <svg xmlns=\"http://www.w3.org/2000/svg\" height=\"24px\"viewBox=\"0 0 24 24\"\n",
              "       width=\"24px\">\n",
              "    <path d=\"M0 0h24v24H0V0z\" fill=\"none\"/>\n",
              "    <path d=\"M18.56 5.44l.94 2.06.94-2.06 2.06-.94-2.06-.94-.94-2.06-.94 2.06-2.06.94zm-11 1L8.5 8.5l.94-2.06 2.06-.94-2.06-.94L8.5 2.5l-.94 2.06-2.06.94zm10 10l.94 2.06.94-2.06 2.06-.94-2.06-.94-.94-2.06-.94 2.06-2.06.94z\"/><path d=\"M17.41 7.96l-1.37-1.37c-.4-.4-.92-.59-1.43-.59-.52 0-1.04.2-1.43.59L10.3 9.45l-7.72 7.72c-.78.78-.78 2.05 0 2.83L4 21.41c.39.39.9.59 1.41.59.51 0 1.02-.2 1.41-.59l7.78-7.78 2.81-2.81c.8-.78.8-2.07 0-2.86zM5.41 20L4 18.59l7.72-7.72 1.47 1.35L5.41 20z\"/>\n",
              "  </svg>\n",
              "      </button>\n",
              "      \n",
              "  <style>\n",
              "    .colab-df-container {\n",
              "      display:flex;\n",
              "      flex-wrap:wrap;\n",
              "      gap: 12px;\n",
              "    }\n",
              "\n",
              "    .colab-df-convert {\n",
              "      background-color: #E8F0FE;\n",
              "      border: none;\n",
              "      border-radius: 50%;\n",
              "      cursor: pointer;\n",
              "      display: none;\n",
              "      fill: #1967D2;\n",
              "      height: 32px;\n",
              "      padding: 0 0 0 0;\n",
              "      width: 32px;\n",
              "    }\n",
              "\n",
              "    .colab-df-convert:hover {\n",
              "      background-color: #E2EBFA;\n",
              "      box-shadow: 0px 1px 2px rgba(60, 64, 67, 0.3), 0px 1px 3px 1px rgba(60, 64, 67, 0.15);\n",
              "      fill: #174EA6;\n",
              "    }\n",
              "\n",
              "    [theme=dark] .colab-df-convert {\n",
              "      background-color: #3B4455;\n",
              "      fill: #D2E3FC;\n",
              "    }\n",
              "\n",
              "    [theme=dark] .colab-df-convert:hover {\n",
              "      background-color: #434B5C;\n",
              "      box-shadow: 0px 1px 3px 1px rgba(0, 0, 0, 0.15);\n",
              "      filter: drop-shadow(0px 1px 2px rgba(0, 0, 0, 0.3));\n",
              "      fill: #FFFFFF;\n",
              "    }\n",
              "  </style>\n",
              "\n",
              "      <script>\n",
              "        const buttonEl =\n",
              "          document.querySelector('#df-e4035c63-8fe8-41a6-b38a-8bacce3e7923 button.colab-df-convert');\n",
              "        buttonEl.style.display =\n",
              "          google.colab.kernel.accessAllowed ? 'block' : 'none';\n",
              "\n",
              "        async function convertToInteractive(key) {\n",
              "          const element = document.querySelector('#df-e4035c63-8fe8-41a6-b38a-8bacce3e7923');\n",
              "          const dataTable =\n",
              "            await google.colab.kernel.invokeFunction('convertToInteractive',\n",
              "                                                     [key], {});\n",
              "          if (!dataTable) return;\n",
              "\n",
              "          const docLinkHtml = 'Like what you see? Visit the ' +\n",
              "            '<a target=\"_blank\" href=https://colab.research.google.com/notebooks/data_table.ipynb>data table notebook</a>'\n",
              "            + ' to learn more about interactive tables.';\n",
              "          element.innerHTML = '';\n",
              "          dataTable['output_type'] = 'display_data';\n",
              "          await google.colab.output.renderOutput(dataTable, element);\n",
              "          const docLink = document.createElement('div');\n",
              "          docLink.innerHTML = docLinkHtml;\n",
              "          element.appendChild(docLink);\n",
              "        }\n",
              "      </script>\n",
              "    </div>\n",
              "  </div>\n",
              "  "
            ]
          },
          "metadata": {},
          "execution_count": 293
        }
      ]
    },
    {
      "cell_type": "code",
      "source": [
        "# Pearson correlation coefficient between tenure, monthlycharges and totalcharges\n",
        "cor_mat = telco[['tenure','MonthlyCharges','TotalCharges']].corr()\n",
        "round(cor_mat, 2)"
      ],
      "metadata": {
        "colab": {
          "base_uri": "https://localhost:8080/",
          "height": 143
        },
        "id": "Fq_QdgGQm-sh",
        "outputId": "be642cc0-bb1d-4da1-85ed-7cc93b6b6aa6"
      },
      "execution_count": 294,
      "outputs": [
        {
          "output_type": "execute_result",
          "data": {
            "text/plain": [
              "                tenure  MonthlyCharges  TotalCharges\n",
              "tenure            1.00            0.25          0.83\n",
              "MonthlyCharges    0.25            1.00          0.65\n",
              "TotalCharges      0.83            0.65          1.00"
            ],
            "text/html": [
              "\n",
              "  <div id=\"df-68db591a-6bfa-4506-ab74-e3779774a71d\">\n",
              "    <div class=\"colab-df-container\">\n",
              "      <div>\n",
              "<style scoped>\n",
              "    .dataframe tbody tr th:only-of-type {\n",
              "        vertical-align: middle;\n",
              "    }\n",
              "\n",
              "    .dataframe tbody tr th {\n",
              "        vertical-align: top;\n",
              "    }\n",
              "\n",
              "    .dataframe thead th {\n",
              "        text-align: right;\n",
              "    }\n",
              "</style>\n",
              "<table border=\"1\" class=\"dataframe\">\n",
              "  <thead>\n",
              "    <tr style=\"text-align: right;\">\n",
              "      <th></th>\n",
              "      <th>tenure</th>\n",
              "      <th>MonthlyCharges</th>\n",
              "      <th>TotalCharges</th>\n",
              "    </tr>\n",
              "  </thead>\n",
              "  <tbody>\n",
              "    <tr>\n",
              "      <th>tenure</th>\n",
              "      <td>1.00</td>\n",
              "      <td>0.25</td>\n",
              "      <td>0.83</td>\n",
              "    </tr>\n",
              "    <tr>\n",
              "      <th>MonthlyCharges</th>\n",
              "      <td>0.25</td>\n",
              "      <td>1.00</td>\n",
              "      <td>0.65</td>\n",
              "    </tr>\n",
              "    <tr>\n",
              "      <th>TotalCharges</th>\n",
              "      <td>0.83</td>\n",
              "      <td>0.65</td>\n",
              "      <td>1.00</td>\n",
              "    </tr>\n",
              "  </tbody>\n",
              "</table>\n",
              "</div>\n",
              "      <button class=\"colab-df-convert\" onclick=\"convertToInteractive('df-68db591a-6bfa-4506-ab74-e3779774a71d')\"\n",
              "              title=\"Convert this dataframe to an interactive table.\"\n",
              "              style=\"display:none;\">\n",
              "        \n",
              "  <svg xmlns=\"http://www.w3.org/2000/svg\" height=\"24px\"viewBox=\"0 0 24 24\"\n",
              "       width=\"24px\">\n",
              "    <path d=\"M0 0h24v24H0V0z\" fill=\"none\"/>\n",
              "    <path d=\"M18.56 5.44l.94 2.06.94-2.06 2.06-.94-2.06-.94-.94-2.06-.94 2.06-2.06.94zm-11 1L8.5 8.5l.94-2.06 2.06-.94-2.06-.94L8.5 2.5l-.94 2.06-2.06.94zm10 10l.94 2.06.94-2.06 2.06-.94-2.06-.94-.94-2.06-.94 2.06-2.06.94z\"/><path d=\"M17.41 7.96l-1.37-1.37c-.4-.4-.92-.59-1.43-.59-.52 0-1.04.2-1.43.59L10.3 9.45l-7.72 7.72c-.78.78-.78 2.05 0 2.83L4 21.41c.39.39.9.59 1.41.59.51 0 1.02-.2 1.41-.59l7.78-7.78 2.81-2.81c.8-.78.8-2.07 0-2.86zM5.41 20L4 18.59l7.72-7.72 1.47 1.35L5.41 20z\"/>\n",
              "  </svg>\n",
              "      </button>\n",
              "      \n",
              "  <style>\n",
              "    .colab-df-container {\n",
              "      display:flex;\n",
              "      flex-wrap:wrap;\n",
              "      gap: 12px;\n",
              "    }\n",
              "\n",
              "    .colab-df-convert {\n",
              "      background-color: #E8F0FE;\n",
              "      border: none;\n",
              "      border-radius: 50%;\n",
              "      cursor: pointer;\n",
              "      display: none;\n",
              "      fill: #1967D2;\n",
              "      height: 32px;\n",
              "      padding: 0 0 0 0;\n",
              "      width: 32px;\n",
              "    }\n",
              "\n",
              "    .colab-df-convert:hover {\n",
              "      background-color: #E2EBFA;\n",
              "      box-shadow: 0px 1px 2px rgba(60, 64, 67, 0.3), 0px 1px 3px 1px rgba(60, 64, 67, 0.15);\n",
              "      fill: #174EA6;\n",
              "    }\n",
              "\n",
              "    [theme=dark] .colab-df-convert {\n",
              "      background-color: #3B4455;\n",
              "      fill: #D2E3FC;\n",
              "    }\n",
              "\n",
              "    [theme=dark] .colab-df-convert:hover {\n",
              "      background-color: #434B5C;\n",
              "      box-shadow: 0px 1px 3px 1px rgba(0, 0, 0, 0.15);\n",
              "      filter: drop-shadow(0px 1px 2px rgba(0, 0, 0, 0.3));\n",
              "      fill: #FFFFFF;\n",
              "    }\n",
              "  </style>\n",
              "\n",
              "      <script>\n",
              "        const buttonEl =\n",
              "          document.querySelector('#df-68db591a-6bfa-4506-ab74-e3779774a71d button.colab-df-convert');\n",
              "        buttonEl.style.display =\n",
              "          google.colab.kernel.accessAllowed ? 'block' : 'none';\n",
              "\n",
              "        async function convertToInteractive(key) {\n",
              "          const element = document.querySelector('#df-68db591a-6bfa-4506-ab74-e3779774a71d');\n",
              "          const dataTable =\n",
              "            await google.colab.kernel.invokeFunction('convertToInteractive',\n",
              "                                                     [key], {});\n",
              "          if (!dataTable) return;\n",
              "\n",
              "          const docLinkHtml = 'Like what you see? Visit the ' +\n",
              "            '<a target=\"_blank\" href=https://colab.research.google.com/notebooks/data_table.ipynb>data table notebook</a>'\n",
              "            + ' to learn more about interactive tables.';\n",
              "          element.innerHTML = '';\n",
              "          dataTable['output_type'] = 'display_data';\n",
              "          await google.colab.output.renderOutput(dataTable, element);\n",
              "          const docLink = document.createElement('div');\n",
              "          docLink.innerHTML = docLinkHtml;\n",
              "          element.appendChild(docLink);\n",
              "        }\n",
              "      </script>\n",
              "    </div>\n",
              "  </div>\n",
              "  "
            ]
          },
          "metadata": {},
          "execution_count": 294
        }
      ]
    },
    {
      "cell_type": "markdown",
      "source": [
        "## 3 - Model and Analysis"
      ],
      "metadata": {
        "id": "Jn3gZN1UGE4i"
      }
    },
    {
      "cell_type": "markdown",
      "source": [
        "### 3.1 - Compare Standardization and Normalization\n",
        "compare test accuracy of models using Standardization vs Normalization,  \n",
        "for Standardization, use StandardScaler() in ColumnTransformer;   \n",
        "for Normalization, use MinMaxScaler() in ColumnTransformer; "
      ],
      "metadata": {
        "id": "T6u2eT2GGVat"
      }
    },
    {
      "cell_type": "code",
      "source": [
        "# Divide into features and labels\n",
        "x = telco.drop(['customerID','Churn'], axis=1) \n",
        "y = telco.Churn\n",
        "\n",
        "# one hot encode categorical features, Standardize the 3 Numerical Features\n",
        "from sklearn.preprocessing import OneHotEncoder\n",
        "from sklearn.compose import ColumnTransformer\n",
        "from sklearn.preprocessing import MinMaxScaler,StandardScaler\n",
        "\n",
        "categorical_features = x.columns.tolist()\n",
        "categorical_features.remove('tenure')\n",
        "categorical_features.remove('MonthlyCharges')\n",
        "categorical_features.remove('TotalCharges')\n",
        "\n",
        "# standardization: use StandardScaler()\n",
        "# normalization: use MinMaxScaler()\n",
        "numerical_features = ['tenure','MonthlyCharges','TotalCharges']\n",
        "ct = ColumnTransformer([(\"Categorical\", OneHotEncoder(), categorical_features), # use OneHotEncoder on categorical features\n",
        "                        (\"Numerical\", MinMaxScaler(), numerical_features)], remainder = 'passthrough') \n",
        "x_trans = ct.fit_transform(x) # 46 features in x_trans (43 binary encoder + tenure, monthlycharges, totalcharges)"
      ],
      "metadata": {
        "id": "QQWrrMlfoJpT"
      },
      "execution_count": 295,
      "outputs": []
    },
    {
      "cell_type": "code",
      "source": [
        "# get the column names in the transformed x\n",
        "feature_names = ct.get_feature_names_out()\n",
        "feature_names"
      ],
      "metadata": {
        "colab": {
          "base_uri": "https://localhost:8080/"
        },
        "id": "6ISG1dYV1w0G",
        "outputId": "ff106ec6-95f5-4810-acbc-93cd841776a9"
      },
      "execution_count": 296,
      "outputs": [
        {
          "output_type": "execute_result",
          "data": {
            "text/plain": [
              "array(['Categorical__gender_Female', 'Categorical__gender_Male',\n",
              "       'Categorical__SeniorCitizen_No', 'Categorical__SeniorCitizen_Yes',\n",
              "       'Categorical__Partner_No', 'Categorical__Partner_Yes',\n",
              "       'Categorical__Dependents_No', 'Categorical__Dependents_Yes',\n",
              "       'Categorical__PhoneService_No', 'Categorical__PhoneService_Yes',\n",
              "       'Categorical__MultipleLines_No',\n",
              "       'Categorical__MultipleLines_No phone service',\n",
              "       'Categorical__MultipleLines_Yes',\n",
              "       'Categorical__InternetService_DSL',\n",
              "       'Categorical__InternetService_Fiber optic',\n",
              "       'Categorical__InternetService_No',\n",
              "       'Categorical__OnlineSecurity_No',\n",
              "       'Categorical__OnlineSecurity_No internet service',\n",
              "       'Categorical__OnlineSecurity_Yes', 'Categorical__OnlineBackup_No',\n",
              "       'Categorical__OnlineBackup_No internet service',\n",
              "       'Categorical__OnlineBackup_Yes',\n",
              "       'Categorical__DeviceProtection_No',\n",
              "       'Categorical__DeviceProtection_No internet service',\n",
              "       'Categorical__DeviceProtection_Yes', 'Categorical__TechSupport_No',\n",
              "       'Categorical__TechSupport_No internet service',\n",
              "       'Categorical__TechSupport_Yes', 'Categorical__StreamingTV_No',\n",
              "       'Categorical__StreamingTV_No internet service',\n",
              "       'Categorical__StreamingTV_Yes', 'Categorical__StreamingMovies_No',\n",
              "       'Categorical__StreamingMovies_No internet service',\n",
              "       'Categorical__StreamingMovies_Yes',\n",
              "       'Categorical__Contract_Month-to-month',\n",
              "       'Categorical__Contract_One year', 'Categorical__Contract_Two year',\n",
              "       'Categorical__PaperlessBilling_No',\n",
              "       'Categorical__PaperlessBilling_Yes',\n",
              "       'Categorical__PaymentMethod_Bank transfer (automatic)',\n",
              "       'Categorical__PaymentMethod_Credit card (automatic)',\n",
              "       'Categorical__PaymentMethod_Electronic check',\n",
              "       'Categorical__PaymentMethod_Mailed check', 'Numerical__tenure',\n",
              "       'Numerical__MonthlyCharges', 'Numerical__TotalCharges'],\n",
              "      dtype=object)"
            ]
          },
          "metadata": {},
          "execution_count": 296
        }
      ]
    },
    {
      "cell_type": "code",
      "source": [
        "# standardization: verify the 3 features have unit variance\n",
        "# normalization: verify the 3 features are in range (0,1)\n",
        "# the last 3 columns in x_trans correspond to the 3 transformed numerical features\n",
        "pd.DataFrame(x_trans).iloc[:,-3:].describe()"
      ],
      "metadata": {
        "colab": {
          "base_uri": "https://localhost:8080/",
          "height": 300
        },
        "id": "AYOjJmpx5L3V",
        "outputId": "e220d24c-e072-4ca0-9454-efa6d1586849"
      },
      "execution_count": 297,
      "outputs": [
        {
          "output_type": "execute_result",
          "data": {
            "text/plain": [
              "                43           44           45\n",
              "count  7032.000000  7032.000000  7032.000000\n",
              "mean      0.442560     0.463166     0.261309\n",
              "std       0.345708     0.299363     0.261571\n",
              "min       0.000000     0.000000     0.000000\n",
              "25%       0.112676     0.172512     0.044155\n",
              "50%       0.394366     0.518408     0.159090\n",
              "75%       0.760563     0.712562     0.435719\n",
              "max       1.000000     1.000000     1.000000"
            ],
            "text/html": [
              "\n",
              "  <div id=\"df-e4ded175-95d4-4f87-9fb0-7bfd0185ab40\">\n",
              "    <div class=\"colab-df-container\">\n",
              "      <div>\n",
              "<style scoped>\n",
              "    .dataframe tbody tr th:only-of-type {\n",
              "        vertical-align: middle;\n",
              "    }\n",
              "\n",
              "    .dataframe tbody tr th {\n",
              "        vertical-align: top;\n",
              "    }\n",
              "\n",
              "    .dataframe thead th {\n",
              "        text-align: right;\n",
              "    }\n",
              "</style>\n",
              "<table border=\"1\" class=\"dataframe\">\n",
              "  <thead>\n",
              "    <tr style=\"text-align: right;\">\n",
              "      <th></th>\n",
              "      <th>43</th>\n",
              "      <th>44</th>\n",
              "      <th>45</th>\n",
              "    </tr>\n",
              "  </thead>\n",
              "  <tbody>\n",
              "    <tr>\n",
              "      <th>count</th>\n",
              "      <td>7032.000000</td>\n",
              "      <td>7032.000000</td>\n",
              "      <td>7032.000000</td>\n",
              "    </tr>\n",
              "    <tr>\n",
              "      <th>mean</th>\n",
              "      <td>0.442560</td>\n",
              "      <td>0.463166</td>\n",
              "      <td>0.261309</td>\n",
              "    </tr>\n",
              "    <tr>\n",
              "      <th>std</th>\n",
              "      <td>0.345708</td>\n",
              "      <td>0.299363</td>\n",
              "      <td>0.261571</td>\n",
              "    </tr>\n",
              "    <tr>\n",
              "      <th>min</th>\n",
              "      <td>0.000000</td>\n",
              "      <td>0.000000</td>\n",
              "      <td>0.000000</td>\n",
              "    </tr>\n",
              "    <tr>\n",
              "      <th>25%</th>\n",
              "      <td>0.112676</td>\n",
              "      <td>0.172512</td>\n",
              "      <td>0.044155</td>\n",
              "    </tr>\n",
              "    <tr>\n",
              "      <th>50%</th>\n",
              "      <td>0.394366</td>\n",
              "      <td>0.518408</td>\n",
              "      <td>0.159090</td>\n",
              "    </tr>\n",
              "    <tr>\n",
              "      <th>75%</th>\n",
              "      <td>0.760563</td>\n",
              "      <td>0.712562</td>\n",
              "      <td>0.435719</td>\n",
              "    </tr>\n",
              "    <tr>\n",
              "      <th>max</th>\n",
              "      <td>1.000000</td>\n",
              "      <td>1.000000</td>\n",
              "      <td>1.000000</td>\n",
              "    </tr>\n",
              "  </tbody>\n",
              "</table>\n",
              "</div>\n",
              "      <button class=\"colab-df-convert\" onclick=\"convertToInteractive('df-e4ded175-95d4-4f87-9fb0-7bfd0185ab40')\"\n",
              "              title=\"Convert this dataframe to an interactive table.\"\n",
              "              style=\"display:none;\">\n",
              "        \n",
              "  <svg xmlns=\"http://www.w3.org/2000/svg\" height=\"24px\"viewBox=\"0 0 24 24\"\n",
              "       width=\"24px\">\n",
              "    <path d=\"M0 0h24v24H0V0z\" fill=\"none\"/>\n",
              "    <path d=\"M18.56 5.44l.94 2.06.94-2.06 2.06-.94-2.06-.94-.94-2.06-.94 2.06-2.06.94zm-11 1L8.5 8.5l.94-2.06 2.06-.94-2.06-.94L8.5 2.5l-.94 2.06-2.06.94zm10 10l.94 2.06.94-2.06 2.06-.94-2.06-.94-.94-2.06-.94 2.06-2.06.94z\"/><path d=\"M17.41 7.96l-1.37-1.37c-.4-.4-.92-.59-1.43-.59-.52 0-1.04.2-1.43.59L10.3 9.45l-7.72 7.72c-.78.78-.78 2.05 0 2.83L4 21.41c.39.39.9.59 1.41.59.51 0 1.02-.2 1.41-.59l7.78-7.78 2.81-2.81c.8-.78.8-2.07 0-2.86zM5.41 20L4 18.59l7.72-7.72 1.47 1.35L5.41 20z\"/>\n",
              "  </svg>\n",
              "      </button>\n",
              "      \n",
              "  <style>\n",
              "    .colab-df-container {\n",
              "      display:flex;\n",
              "      flex-wrap:wrap;\n",
              "      gap: 12px;\n",
              "    }\n",
              "\n",
              "    .colab-df-convert {\n",
              "      background-color: #E8F0FE;\n",
              "      border: none;\n",
              "      border-radius: 50%;\n",
              "      cursor: pointer;\n",
              "      display: none;\n",
              "      fill: #1967D2;\n",
              "      height: 32px;\n",
              "      padding: 0 0 0 0;\n",
              "      width: 32px;\n",
              "    }\n",
              "\n",
              "    .colab-df-convert:hover {\n",
              "      background-color: #E2EBFA;\n",
              "      box-shadow: 0px 1px 2px rgba(60, 64, 67, 0.3), 0px 1px 3px 1px rgba(60, 64, 67, 0.15);\n",
              "      fill: #174EA6;\n",
              "    }\n",
              "\n",
              "    [theme=dark] .colab-df-convert {\n",
              "      background-color: #3B4455;\n",
              "      fill: #D2E3FC;\n",
              "    }\n",
              "\n",
              "    [theme=dark] .colab-df-convert:hover {\n",
              "      background-color: #434B5C;\n",
              "      box-shadow: 0px 1px 3px 1px rgba(0, 0, 0, 0.15);\n",
              "      filter: drop-shadow(0px 1px 2px rgba(0, 0, 0, 0.3));\n",
              "      fill: #FFFFFF;\n",
              "    }\n",
              "  </style>\n",
              "\n",
              "      <script>\n",
              "        const buttonEl =\n",
              "          document.querySelector('#df-e4ded175-95d4-4f87-9fb0-7bfd0185ab40 button.colab-df-convert');\n",
              "        buttonEl.style.display =\n",
              "          google.colab.kernel.accessAllowed ? 'block' : 'none';\n",
              "\n",
              "        async function convertToInteractive(key) {\n",
              "          const element = document.querySelector('#df-e4ded175-95d4-4f87-9fb0-7bfd0185ab40');\n",
              "          const dataTable =\n",
              "            await google.colab.kernel.invokeFunction('convertToInteractive',\n",
              "                                                     [key], {});\n",
              "          if (!dataTable) return;\n",
              "\n",
              "          const docLinkHtml = 'Like what you see? Visit the ' +\n",
              "            '<a target=\"_blank\" href=https://colab.research.google.com/notebooks/data_table.ipynb>data table notebook</a>'\n",
              "            + ' to learn more about interactive tables.';\n",
              "          element.innerHTML = '';\n",
              "          dataTable['output_type'] = 'display_data';\n",
              "          await google.colab.output.renderOutput(dataTable, element);\n",
              "          const docLink = document.createElement('div');\n",
              "          docLink.innerHTML = docLinkHtml;\n",
              "          element.appendChild(docLink);\n",
              "        }\n",
              "      </script>\n",
              "    </div>\n",
              "  </div>\n",
              "  "
            ]
          },
          "metadata": {},
          "execution_count": 297
        }
      ]
    },
    {
      "cell_type": "markdown",
      "source": [
        "#### 3.1.1 -  Train-Test Split"
      ],
      "metadata": {
        "id": "XeTgRHumT-i6"
      }
    },
    {
      "cell_type": "code",
      "source": [
        "# Divide into Training and Testing Data, we'll use 80/20 split here\n",
        "from sklearn.model_selection import train_test_split\n",
        "x_train, x_test, y_train, y_test = train_test_split(x_trans, y, test_size=0.2, random_state=1)"
      ],
      "metadata": {
        "id": "cBy6isQhM2NR"
      },
      "execution_count": 298,
      "outputs": []
    },
    {
      "cell_type": "code",
      "source": [
        "# check how balanced the training set is\n",
        "y_train.value_counts()"
      ],
      "metadata": {
        "colab": {
          "base_uri": "https://localhost:8080/"
        },
        "id": "FxxWcTjtSjkN",
        "outputId": "5c0d380c-91ad-4560-928c-349d52ac6504"
      },
      "execution_count": 299,
      "outputs": [
        {
          "output_type": "execute_result",
          "data": {
            "text/plain": [
              "0    4122\n",
              "1    1503\n",
              "Name: Churn, dtype: int64"
            ]
          },
          "metadata": {},
          "execution_count": 299
        }
      ]
    },
    {
      "cell_type": "code",
      "source": [
        "from sklearn.metrics import confusion_matrix, classification_report"
      ],
      "metadata": {
        "id": "PtNHuM0aCL-W"
      },
      "execution_count": 300,
      "outputs": []
    },
    {
      "cell_type": "markdown",
      "source": [
        "#### 3.1.2 - SVM"
      ],
      "metadata": {
        "id": "Yx3Wq0X0n7rp"
      }
    },
    {
      "cell_type": "code",
      "source": [
        "from sklearn.svm import SVC\n",
        "svm = SVC(random_state=1, gamma=\"auto\")\n",
        "svm.fit(x_train,y_train)\n",
        "predictions = svm.predict(x_test)\n",
        "print(\"Test Accuracy: {}%\".format(round(svm.score(x_test,y_test)*100,2)))\n",
        "print(\"Train Accuracy: {}%\".format(round(svm.score(x_train,y_train)*100,2)))"
      ],
      "metadata": {
        "id": "r41wTnTqn7SA",
        "colab": {
          "base_uri": "https://localhost:8080/"
        },
        "outputId": "e7f1579e-bdeb-4e01-d029-6cc289f7e47c"
      },
      "execution_count": 301,
      "outputs": [
        {
          "output_type": "stream",
          "name": "stdout",
          "text": [
            "Test Accuracy: 80.1%\n",
            "Train Accuracy: 80.85%\n"
          ]
        }
      ]
    },
    {
      "cell_type": "markdown",
      "source": [
        "#### 3.1.3 - Logistic Regression"
      ],
      "metadata": {
        "id": "gz5fRV8_EBlV"
      }
    },
    {
      "cell_type": "code",
      "source": [
        "from sklearn.linear_model import LogisticRegression\n",
        "lr = LogisticRegression(random_state=1, solver=\"newton-cg\")\n",
        "lr.fit(x_train,y_train)\n",
        "predictions = lr.predict(x_test)\n",
        "print(\"Test Accuracy: {}%\".format(round(lr.score(x_test,y_test)*100,2)))\n",
        "print(\"Train Accuracy: {}%\".format(round(lr.score(x_train,y_train)*100,2)))"
      ],
      "metadata": {
        "id": "RN3VXbPJED1v",
        "colab": {
          "base_uri": "https://localhost:8080/"
        },
        "outputId": "30491140-bd62-44ce-a1a1-5e99cf3e44ba"
      },
      "execution_count": 302,
      "outputs": [
        {
          "output_type": "stream",
          "name": "stdout",
          "text": [
            "Test Accuracy: 79.74%\n",
            "Train Accuracy: 80.62%\n"
          ]
        }
      ]
    },
    {
      "cell_type": "markdown",
      "source": [
        "#### 3.1.4 - Random Forest"
      ],
      "metadata": {
        "id": "9l8oth4xIEFj"
      }
    },
    {
      "cell_type": "code",
      "source": [
        "from sklearn.ensemble import RandomForestClassifier\n",
        "rf = RandomForestClassifier(n_estimators=100, random_state=1)\n",
        "rf.fit(x_train,y_train)\n",
        "predictions = rf.predict(x_test)\n",
        "print(\"Test Accuracy: {}%\".format(round(rf.score(x_test,y_test)*100,2)))\n",
        "print(\"Train Accuracy: {}%\".format(round(rf.score(x_train,y_train)*100,2)))"
      ],
      "metadata": {
        "colab": {
          "base_uri": "https://localhost:8080/"
        },
        "id": "tpBmwLsQIGLa",
        "outputId": "3b157380-8b00-400c-d350-0f14af1fe367"
      },
      "execution_count": 303,
      "outputs": [
        {
          "output_type": "stream",
          "name": "stdout",
          "text": [
            "Test Accuracy: 78.68%\n",
            "Train Accuracy: 99.77%\n"
          ]
        }
      ]
    },
    {
      "cell_type": "markdown",
      "source": [
        "### 3.2 - Feature Selection"
      ],
      "metadata": {
        "id": "X4JeGW5V41NT"
      }
    },
    {
      "cell_type": "code",
      "source": [
        "# isolate numerical and categorical features in the training set and test set\n",
        "x_train_num = pd.DataFrame(x_train).iloc[:,-3:].to_numpy() # select last 3 numerical columns\n",
        "x_train_cat = pd.DataFrame(x_train).iloc[:,:-3].to_numpy() # remove last 3 numerical columns\n",
        "\n",
        "x_test_num = pd.DataFrame(x_test).iloc[:,-3:].to_numpy() # select last 3 numerical columns\n",
        "x_test_cat = pd.DataFrame(x_test).iloc[:,:-3].to_numpy() # remove last 3 numerical columns"
      ],
      "metadata": {
        "id": "YqD6zyBfOANS"
      },
      "execution_count": 304,
      "outputs": []
    },
    {
      "cell_type": "code",
      "source": [
        "x_train_cat.shape, x_train_num.shape, x_test_cat.shape, x_test_num.shape"
      ],
      "metadata": {
        "colab": {
          "base_uri": "https://localhost:8080/"
        },
        "id": "ZI73qWThOt5g",
        "outputId": "2c4b7d3b-a43a-47d6-f140-578bc703449f"
      },
      "execution_count": 305,
      "outputs": [
        {
          "output_type": "execute_result",
          "data": {
            "text/plain": [
              "((5625, 43), (5625, 3), (1407, 43), (1407, 3))"
            ]
          },
          "metadata": {},
          "execution_count": 305
        }
      ]
    },
    {
      "cell_type": "markdown",
      "source": [
        "#### 3.2.1 - Chi-Squared Test for Categorical Features"
      ],
      "metadata": {
        "id": "ViHWwQAb5Rz3"
      }
    },
    {
      "cell_type": "code",
      "source": [
        "from sklearn.feature_selection import SelectKBest\n",
        "from sklearn.feature_selection import chi2\n",
        "\n",
        "# SelectKBest removes all but the k highest scoring features, here we keep all features first to compare their scores\n",
        "fs = SelectKBest(score_func=chi2, k='all') \n",
        "fs.fit(x_train_cat, y_train)"
      ],
      "metadata": {
        "colab": {
          "base_uri": "https://localhost:8080/"
        },
        "id": "mFnC5GUY42c1",
        "outputId": "10220a82-c305-481d-c873-3b9bb9e329f0"
      },
      "execution_count": 306,
      "outputs": [
        {
          "output_type": "execute_result",
          "data": {
            "text/plain": [
              "SelectKBest(k='all', score_func=<function chi2 at 0x7faca60478b0>)"
            ]
          },
          "metadata": {},
          "execution_count": 306
        }
      ]
    },
    {
      "cell_type": "code",
      "source": [
        "# score is Chi2 statistics for each feature.\n",
        "# We can then print the scores for each variable (largest is better), and plot the scores for each variable as a bar graph to get an idea of how many features we should select.\n",
        "\n",
        "# what are scores for the features\n",
        "for i in range(len(fs.scores_)):\n",
        " print('Feature %d: %f' % (i, fs.scores_[i]))\n",
        "# plot the scores\n",
        "plt.bar([i for i in range(len(fs.scores_))], fs.scores_)\n",
        "plt.show()"
      ],
      "metadata": {
        "colab": {
          "base_uri": "https://localhost:8080/",
          "height": 1000
        },
        "id": "HB9mDeGL_7uc",
        "outputId": "a5207a8a-2965-42ca-9823-8d1a3ca533c3"
      },
      "execution_count": 307,
      "outputs": [
        {
          "output_type": "stream",
          "name": "stdout",
          "text": [
            "Feature 0: 0.290144\n",
            "Feature 1: 0.284727\n",
            "Feature 2: 23.113927\n",
            "Feature 3: 118.054196\n",
            "Feature 4: 59.782287\n",
            "Feature 5: 64.671956\n",
            "Feature 6: 44.118415\n",
            "Feature 7: 103.687471\n",
            "Feature 8: 0.254653\n",
            "Feature 9: 0.026600\n",
            "Feature 10: 3.508879\n",
            "Feature 11: 0.254653\n",
            "Feature 12: 4.914461\n",
            "Feature 13: 52.668644\n",
            "Feature 14: 291.627946\n",
            "Feature 15: 234.349987\n",
            "Feature 16: 324.449078\n",
            "Feature 17: 234.349987\n",
            "Feature 18: 111.154431\n",
            "Feature 19: 217.970253\n",
            "Feature 20: 234.349987\n",
            "Feature 21: 20.878234\n",
            "Feature 22: 191.140741\n",
            "Feature 23: 234.349987\n",
            "Feature 24: 12.575806\n",
            "Feature 25: 324.174246\n",
            "Feature 26: 234.349987\n",
            "Feature 27: 103.005221\n",
            "Feature 28: 55.539611\n",
            "Feature 29: 234.349987\n",
            "Feature 30: 14.701995\n",
            "Feature 31: 48.716075\n",
            "Feature 32: 234.349987\n",
            "Feature 33: 18.538214\n",
            "Feature 34: 408.834318\n",
            "Feature 35: 132.651215\n",
            "Feature 36: 391.922279\n",
            "Feature 37: 119.199703\n",
            "Feature 38: 82.211631\n",
            "Feature 39: 63.870897\n",
            "Feature 40: 67.192624\n",
            "Feature 41: 344.910189\n",
            "Feature 42: 45.609409\n"
          ]
        },
        {
          "output_type": "display_data",
          "data": {
            "text/plain": [
              "<Figure size 432x288 with 1 Axes>"
            ],
            "image/png": "[encoded data removed]"
          },
          "metadata": {
            "needs_background": "light"
          }
        }
      ]
    },
    {
      "cell_type": "code",
      "source": [
        "# We can then print the scores for each variable \n",
        "\n",
        "# what are pvalues for the features\n",
        "for i in range(len(fs.pvalues_)):\n",
        " print('Feature %d: %f' % (i, fs.pvalues_[i]))\n",
        "# plot the pvalues\n",
        "plt.bar([i for i in range(len(fs.pvalues_))], fs.pvalues_)\n",
        "plt.show()"
      ],
      "metadata": {
        "colab": {
          "base_uri": "https://localhost:8080/",
          "height": 1000
        },
        "id": "s4KsbzbB_ftc",
        "outputId": "d12adb31-c9f7-430e-d960-b6aa498e1eee"
      },
      "execution_count": 308,
      "outputs": [
        {
          "output_type": "stream",
          "name": "stdout",
          "text": [
            "Feature 0: 0.590128\n",
            "Feature 1: 0.593619\n",
            "Feature 2: 0.000002\n",
            "Feature 3: 0.000000\n",
            "Feature 4: 0.000000\n",
            "Feature 5: 0.000000\n",
            "Feature 6: 0.000000\n",
            "Feature 7: 0.000000\n",
            "Feature 8: 0.613818\n",
            "Feature 9: 0.870443\n",
            "Feature 10: 0.061041\n",
            "Feature 11: 0.613818\n",
            "Feature 12: 0.026633\n",
            "Feature 13: 0.000000\n",
            "Feature 14: 0.000000\n",
            "Feature 15: 0.000000\n",
            "Feature 16: 0.000000\n",
            "Feature 17: 0.000000\n",
            "Feature 18: 0.000000\n",
            "Feature 19: 0.000000\n",
            "Feature 20: 0.000000\n",
            "Feature 21: 0.000005\n",
            "Feature 22: 0.000000\n",
            "Feature 23: 0.000000\n",
            "Feature 24: 0.000391\n",
            "Feature 25: 0.000000\n",
            "Feature 26: 0.000000\n",
            "Feature 27: 0.000000\n",
            "Feature 28: 0.000000\n",
            "Feature 29: 0.000000\n",
            "Feature 30: 0.000126\n",
            "Feature 31: 0.000000\n",
            "Feature 32: 0.000000\n",
            "Feature 33: 0.000017\n",
            "Feature 34: 0.000000\n",
            "Feature 35: 0.000000\n",
            "Feature 36: 0.000000\n",
            "Feature 37: 0.000000\n",
            "Feature 38: 0.000000\n",
            "Feature 39: 0.000000\n",
            "Feature 40: 0.000000\n",
            "Feature 41: 0.000000\n",
            "Feature 42: 0.000000\n"
          ]
        },
        {
          "output_type": "display_data",
          "data": {
            "text/plain": [
              "<Figure size 432x288 with 1 Axes>"
            ],
            "image/png": "[encoded data removed]"
          },
          "metadata": {
            "needs_background": "light"
          }
        }
      ]
    },
    {
      "cell_type": "code",
      "source": [
        "# we use a threshold of 0.05 to select significant features (pvalue<0.05 means significant)\n",
        "threshold = 0.05\n",
        "\n",
        "n = 0\n",
        "index_lst_chi = []\n",
        "for i in range(len(fs.pvalues_)):\n",
        " if fs.pvalues_[i]<0.05:\n",
        "   n+=1\n",
        " else:\n",
        "   index_lst_chi.append(i)  # store indices of insignificant features \n",
        "n   "
      ],
      "metadata": {
        "colab": {
          "base_uri": "https://localhost:8080/"
        },
        "id": "_gUbFsdiDz5a",
        "outputId": "7f0e2c66-f919-450c-dd59-d24563eb4914"
      },
      "execution_count": 309,
      "outputs": [
        {
          "output_type": "execute_result",
          "data": {
            "text/plain": [
              "37"
            ]
          },
          "metadata": {},
          "execution_count": 309
        }
      ]
    },
    {
      "cell_type": "code",
      "source": [
        "# we see that there are n categorical features with pvalue<0.05, \n",
        "# hence we can select the top n highest scoring categorical features\n",
        "fs = SelectKBest(score_func=chi2, k=n) \n",
        "fs.fit(x_train_cat, y_train)\n",
        "# x_train_cat_fs = fs.transform(x_train_cat) # returns a transformed version of x_train_cat\n",
        "# x_test_cat_fs = fs.transform(x_test_cat) # returns a transformed version of x_test_cat"
      ],
      "metadata": {
        "colab": {
          "base_uri": "https://localhost:8080/"
        },
        "id": "PiY-PVwgFVkM",
        "outputId": "d52e17de-1334-4009-d4b2-0cffa1ff27e2"
      },
      "execution_count": 310,
      "outputs": [
        {
          "output_type": "execute_result",
          "data": {
            "text/plain": [
              "SelectKBest(k=37, score_func=<function chi2 at 0x7faca60478b0>)"
            ]
          },
          "metadata": {},
          "execution_count": 310
        }
      ]
    },
    {
      "cell_type": "code",
      "source": [
        "# x_train_cat_fs.shape, x_test_cat_fs.shape"
      ],
      "metadata": {
        "id": "qBpKtVbmGQJk"
      },
      "execution_count": 311,
      "outputs": []
    },
    {
      "cell_type": "code",
      "source": [
        "# specifically, the insignificant categorical features are\n",
        "feature_names[index_lst_chi]"
      ],
      "metadata": {
        "colab": {
          "base_uri": "https://localhost:8080/"
        },
        "id": "jDeijTWXGTy8",
        "outputId": "c034d5d0-0337-41c6-abba-089695558350"
      },
      "execution_count": 312,
      "outputs": [
        {
          "output_type": "execute_result",
          "data": {
            "text/plain": [
              "array(['Categorical__gender_Female', 'Categorical__gender_Male',\n",
              "       'Categorical__PhoneService_No', 'Categorical__PhoneService_Yes',\n",
              "       'Categorical__MultipleLines_No',\n",
              "       'Categorical__MultipleLines_No phone service'], dtype=object)"
            ]
          },
          "metadata": {},
          "execution_count": 312
        }
      ]
    },
    {
      "cell_type": "markdown",
      "source": [
        "#### 3.2.2 - ANOVA F-Test for Numerical Features"
      ],
      "metadata": {
        "id": "-aBQpmY_M9LZ"
      }
    },
    {
      "cell_type": "code",
      "source": [
        "from sklearn.feature_selection import f_classif\n",
        "\n",
        "fs = SelectKBest(score_func=f_classif, k='all') \n",
        "fs.fit(x_train_num, y_train)"
      ],
      "metadata": {
        "colab": {
          "base_uri": "https://localhost:8080/"
        },
        "id": "8vkYnc6KHan4",
        "outputId": "5e7bb629-1ca0-481f-f4ad-b63e8976db40"
      },
      "execution_count": 313,
      "outputs": [
        {
          "output_type": "execute_result",
          "data": {
            "text/plain": [
              "SelectKBest(k='all')"
            ]
          },
          "metadata": {},
          "execution_count": 313
        }
      ]
    },
    {
      "cell_type": "code",
      "source": [
        "# P-values associated with the F-statistic (score).\n",
        "# We can then print the scores for each variable \n",
        "\n",
        "# what are pvalues for the features\n",
        "for i in range(len(fs.pvalues_)):\n",
        " print('Feature %d: %f' % (i, fs.pvalues_[i]))\n",
        "# plot the pvalues\n",
        "plt.bar([i for i in range(len(fs.pvalues_))], fs.pvalues_)\n",
        "plt.show()"
      ],
      "metadata": {
        "colab": {
          "base_uri": "https://localhost:8080/",
          "height": 328
        },
        "id": "mwHewdYZR27E",
        "outputId": "2f889b8e-c65c-44e1-e2c7-e5464074bded"
      },
      "execution_count": 314,
      "outputs": [
        {
          "output_type": "stream",
          "name": "stdout",
          "text": [
            "Feature 0: 0.000000\n",
            "Feature 1: 0.000000\n",
            "Feature 2: 0.000000\n"
          ]
        },
        {
          "output_type": "display_data",
          "data": {
            "text/plain": [
              "<Figure size 432x288 with 1 Axes>"
            ],
            "image/png": "[encoded data removed]"
          },
          "metadata": {
            "needs_background": "light"
          }
        }
      ]
    },
    {
      "cell_type": "code",
      "source": [
        "# we use a threshold of 0.05 to select significant features (pvalue<0.05 means significant)\n",
        "threshold = 0.05\n",
        "\n",
        "n = 0\n",
        "index_lst_anova = []\n",
        "for i in range(len(fs.pvalues_)):\n",
        " if fs.pvalues_[i]<0.05:\n",
        "   n+=1\n",
        " else:\n",
        "   index_lst_anova.append(i)  # store indices of insignificant features \n",
        "n  "
      ],
      "metadata": {
        "colab": {
          "base_uri": "https://localhost:8080/"
        },
        "id": "4kJgXYD2SB1C",
        "outputId": "4cd93683-f43d-4929-a63f-93dae6f4c0c6"
      },
      "execution_count": 315,
      "outputs": [
        {
          "output_type": "execute_result",
          "data": {
            "text/plain": [
              "3"
            ]
          },
          "metadata": {},
          "execution_count": 315
        }
      ]
    },
    {
      "cell_type": "code",
      "source": [
        "# we see that all 3 numerical features are significant, \n",
        "# hence we include all 3 numerical features"
      ],
      "metadata": {
        "id": "EPLWLyGTSCWR"
      },
      "execution_count": 316,
      "outputs": []
    },
    {
      "cell_type": "markdown",
      "source": [
        "#### 3.2.3 - Mutual Information (MI) for Both Types of Features"
      ],
      "metadata": {
        "id": "tqp6qJgRTHOz"
      }
    },
    {
      "cell_type": "code",
      "source": [
        "pd.DataFrame(x_train)"
      ],
      "metadata": {
        "colab": {
          "base_uri": "https://localhost:8080/",
          "height": 423
        },
        "id": "uVc1L9SgMnqv",
        "outputId": "cb663d6c-a03e-45fd-a441-e05ecfda84a5"
      },
      "execution_count": 317,
      "outputs": [
        {
          "output_type": "execute_result",
          "data": {
            "text/plain": [
              "       0    1    2    3    4    5    6    7    8    9   ...   36   37   38  \\\n",
              "0     1.0  0.0  1.0  0.0  1.0  0.0  1.0  0.0  0.0  1.0  ...  0.0  0.0  1.0   \n",
              "1     0.0  1.0  1.0  0.0  1.0  0.0  0.0  1.0  0.0  1.0  ...  1.0  1.0  0.0   \n",
              "2     0.0  1.0  1.0  0.0  0.0  1.0  0.0  1.0  0.0  1.0  ...  1.0  1.0  0.0   \n",
              "3     1.0  0.0  1.0  0.0  0.0  1.0  1.0  0.0  0.0  1.0  ...  1.0  1.0  0.0   \n",
              "4     0.0  1.0  1.0  0.0  1.0  0.0  1.0  0.0  0.0  1.0  ...  0.0  0.0  1.0   \n",
              "...   ...  ...  ...  ...  ...  ...  ...  ...  ...  ...  ...  ...  ...  ...   \n",
              "5620  0.0  1.0  1.0  0.0  1.0  0.0  1.0  0.0  0.0  1.0  ...  0.0  0.0  1.0   \n",
              "5621  1.0  0.0  1.0  0.0  0.0  1.0  0.0  1.0  0.0  1.0  ...  0.0  0.0  1.0   \n",
              "5622  1.0  0.0  1.0  0.0  1.0  0.0  1.0  0.0  0.0  1.0  ...  0.0  0.0  1.0   \n",
              "5623  0.0  1.0  1.0  0.0  1.0  0.0  1.0  0.0  0.0  1.0  ...  0.0  0.0  1.0   \n",
              "5624  0.0  1.0  0.0  1.0  1.0  0.0  1.0  0.0  0.0  1.0  ...  0.0  0.0  1.0   \n",
              "\n",
              "       39   40   41   42        43        44        45  \n",
              "0     0.0  0.0  0.0  1.0  0.000000  0.012438  0.000081  \n",
              "1     0.0  0.0  0.0  1.0  0.915493  0.022886  0.154431  \n",
              "2     0.0  0.0  1.0  0.0  0.985915  0.717910  0.767280  \n",
              "3     1.0  0.0  0.0  0.0  1.000000  0.819900  0.844132  \n",
              "4     0.0  0.0  0.0  1.0  0.000000  0.274627  0.003121  \n",
              "...   ...  ...  ...  ...       ...       ...       ...  \n",
              "5620  1.0  0.0  0.0  0.0  0.253521  0.468657  0.139978  \n",
              "5621  0.0  0.0  1.0  0.0  0.971831  0.878109  0.851396  \n",
              "5622  0.0  0.0  1.0  0.0  0.140845  0.579602  0.094525  \n",
              "5623  0.0  0.0  0.0  1.0  0.014085  0.359701  0.010997  \n",
              "5624  0.0  0.0  1.0  0.0  0.000000  0.511443  0.005868  \n",
              "\n",
              "[5625 rows x 46 columns]"
            ],
            "text/html": [
              "\n",
              "  <div id=\"df-26963059-831d-4094-b77d-4732f9dbc83b\">\n",
              "    <div class=\"colab-df-container\">\n",
              "      <div>\n",
              "<style scoped>\n",
              "    .dataframe tbody tr th:only-of-type {\n",
              "        vertical-align: middle;\n",
              "    }\n",
              "\n",
              "    .dataframe tbody tr th {\n",
              "        vertical-align: top;\n",
              "    }\n",
              "\n",
              "    .dataframe thead th {\n",
              "        text-align: right;\n",
              "    }\n",
              "</style>\n",
              "<table border=\"1\" class=\"dataframe\">\n",
              "  <thead>\n",
              "    <tr style=\"text-align: right;\">\n",
              "      <th></th>\n",
              "      <th>0</th>\n",
              "      <th>1</th>\n",
              "      <th>2</th>\n",
              "      <th>3</th>\n",
              "      <th>4</th>\n",
              "      <th>5</th>\n",
              "      <th>6</th>\n",
              "      <th>7</th>\n",
              "      <th>8</th>\n",
              "      <th>9</th>\n",
              "      <th>...</th>\n",
              "      <th>36</th>\n",
              "      <th>37</th>\n",
              "      <th>38</th>\n",
              "      <th>39</th>\n",
              "      <th>40</th>\n",
              "      <th>41</th>\n",
              "      <th>42</th>\n",
              "      <th>43</th>\n",
              "      <th>44</th>\n",
              "      <th>45</th>\n",
              "    </tr>\n",
              "  </thead>\n",
              "  <tbody>\n",
              "    <tr>\n",
              "      <th>0</th>\n",
              "      <td>1.0</td>\n",
              "      <td>0.0</td>\n",
              "      <td>1.0</td>\n",
              "      <td>0.0</td>\n",
              "      <td>1.0</td>\n",
              "      <td>0.0</td>\n",
              "      <td>1.0</td>\n",
              "      <td>0.0</td>\n",
              "      <td>0.0</td>\n",
              "      <td>1.0</td>\n",
              "      <td>...</td>\n",
              "      <td>0.0</td>\n",
              "      <td>0.0</td>\n",
              "      <td>1.0</td>\n",
              "      <td>0.0</td>\n",
              "      <td>0.0</td>\n",
              "      <td>0.0</td>\n",
              "      <td>1.0</td>\n",
              "      <td>0.000000</td>\n",
              "      <td>0.012438</td>\n",
              "      <td>0.000081</td>\n",
              "    </tr>\n",
              "    <tr>\n",
              "      <th>1</th>\n",
              "      <td>0.0</td>\n",
              "      <td>1.0</td>\n",
              "      <td>1.0</td>\n",
              "      <td>0.0</td>\n",
              "      <td>1.0</td>\n",
              "      <td>0.0</td>\n",
              "      <td>0.0</td>\n",
              "      <td>1.0</td>\n",
              "      <td>0.0</td>\n",
              "      <td>1.0</td>\n",
              "      <td>...</td>\n",
              "      <td>1.0</td>\n",
              "      <td>1.0</td>\n",
              "      <td>0.0</td>\n",
              "      <td>0.0</td>\n",
              "      <td>0.0</td>\n",
              "      <td>0.0</td>\n",
              "      <td>1.0</td>\n",
              "      <td>0.915493</td>\n",
              "      <td>0.022886</td>\n",
              "      <td>0.154431</td>\n",
              "    </tr>\n",
              "    <tr>\n",
              "      <th>2</th>\n",
              "      <td>0.0</td>\n",
              "      <td>1.0</td>\n",
              "      <td>1.0</td>\n",
              "      <td>0.0</td>\n",
              "      <td>0.0</td>\n",
              "      <td>1.0</td>\n",
              "      <td>0.0</td>\n",
              "      <td>1.0</td>\n",
              "      <td>0.0</td>\n",
              "      <td>1.0</td>\n",
              "      <td>...</td>\n",
              "      <td>1.0</td>\n",
              "      <td>1.0</td>\n",
              "      <td>0.0</td>\n",
              "      <td>0.0</td>\n",
              "      <td>0.0</td>\n",
              "      <td>1.0</td>\n",
              "      <td>0.0</td>\n",
              "      <td>0.985915</td>\n",
              "      <td>0.717910</td>\n",
              "      <td>0.767280</td>\n",
              "    </tr>\n",
              "    <tr>\n",
              "      <th>3</th>\n",
              "      <td>1.0</td>\n",
              "      <td>0.0</td>\n",
              "      <td>1.0</td>\n",
              "      <td>0.0</td>\n",
              "      <td>0.0</td>\n",
              "      <td>1.0</td>\n",
              "      <td>1.0</td>\n",
              "      <td>0.0</td>\n",
              "      <td>0.0</td>\n",
              "      <td>1.0</td>\n",
              "      <td>...</td>\n",
              "      <td>1.0</td>\n",
              "      <td>1.0</td>\n",
              "      <td>0.0</td>\n",
              "      <td>1.0</td>\n",
              "      <td>0.0</td>\n",
              "      <td>0.0</td>\n",
              "      <td>0.0</td>\n",
              "      <td>1.000000</td>\n",
              "      <td>0.819900</td>\n",
              "      <td>0.844132</td>\n",
              "    </tr>\n",
              "    <tr>\n",
              "      <th>4</th>\n",
              "      <td>0.0</td>\n",
              "      <td>1.0</td>\n",
              "      <td>1.0</td>\n",
              "      <td>0.0</td>\n",
              "      <td>1.0</td>\n",
              "      <td>0.0</td>\n",
              "      <td>1.0</td>\n",
              "      <td>0.0</td>\n",
              "      <td>0.0</td>\n",
              "      <td>1.0</td>\n",
              "      <td>...</td>\n",
              "      <td>0.0</td>\n",
              "      <td>0.0</td>\n",
              "      <td>1.0</td>\n",
              "      <td>0.0</td>\n",
              "      <td>0.0</td>\n",
              "      <td>0.0</td>\n",
              "      <td>1.0</td>\n",
              "      <td>0.000000</td>\n",
              "      <td>0.274627</td>\n",
              "      <td>0.003121</td>\n",
              "    </tr>\n",
              "    <tr>\n",
              "      <th>...</th>\n",
              "      <td>...</td>\n",
              "      <td>...</td>\n",
              "      <td>...</td>\n",
              "      <td>...</td>\n",
              "      <td>...</td>\n",
              "      <td>...</td>\n",
              "      <td>...</td>\n",
              "      <td>...</td>\n",
              "      <td>...</td>\n",
              "      <td>...</td>\n",
              "      <td>...</td>\n",
              "      <td>...</td>\n",
              "      <td>...</td>\n",
              "      <td>...</td>\n",
              "      <td>...</td>\n",
              "      <td>...</td>\n",
              "      <td>...</td>\n",
              "      <td>...</td>\n",
              "      <td>...</td>\n",
              "      <td>...</td>\n",
              "      <td>...</td>\n",
              "    </tr>\n",
              "    <tr>\n",
              "      <th>5620</th>\n",
              "      <td>0.0</td>\n",
              "      <td>1.0</td>\n",
              "      <td>1.0</td>\n",
              "      <td>0.0</td>\n",
              "      <td>1.0</td>\n",
              "      <td>0.0</td>\n",
              "      <td>1.0</td>\n",
              "      <td>0.0</td>\n",
              "      <td>0.0</td>\n",
              "      <td>1.0</td>\n",
              "      <td>...</td>\n",
              "      <td>0.0</td>\n",
              "      <td>0.0</td>\n",
              "      <td>1.0</td>\n",
              "      <td>1.0</td>\n",
              "      <td>0.0</td>\n",
              "      <td>0.0</td>\n",
              "      <td>0.0</td>\n",
              "      <td>0.253521</td>\n",
              "      <td>0.468657</td>\n",
              "      <td>0.139978</td>\n",
              "    </tr>\n",
              "    <tr>\n",
              "      <th>5621</th>\n",
              "      <td>1.0</td>\n",
              "      <td>0.0</td>\n",
              "      <td>1.0</td>\n",
              "      <td>0.0</td>\n",
              "      <td>0.0</td>\n",
              "      <td>1.0</td>\n",
              "      <td>0.0</td>\n",
              "      <td>1.0</td>\n",
              "      <td>0.0</td>\n",
              "      <td>1.0</td>\n",
              "      <td>...</td>\n",
              "      <td>0.0</td>\n",
              "      <td>0.0</td>\n",
              "      <td>1.0</td>\n",
              "      <td>0.0</td>\n",
              "      <td>0.0</td>\n",
              "      <td>1.0</td>\n",
              "      <td>0.0</td>\n",
              "      <td>0.971831</td>\n",
              "      <td>0.878109</td>\n",
              "      <td>0.851396</td>\n",
              "    </tr>\n",
              "    <tr>\n",
              "      <th>5622</th>\n",
              "      <td>1.0</td>\n",
              "      <td>0.0</td>\n",
              "      <td>1.0</td>\n",
              "      <td>0.0</td>\n",
              "      <td>1.0</td>\n",
              "      <td>0.0</td>\n",
              "      <td>1.0</td>\n",
              "      <td>0.0</td>\n",
              "      <td>0.0</td>\n",
              "      <td>1.0</td>\n",
              "      <td>...</td>\n",
              "      <td>0.0</td>\n",
              "      <td>0.0</td>\n",
              "      <td>1.0</td>\n",
              "      <td>0.0</td>\n",
              "      <td>0.0</td>\n",
              "      <td>1.0</td>\n",
              "      <td>0.0</td>\n",
              "      <td>0.140845</td>\n",
              "      <td>0.579602</td>\n",
              "      <td>0.094525</td>\n",
              "    </tr>\n",
              "    <tr>\n",
              "      <th>5623</th>\n",
              "      <td>0.0</td>\n",
              "      <td>1.0</td>\n",
              "      <td>1.0</td>\n",
              "      <td>0.0</td>\n",
              "      <td>1.0</td>\n",
              "      <td>0.0</td>\n",
              "      <td>1.0</td>\n",
              "      <td>0.0</td>\n",
              "      <td>0.0</td>\n",
              "      <td>1.0</td>\n",
              "      <td>...</td>\n",
              "      <td>0.0</td>\n",
              "      <td>0.0</td>\n",
              "      <td>1.0</td>\n",
              "      <td>0.0</td>\n",
              "      <td>0.0</td>\n",
              "      <td>0.0</td>\n",
              "      <td>1.0</td>\n",
              "      <td>0.014085</td>\n",
              "      <td>0.359701</td>\n",
              "      <td>0.010997</td>\n",
              "    </tr>\n",
              "    <tr>\n",
              "      <th>5624</th>\n",
              "      <td>0.0</td>\n",
              "      <td>1.0</td>\n",
              "      <td>0.0</td>\n",
              "      <td>1.0</td>\n",
              "      <td>1.0</td>\n",
              "      <td>0.0</td>\n",
              "      <td>1.0</td>\n",
              "      <td>0.0</td>\n",
              "      <td>0.0</td>\n",
              "      <td>1.0</td>\n",
              "      <td>...</td>\n",
              "      <td>0.0</td>\n",
              "      <td>0.0</td>\n",
              "      <td>1.0</td>\n",
              "      <td>0.0</td>\n",
              "      <td>0.0</td>\n",
              "      <td>1.0</td>\n",
              "      <td>0.0</td>\n",
              "      <td>0.000000</td>\n",
              "      <td>0.511443</td>\n",
              "      <td>0.005868</td>\n",
              "    </tr>\n",
              "  </tbody>\n",
              "</table>\n",
              "<p>5625 rows × 46 columns</p>\n",
              "</div>\n",
              "      <button class=\"colab-df-convert\" onclick=\"convertToInteractive('df-26963059-831d-4094-b77d-4732f9dbc83b')\"\n",
              "              title=\"Convert this dataframe to an interactive table.\"\n",
              "              style=\"display:none;\">\n",
              "        \n",
              "  <svg xmlns=\"http://www.w3.org/2000/svg\" height=\"24px\"viewBox=\"0 0 24 24\"\n",
              "       width=\"24px\">\n",
              "    <path d=\"M0 0h24v24H0V0z\" fill=\"none\"/>\n",
              "    <path d=\"M18.56 5.44l.94 2.06.94-2.06 2.06-.94-2.06-.94-.94-2.06-.94 2.06-2.06.94zm-11 1L8.5 8.5l.94-2.06 2.06-.94-2.06-.94L8.5 2.5l-.94 2.06-2.06.94zm10 10l.94 2.06.94-2.06 2.06-.94-2.06-.94-.94-2.06-.94 2.06-2.06.94z\"/><path d=\"M17.41 7.96l-1.37-1.37c-.4-.4-.92-.59-1.43-.59-.52 0-1.04.2-1.43.59L10.3 9.45l-7.72 7.72c-.78.78-.78 2.05 0 2.83L4 21.41c.39.39.9.59 1.41.59.51 0 1.02-.2 1.41-.59l7.78-7.78 2.81-2.81c.8-.78.8-2.07 0-2.86zM5.41 20L4 18.59l7.72-7.72 1.47 1.35L5.41 20z\"/>\n",
              "  </svg>\n",
              "      </button>\n",
              "      \n",
              "  <style>\n",
              "    .colab-df-container {\n",
              "      display:flex;\n",
              "      flex-wrap:wrap;\n",
              "      gap: 12px;\n",
              "    }\n",
              "\n",
              "    .colab-df-convert {\n",
              "      background-color: #E8F0FE;\n",
              "      border: none;\n",
              "      border-radius: 50%;\n",
              "      cursor: pointer;\n",
              "      display: none;\n",
              "      fill: #1967D2;\n",
              "      height: 32px;\n",
              "      padding: 0 0 0 0;\n",
              "      width: 32px;\n",
              "    }\n",
              "\n",
              "    .colab-df-convert:hover {\n",
              "      background-color: #E2EBFA;\n",
              "      box-shadow: 0px 1px 2px rgba(60, 64, 67, 0.3), 0px 1px 3px 1px rgba(60, 64, 67, 0.15);\n",
              "      fill: #174EA6;\n",
              "    }\n",
              "\n",
              "    [theme=dark] .colab-df-convert {\n",
              "      background-color: #3B4455;\n",
              "      fill: #D2E3FC;\n",
              "    }\n",
              "\n",
              "    [theme=dark] .colab-df-convert:hover {\n",
              "      background-color: #434B5C;\n",
              "      box-shadow: 0px 1px 3px 1px rgba(0, 0, 0, 0.15);\n",
              "      filter: drop-shadow(0px 1px 2px rgba(0, 0, 0, 0.3));\n",
              "      fill: #FFFFFF;\n",
              "    }\n",
              "  </style>\n",
              "\n",
              "      <script>\n",
              "        const buttonEl =\n",
              "          document.querySelector('#df-26963059-831d-4094-b77d-4732f9dbc83b button.colab-df-convert');\n",
              "        buttonEl.style.display =\n",
              "          google.colab.kernel.accessAllowed ? 'block' : 'none';\n",
              "\n",
              "        async function convertToInteractive(key) {\n",
              "          const element = document.querySelector('#df-26963059-831d-4094-b77d-4732f9dbc83b');\n",
              "          const dataTable =\n",
              "            await google.colab.kernel.invokeFunction('convertToInteractive',\n",
              "                                                     [key], {});\n",
              "          if (!dataTable) return;\n",
              "\n",
              "          const docLinkHtml = 'Like what you see? Visit the ' +\n",
              "            '<a target=\"_blank\" href=https://colab.research.google.com/notebooks/data_table.ipynb>data table notebook</a>'\n",
              "            + ' to learn more about interactive tables.';\n",
              "          element.innerHTML = '';\n",
              "          dataTable['output_type'] = 'display_data';\n",
              "          await google.colab.output.renderOutput(dataTable, element);\n",
              "          const docLink = document.createElement('div');\n",
              "          docLink.innerHTML = docLinkHtml;\n",
              "          element.appendChild(docLink);\n",
              "        }\n",
              "      </script>\n",
              "    </div>\n",
              "  </div>\n",
              "  "
            ]
          },
          "metadata": {},
          "execution_count": 317
        }
      ]
    },
    {
      "cell_type": "code",
      "source": [
        "from sklearn.feature_selection import mutual_info_classif\n",
        "\n",
        "def mutual_info_classif_custom(X, y):\n",
        "    # To change discrete_features, \n",
        "    # you need to redefine the function each time\n",
        "    # Because once the func def is supplied to selectKBest, it cant be changed\n",
        "    discrete_features_index = list(range(0,43)) # columns 0 to 42 in x_train are categorical\n",
        "\n",
        "    return mutual_info_classif(X, y, discrete_features=discrete_features_index, random_state=1)\n",
        "\n",
        "fs = SelectKBest(score_func=mutual_info_classif_custom, k='all') \n",
        "fs.fit(x_train, y_train)"
      ],
      "metadata": {
        "colab": {
          "base_uri": "https://localhost:8080/"
        },
        "id": "EYuHL5SRTN4j",
        "outputId": "1b253bfa-628e-4812-f823-a9614dff7990"
      },
      "execution_count": 318,
      "outputs": [
        {
          "output_type": "execute_result",
          "data": {
            "text/plain": [
              "SelectKBest(k='all',\n",
              "            score_func=<function mutual_info_classif_custom at 0x7faca418f700>)"
            ]
          },
          "metadata": {},
          "execution_count": 318
        }
      ]
    },
    {
      "cell_type": "code",
      "source": [
        "# score is the Estimated mutual information between each feature and the target.\n",
        "# what are scores for the features\n",
        "for i in range(len(fs.scores_)):\n",
        " print('Feature %d: %f' % (i, fs.scores_[i]))\n",
        "# plot the scores\n",
        "plt.bar([i for i in range(len(fs.scores_))], fs.scores_)\n",
        "plt.show()"
      ],
      "metadata": {
        "colab": {
          "base_uri": "https://localhost:8080/",
          "height": 1000
        },
        "id": "WhjYoB6HXyiT",
        "outputId": "d2dc131c-6d96-4050-ecbf-0d6bdeee5eeb"
      },
      "execution_count": 319,
      "outputs": [
        {
          "output_type": "stream",
          "name": "stdout",
          "text": [
            "Feature 0: 0.000051\n",
            "Feature 1: 0.000051\n",
            "Feature 2: 0.011645\n",
            "Feature 3: 0.011645\n",
            "Feature 4: 0.011199\n",
            "Feature 5: 0.011199\n",
            "Feature 6: 0.014075\n",
            "Feature 7: 0.014075\n",
            "Feature 8: 0.000025\n",
            "Feature 9: 0.000025\n",
            "Feature 10: 0.000598\n",
            "Feature 11: 0.000025\n",
            "Feature 12: 0.000761\n",
            "Feature 13: 0.007394\n",
            "Feature 14: 0.046782\n",
            "Feature 15: 0.032169\n",
            "Feature 16: 0.060260\n",
            "Feature 17: 0.032169\n",
            "Feature 18: 0.014944\n",
            "Feature 19: 0.034585\n",
            "Feature 20: 0.032169\n",
            "Feature 21: 0.002898\n",
            "Feature 22: 0.030372\n",
            "Feature 23: 0.032169\n",
            "Feature 24: 0.001734\n",
            "Feature 25: 0.058751\n",
            "Feature 26: 0.032169\n",
            "Feature 27: 0.013932\n",
            "Feature 28: 0.008097\n",
            "Feature 29: 0.032169\n",
            "Feature 30: 0.002116\n",
            "Feature 31: 0.007135\n",
            "Feature 32: 0.032169\n",
            "Feature 33: 0.002655\n",
            "Feature 34: 0.089900\n",
            "Feature 35: 0.016930\n",
            "Feature 36: 0.060702\n",
            "Feature 37: 0.018651\n",
            "Feature 38: 0.018651\n",
            "Feature 39: 0.007787\n",
            "Feature 40: 0.008225\n",
            "Feature 41: 0.044546\n",
            "Feature 42: 0.005593\n",
            "Feature 43: 0.073050\n",
            "Feature 44: 0.044470\n",
            "Feature 45: 0.042359\n"
          ]
        },
        {
          "output_type": "display_data",
          "data": {
            "text/plain": [
              "<Figure size 432x288 with 1 Axes>"
            ],
            "image/png": "[encoded data removed]"
          },
          "metadata": {
            "needs_background": "light"
          }
        }
      ]
    },
    {
      "cell_type": "code",
      "source": [
        "# MI equals to zero if and only if two random variables are independent\n",
        "# we see from above that there are features with a p-value really close to 0\n",
        "# specifically, we use a cut off value of 0.001, i.e. features with MI < 0.001 are insignificant\n",
        "n = 0\n",
        "index_lst_mi = []\n",
        "for i in range(len(fs.scores_)):\n",
        " if fs.scores_[i]<0.001:\n",
        "   n+=1\n",
        "   index_lst_mi.append(i) # store indices of insignificant features\n",
        "  \n",
        "n  "
      ],
      "metadata": {
        "colab": {
          "base_uri": "https://localhost:8080/"
        },
        "id": "ZYXtsT-dX08j",
        "outputId": "8da49413-8111-421d-debb-e78b6277ed1d"
      },
      "execution_count": 320,
      "outputs": [
        {
          "output_type": "execute_result",
          "data": {
            "text/plain": [
              "7"
            ]
          },
          "metadata": {},
          "execution_count": 320
        }
      ]
    },
    {
      "cell_type": "code",
      "source": [
        "# specifically, the insignificant categorical features are\n",
        "feature_names[index_lst_mi]"
      ],
      "metadata": {
        "colab": {
          "base_uri": "https://localhost:8080/"
        },
        "id": "lAi60cBxgE3F",
        "outputId": "0d9519df-fb7f-4fb5-fd77-ecd8f6c4919d"
      },
      "execution_count": 321,
      "outputs": [
        {
          "output_type": "execute_result",
          "data": {
            "text/plain": [
              "array(['Categorical__gender_Female', 'Categorical__gender_Male',\n",
              "       'Categorical__PhoneService_No', 'Categorical__PhoneService_Yes',\n",
              "       'Categorical__MultipleLines_No',\n",
              "       'Categorical__MultipleLines_No phone service',\n",
              "       'Categorical__MultipleLines_Yes'], dtype=object)"
            ]
          },
          "metadata": {},
          "execution_count": 321
        }
      ]
    },
    {
      "cell_type": "markdown",
      "source": [
        "### 3.3 - Model Fitting\n",
        "use features selected based on MI"
      ],
      "metadata": {
        "id": "9EWZRAeTkJQQ"
      }
    },
    {
      "cell_type": "code",
      "source": [
        "x_train_df = pd.DataFrame(x_train)\n",
        "x_test_df = pd.DataFrame(x_test)\n",
        "x_train_fs = x_train_df.drop(x_train_df.columns[index_lst_mi],axis = 1).to_numpy() # remove insignificant features in x_train\n",
        "x_test_fs = x_test_df.drop(x_test_df.columns[index_lst_mi],axis = 1).to_numpy() # remove insignificant features in x_test"
      ],
      "metadata": {
        "id": "iynWV2sChOoI"
      },
      "execution_count": 322,
      "outputs": []
    },
    {
      "cell_type": "code",
      "source": [
        "x_train_fs.shape, x_test_fs.shape"
      ],
      "metadata": {
        "colab": {
          "base_uri": "https://localhost:8080/"
        },
        "id": "X705nQHPXlx8",
        "outputId": "31bf235e-f420-45f1-e5bb-4db7dc1404cc"
      },
      "execution_count": 323,
      "outputs": [
        {
          "output_type": "execute_result",
          "data": {
            "text/plain": [
              "((5625, 39), (1407, 39))"
            ]
          },
          "metadata": {},
          "execution_count": 323
        }
      ]
    },
    {
      "cell_type": "markdown",
      "source": [
        "#### 3.3.1 -bold text Does Not Apply ADASYN"
      ],
      "metadata": {
        "id": "JGQOWF2zZ_DO"
      }
    },
    {
      "cell_type": "markdown",
      "source": [
        "##### 3.3.1.1 - SVM"
      ],
      "metadata": {
        "id": "ODSZ4kaRaTzr"
      }
    },
    {
      "cell_type": "code",
      "source": [
        "from sklearn.svm import SVC\n",
        "svm = SVC(random_state=1, gamma=\"auto\")\n",
        "svm.fit(x_train_fs,y_train)\n",
        "predictions = svm.predict(x_test_fs)\n",
        "print(\"Test Accuracy: {}%\".format(round(svm.score(x_test_fs,y_test)*100,2)))\n",
        "print(\"Train Accuracy: {}%\".format(round(svm.score(x_train_fs,y_train)*100,2)))"
      ],
      "metadata": {
        "colab": {
          "base_uri": "https://localhost:8080/"
        },
        "id": "tRLvchpwXoqe",
        "outputId": "cac8beb1-5c82-4332-b6f3-a8bb8f554fbf"
      },
      "execution_count": 324,
      "outputs": [
        {
          "output_type": "stream",
          "name": "stdout",
          "text": [
            "Test Accuracy: 79.74%\n",
            "Train Accuracy: 80.0%\n"
          ]
        }
      ]
    },
    {
      "cell_type": "markdown",
      "source": [
        "##### 3.3.1.2 - Logistic Regression"
      ],
      "metadata": {
        "id": "BLIJzvFdaWhk"
      }
    },
    {
      "cell_type": "code",
      "source": [
        "from sklearn.linear_model import LogisticRegression\n",
        "lr = LogisticRegression(random_state=1, solver=\"newton-cg\")\n",
        "lr.fit(x_train_fs,y_train)\n",
        "predictions = lr.predict(x_test_fs)\n",
        "print(\"Test Accuracy: {}%\".format(round(lr.score(x_test_fs,y_test)*100,2)))\n",
        "print(\"Train Accuracy: {}%\".format(round(lr.score(x_train_fs,y_train)*100,2)))"
      ],
      "metadata": {
        "colab": {
          "base_uri": "https://localhost:8080/"
        },
        "id": "BsXo9FTGaX7N",
        "outputId": "972ea840-f10b-4e8f-b280-bbb62162022c"
      },
      "execution_count": 325,
      "outputs": [
        {
          "output_type": "stream",
          "name": "stdout",
          "text": [
            "Test Accuracy: 79.53%\n",
            "Train Accuracy: 80.59%\n"
          ]
        }
      ]
    },
    {
      "cell_type": "markdown",
      "source": [
        "##### 3.3.1.3 - Random Forest"
      ],
      "metadata": {
        "id": "uS543wq-aYWQ"
      }
    },
    {
      "cell_type": "code",
      "source": [
        "from sklearn.ensemble import RandomForestClassifier\n",
        "rf = RandomForestClassifier(n_estimators=100, random_state=1)\n",
        "rf.fit(x_train_fs,y_train)\n",
        "predictions = rf.predict(x_test_fs)\n",
        "print(\"Test Accuracy: {}%\".format(round(rf.score(x_test_fs,y_test)*100,2)))\n",
        "print(\"Train Accuracy: {}%\".format(round(rf.score(x_train_fs,y_train)*100,2)))"
      ],
      "metadata": {
        "colab": {
          "base_uri": "https://localhost:8080/"
        },
        "id": "AeZ6b1tQaagA",
        "outputId": "9e3c2a31-6e1e-4911-b586-4677793daad8"
      },
      "execution_count": 326,
      "outputs": [
        {
          "output_type": "stream",
          "name": "stdout",
          "text": [
            "Test Accuracy: 77.61%\n",
            "Train Accuracy: 99.73%\n"
          ]
        }
      ]
    },
    {
      "cell_type": "markdown",
      "source": [
        "#### 3.3.2 - Balance Classes by ADASYN Oversampling"
      ],
      "metadata": {
        "id": "-T6ER54DbpUr"
      }
    },
    {
      "cell_type": "code",
      "source": [
        "# oversample the training set using ADASYN\n",
        "from imblearn.over_sampling import ADASYN\n",
        "ada = ADASYN(random_state=1)\n",
        "x_train_ada, y_train_ada = ada.fit_resample(x_train_fs, y_train)"
      ],
      "metadata": {
        "id": "NgjqmpZcbqT_"
      },
      "execution_count": 327,
      "outputs": []
    },
    {
      "cell_type": "code",
      "source": [
        "# confirm training dataset is now balanced\n",
        "y_train_ada.value_counts()"
      ],
      "metadata": {
        "colab": {
          "base_uri": "https://localhost:8080/"
        },
        "id": "o4hKiMFabwWw",
        "outputId": "e5e80c79-d676-4db8-b301-87daa0c427c3"
      },
      "execution_count": 328,
      "outputs": [
        {
          "output_type": "execute_result",
          "data": {
            "text/plain": [
              "0    4122\n",
              "1    4034\n",
              "Name: Churn, dtype: int64"
            ]
          },
          "metadata": {},
          "execution_count": 328
        }
      ]
    },
    {
      "cell_type": "code",
      "source": [
        "x_train_ada.shape"
      ],
      "metadata": {
        "colab": {
          "base_uri": "https://localhost:8080/"
        },
        "id": "YewIdmhie3Q6",
        "outputId": "fadb0225-a236-4a73-a69a-5ebc669c651d"
      },
      "execution_count": 329,
      "outputs": [
        {
          "output_type": "execute_result",
          "data": {
            "text/plain": [
              "(8156, 39)"
            ]
          },
          "metadata": {},
          "execution_count": 329
        }
      ]
    },
    {
      "cell_type": "code",
      "source": [
        "x_train_fs.shape"
      ],
      "metadata": {
        "colab": {
          "base_uri": "https://localhost:8080/"
        },
        "id": "OYu2ns0ye5Vr",
        "outputId": "f684db40-3864-444c-b963-f53b3275c332"
      },
      "execution_count": 330,
      "outputs": [
        {
          "output_type": "execute_result",
          "data": {
            "text/plain": [
              "(5625, 39)"
            ]
          },
          "metadata": {},
          "execution_count": 330
        }
      ]
    },
    {
      "cell_type": "markdown",
      "source": [
        "##### 3.3.2.1 - SVM"
      ],
      "metadata": {
        "id": "eT6JlXwTeYfP"
      }
    },
    {
      "cell_type": "code",
      "source": [
        "from sklearn.svm import SVC\n",
        "svm = SVC(random_state=1, gamma=\"auto\")\n",
        "svm.fit(x_train_ada,y_train_ada)\n",
        "predictions = svm.predict(x_test_fs)\n",
        "print(\"Test Accuracy: {}%\".format(round(svm.score(x_test_fs,y_test)*100,2)))\n",
        "print(\"Train Accuracy: {}%\".format(round(svm.score(x_train_ada,y_train_ada)*100,2)))"
      ],
      "metadata": {
        "colab": {
          "base_uri": "https://localhost:8080/"
        },
        "outputId": "065bdb0b-b603-4196-e2fd-bdf9177b006b",
        "id": "M21ZyZllea3W"
      },
      "execution_count": 331,
      "outputs": [
        {
          "output_type": "stream",
          "name": "stdout",
          "text": [
            "Test Accuracy: 71.64%\n",
            "Train Accuracy: 73.05%\n"
          ]
        }
      ]
    },
    {
      "cell_type": "markdown",
      "source": [
        "##### 3.3.2.2 - Logistic Regression"
      ],
      "metadata": {
        "id": "vVjSYg88ecI7"
      }
    },
    {
      "cell_type": "code",
      "source": [
        "from sklearn.linear_model import LogisticRegression\n",
        "lr = LogisticRegression(random_state=1, solver=\"newton-cg\")\n",
        "lr.fit(x_train_ada,y_train_ada)\n",
        "predictions = lr.predict(x_test_fs)\n",
        "print(\"Test Accuracy: {}%\".format(round(lr.score(x_test_fs,y_test)*100,2)))\n",
        "print(\"Train Accuracy: {}%\".format(round(lr.score(x_train_ada,y_train_ada)*100,2)))"
      ],
      "metadata": {
        "colab": {
          "base_uri": "https://localhost:8080/"
        },
        "id": "AUesJj-Sedk1",
        "outputId": "825a7d15-8e9d-4597-e4f9-f25b1839b7cc"
      },
      "execution_count": 332,
      "outputs": [
        {
          "output_type": "stream",
          "name": "stdout",
          "text": [
            "Test Accuracy: 73.7%\n",
            "Train Accuracy: 73.69%\n"
          ]
        }
      ]
    },
    {
      "cell_type": "markdown",
      "source": [
        "##### 3.3.2.3 - Random Forest"
      ],
      "metadata": {
        "id": "dAwOwlXJed-7"
      }
    },
    {
      "cell_type": "code",
      "source": [
        "from sklearn.ensemble import RandomForestClassifier\n",
        "rf = RandomForestClassifier(n_estimators=100, random_state=1)\n",
        "rf.fit(x_train_ada,y_train_ada)\n",
        "predictions = rf.predict(x_test_fs)\n",
        "print(\"Test Accuracy: {}%\".format(round(rf.score(x_test_fs,y_test)*100,2)))\n",
        "print(\"Train Accuracy: {}%\".format(round(rf.score(x_train_ada,y_train_ada)*100,2)))"
      ],
      "metadata": {
        "colab": {
          "base_uri": "https://localhost:8080/"
        },
        "id": "Cbd18ei9efTb",
        "outputId": "67c6abbd-ae65-4932-82cc-4d82f3e902b8"
      },
      "execution_count": 333,
      "outputs": [
        {
          "output_type": "stream",
          "name": "stdout",
          "text": [
            "Test Accuracy: 76.4%\n",
            "Train Accuracy: 99.82%\n"
          ]
        }
      ]
    },
    {
      "cell_type": "markdown",
      "source": [
        "### 3.4 - Multicollinearity"
      ],
      "metadata": {
        "id": "LIpUA-gFnzmq"
      }
    },
    {
      "cell_type": "markdown",
      "source": [
        "#### 3.4.1 - Remove Tenure"
      ],
      "metadata": {
        "id": "Pyf-o7Uqn4hF"
      }
    },
    {
      "cell_type": "code",
      "source": [
        "new_index = index_lst_mi+[43]\n",
        "new_index, index_lst_mi"
      ],
      "metadata": {
        "colab": {
          "base_uri": "https://localhost:8080/"
        },
        "id": "KahQGDfWpc8h",
        "outputId": "28d9a94e-1734-4bd9-e9c6-802f1d4a911a"
      },
      "execution_count": 334,
      "outputs": [
        {
          "output_type": "execute_result",
          "data": {
            "text/plain": [
              "([0, 1, 8, 9, 10, 11, 12, 43], [0, 1, 8, 9, 10, 11, 12])"
            ]
          },
          "metadata": {},
          "execution_count": 334
        }
      ]
    },
    {
      "cell_type": "code",
      "source": [
        "x_train_df = pd.DataFrame(x_train)\n",
        "x_test_df = pd.DataFrame(x_test)\n",
        "x_train_fs = x_train_df.drop(x_train_df.columns[new_index],axis = 1).to_numpy() # remove insignificant features in x_train\n",
        "x_test_fs = x_test_df.drop(x_test_df.columns[new_index],axis = 1).to_numpy() # remove insignificant features in x_test"
      ],
      "metadata": {
        "id": "fvJ78KPWn2PZ"
      },
      "execution_count": 335,
      "outputs": []
    },
    {
      "cell_type": "code",
      "source": [
        "x_train_fs.shape, x_test_fs.shape"
      ],
      "metadata": {
        "colab": {
          "base_uri": "https://localhost:8080/"
        },
        "id": "hAFICUjIozAp",
        "outputId": "7ad36f96-8f54-4c44-d8d3-6238686023ee"
      },
      "execution_count": 336,
      "outputs": [
        {
          "output_type": "execute_result",
          "data": {
            "text/plain": [
              "((5625, 38), (1407, 38))"
            ]
          },
          "metadata": {},
          "execution_count": 336
        }
      ]
    },
    {
      "cell_type": "markdown",
      "source": [
        "##### 3.4.1.1 - SVM"
      ],
      "metadata": {
        "id": "Hzc_SCT_oZNU"
      }
    },
    {
      "cell_type": "code",
      "source": [
        "from sklearn.svm import SVC\n",
        "svm = SVC(random_state=1, gamma=\"auto\")\n",
        "svm.fit(x_train_fs,y_train)\n",
        "predictions = svm.predict(x_test_fs)\n",
        "print(\"Test Accuracy: {}%\".format(round(svm.score(x_test_fs,y_test)*100,2)))\n",
        "print(\"Train Accuracy: {}%\".format(round(svm.score(x_train_fs,y_train)*100,2)))"
      ],
      "metadata": {
        "colab": {
          "base_uri": "https://localhost:8080/"
        },
        "id": "kR0YkauDopLW",
        "outputId": "fc993a75-27e8-4730-9c30-3ec5894d5df9"
      },
      "execution_count": 337,
      "outputs": [
        {
          "output_type": "stream",
          "name": "stdout",
          "text": [
            "Test Accuracy: 80.1%\n",
            "Train Accuracy: 79.4%\n"
          ]
        }
      ]
    },
    {
      "cell_type": "markdown",
      "source": [
        "##### 3.4.1.2 - Logistic Regression"
      ],
      "metadata": {
        "id": "QTjtcz6doczB"
      }
    },
    {
      "cell_type": "code",
      "source": [
        "|from sklearn.linear_model import LogisticRegression\n",
        "lr = LogisticRegression(random_state=1, solver=\"newton-cg\")\n",
        "lr.fit(x_train_fs,y_train)\n",
        "predictions = lr.predict(x_test_fs)\n",
        "print(\"Test Accuracy: {}%\".format(round(lr.score(x_test_fs,y_test)*100,2)))\n",
        "print(\"Train Accuracy: {}%\".format(round(lr.score(x_train_fs,y_train)*100,2)))"
      ],
      "metadata": {
        "colab": {
          "base_uri": "https://localhost:8080/"
        },
        "id": "SK0s6B2Uop6x",
        "outputId": "dd96e2ca-0e49-407f-e042-843e0276bc0e"
      },
      "execution_count": 338,
      "outputs": [
        {
          "output_type": "stream",
          "name": "stdout",
          "text": [
            "Test Accuracy: 78.96%\n",
            "Train Accuracy: 79.95%\n"
          ]
        }
      ]
    },
    {
      "cell_type": "markdown",
      "source": [
        "##### 3.4.1.3 - Random Forest"
      ],
      "metadata": {
        "id": "c9D37rtHoewD"
      }
    },
    {
      "cell_type": "code",
      "source": [
        "from sklearn.ensemble import RandomForestClassifier\n",
        "rf = RandomForestClassifier(n_estimators=100, random_state=1)\n",
        "rf.fit(x_train_fs,y_train)\n",
        "predictions = rf.predict(x_test_fs)\n",
        "print(\"Test Accuracy: {}%\".format(round(rf.score(x_test_fs,y_test)*100,2)))\n",
        "print(\"Train Accuracy: {}%\".format(round(rf.score(x_train_fs,y_train)*100,2)))"
      ],
      "metadata": {
        "colab": {
          "base_uri": "https://localhost:8080/"
        },
        "id": "eddfzmpeoqqn",
        "outputId": "bab1a673-ea0a-45ea-b25c-67bd5d2dee1a"
      },
      "execution_count": 339,
      "outputs": [
        {
          "output_type": "stream",
          "name": "stdout",
          "text": [
            "Test Accuracy: 76.9%\n",
            "Train Accuracy: 99.73%\n"
          ]
        }
      ]
    },
    {
      "cell_type": "markdown",
      "source": [
        "#### 3.4.2 - Remove TotalCharges"
      ],
      "metadata": {
        "id": "wmZR31Wnn9S9"
      }
    },
    {
      "cell_type": "code",
      "source": [
        "new_index = index_lst_mi+[45]\n",
        "new_index, index_lst_mi"
      ],
      "metadata": {
        "colab": {
          "base_uri": "https://localhost:8080/"
        },
        "id": "wdw1MvmGqjRc",
        "outputId": "40c6efee-9e7e-4203-e573-2176162cfde4"
      },
      "execution_count": 340,
      "outputs": [
        {
          "output_type": "execute_result",
          "data": {
            "text/plain": [
              "([0, 1, 8, 9, 10, 11, 12, 45], [0, 1, 8, 9, 10, 11, 12])"
            ]
          },
          "metadata": {},
          "execution_count": 340
        }
      ]
    },
    {
      "cell_type": "code",
      "source": [
        "x_train_df = pd.DataFrame(x_train)\n",
        "x_test_df = pd.DataFrame(x_test)\n",
        "x_train_fs = x_train_df.drop(x_train_df.columns[new_index],axis = 1).to_numpy() # remove insignificant features in x_train\n",
        "x_test_fs = x_test_df.drop(x_test_df.columns[new_index],axis = 1).to_numpy() # remove insignificant features in x_test"
      ],
      "metadata": {
        "id": "lYhE9z92n_FZ"
      },
      "execution_count": 341,
      "outputs": []
    },
    {
      "cell_type": "code",
      "source": [
        "x_train_fs.shape, x_test_fs.shape"
      ],
      "metadata": {
        "colab": {
          "base_uri": "https://localhost:8080/"
        },
        "id": "eyqtWpEFo3L-",
        "outputId": "bee384ec-e72e-4d55-b6c9-c92406bc1182"
      },
      "execution_count": 342,
      "outputs": [
        {
          "output_type": "execute_result",
          "data": {
            "text/plain": [
              "((5625, 38), (1407, 38))"
            ]
          },
          "metadata": {},
          "execution_count": 342
        }
      ]
    },
    {
      "cell_type": "markdown",
      "source": [
        "##### 3.4.2.1 - SVM"
      ],
      "metadata": {
        "id": "_tbBrDtiohdn"
      }
    },
    {
      "cell_type": "code",
      "source": [
        "from sklearn.svm import SVC\n",
        "svm = SVC(random_state=1, gamma=\"auto\")\n",
        "svm.fit(x_train_fs,y_train)\n",
        "predictions = svm.predict(x_test_fs)\n",
        "print(\"Test Accuracy: {}%\".format(round(svm.score(x_test_fs,y_test)*100,2)))\n",
        "print(\"Train Accuracy: {}%\".format(round(svm.score(x_train_fs,y_train)*100,2)))"
      ],
      "metadata": {
        "colab": {
          "base_uri": "https://localhost:8080/"
        },
        "id": "h8ErHepWpBTG",
        "outputId": "db0955a3-233c-4a48-b75a-658f2a6b087b"
      },
      "execution_count": 343,
      "outputs": [
        {
          "output_type": "stream",
          "name": "stdout",
          "text": [
            "Test Accuracy: 80.03%\n",
            "Train Accuracy: 80.04%\n"
          ]
        }
      ]
    },
    {
      "cell_type": "code",
      "source": [
        "# Support is the number of actual occurrences of the class in the specified dataset. \n",
        "# Note that in binary classification, recall of the positive class is also known as “sensitivity”; recall of the negative class is “specificity”.\n",
        "# 0: negative, 1: positive\n",
        "print(classification_report(y_true=y_test, y_pred=predictions, labels=[0,1], digits=4))"
      ],
      "metadata": {
        "colab": {
          "base_uri": "https://localhost:8080/"
        },
        "id": "msHo9xWfxX1w",
        "outputId": "7a9a8626-8838-462a-e4db-12d4f7882617"
      },
      "execution_count": 344,
      "outputs": [
        {
          "output_type": "stream",
          "name": "stdout",
          "text": [
            "              precision    recall  f1-score   support\n",
            "\n",
            "           0     0.8333    0.9126    0.8712      1041\n",
            "           1     0.6592    0.4809    0.5561       366\n",
            "\n",
            "    accuracy                         0.8003      1407\n",
            "   macro avg     0.7463    0.6967    0.7136      1407\n",
            "weighted avg     0.7880    0.8003    0.7892      1407\n",
            "\n"
          ]
        }
      ]
    },
    {
      "cell_type": "code",
      "source": [
        "# cij is equal to the number of observations known to be in group i and predicted to be in group j\n",
        "# in binary classification, the count of true negatives is C00, \n",
        "# false negatives is C10, true positives is C11 and false positives is C01.\n",
        "confusion_matrix(y_true=y_test,y_pred=predictions)"
      ],
      "metadata": {
        "colab": {
          "base_uri": "https://localhost:8080/"
        },
        "id": "JyCUW8w-xs7C",
        "outputId": "0a436ce8-d8d4-4a09-c128-10a493976431"
      },
      "execution_count": 345,
      "outputs": [
        {
          "output_type": "execute_result",
          "data": {
            "text/plain": [
              "array([[950,  91],\n",
              "       [190, 176]])"
            ]
          },
          "metadata": {},
          "execution_count": 345
        }
      ]
    },
    {
      "cell_type": "markdown",
      "source": [
        "##### 3.4.2.2 - Logistic Regression"
      ],
      "metadata": {
        "id": "fGVWuCe4okYT"
      }
    },
    {
      "cell_type": "code",
      "source": [
        "from sklearn.linear_model import LogisticRegression\n",
        "lr = LogisticRegression(random_state=1, solver=\"newton-cg\")\n",
        "lr.fit(x_train_fs,y_train)\n",
        "predictions = lr.predict(x_test_fs)\n",
        "print(\"Test Accuracy: {}%\".format(round(lr.score(x_test_fs,y_test)*100,2)))\n",
        "print(\"Train Accuracy: {}%\".format(round(lr.score(x_train_fs,y_train)*100,2)))"
      ],
      "metadata": {
        "colab": {
          "base_uri": "https://localhost:8080/"
        },
        "id": "Oi__95LMo_zN",
        "outputId": "235fc644-c3f2-408d-f346-708f05485405"
      },
      "execution_count": 346,
      "outputs": [
        {
          "output_type": "stream",
          "name": "stdout",
          "text": [
            "Test Accuracy: 79.32%\n",
            "Train Accuracy: 80.6%\n"
          ]
        }
      ]
    },
    {
      "cell_type": "code",
      "source": [
        "# Support is the number of actual occurrences of the class in the specified dataset. \n",
        "# Note that in binary classification, recall of the positive class is also known as “sensitivity”; recall of the negative class is “specificity”.\n",
        "print(classification_report(y_true=y_test, y_pred=predictions, labels=[0,1], digits=4))"
      ],
      "metadata": {
        "colab": {
          "base_uri": "https://localhost:8080/"
        },
        "id": "MLtNij0ox13Y",
        "outputId": "f3fcf448-b2f6-445c-c172-e8bdfa92d729"
      },
      "execution_count": 347,
      "outputs": [
        {
          "output_type": "stream",
          "name": "stdout",
          "text": [
            "              precision    recall  f1-score   support\n",
            "\n",
            "           0     0.8422    0.8866    0.8638      1041\n",
            "           1     0.6206    0.5273    0.5702       366\n",
            "\n",
            "    accuracy                         0.7932      1407\n",
            "   macro avg     0.7314    0.7070    0.7170      1407\n",
            "weighted avg     0.7845    0.7932    0.7874      1407\n",
            "\n"
          ]
        }
      ]
    },
    {
      "cell_type": "code",
      "source": [
        "# cij is equal to the number of observations known to be in group i and predicted to be in group j\n",
        "# in binary classification, the count of true negatives is C00, \n",
        "# false negatives is C10, true positives is C11 and false positives is C01.\n",
        "confusion_matrix(y_true=y_test,y_pred=predictions)"
      ],
      "metadata": {
        "colab": {
          "base_uri": "https://localhost:8080/"
        },
        "id": "JEXAE3eIx4NF",
        "outputId": "d135c1f3-3b25-4c15-c0fb-bcb4ea14c840"
      },
      "execution_count": 348,
      "outputs": [
        {
          "output_type": "execute_result",
          "data": {
            "text/plain": [
              "array([[923, 118],\n",
              "       [173, 193]])"
            ]
          },
          "metadata": {},
          "execution_count": 348
        }
      ]
    },
    {
      "cell_type": "markdown",
      "source": [
        "##### 3.4.2.3 - Random Forest"
      ],
      "metadata": {
        "id": "u6ktcO8Tom67"
      }
    },
    {
      "cell_type": "code",
      "source": [
        "from sklearn.ensemble import RandomForestClassifier\n",
        "rf = RandomForestClassifier(n_estimators=100, random_state=1)\n",
        "rf.fit(x_train_fs,y_train)\n",
        "predictions = rf.predict(x_test_fs)\n",
        "print(\"Test Accuracy: {}%\".format(round(rf.score(x_test_fs,y_test)*100,2)))\n",
        "print(\"Train Accuracy: {}%\".format(round(rf.score(x_train_fs,y_train)*100,2)))"
      ],
      "metadata": {
        "colab": {
          "base_uri": "https://localhost:8080/"
        },
        "id": "aKxvjH9aojrI",
        "outputId": "5287c063-3c1c-4d55-ea3a-61ad944024eb"
      },
      "execution_count": 349,
      "outputs": [
        {
          "output_type": "stream",
          "name": "stdout",
          "text": [
            "Test Accuracy: 77.61%\n",
            "Train Accuracy: 99.68%\n"
          ]
        }
      ]
    },
    {
      "cell_type": "code",
      "source": [
        "# Support is the number of actual occurrences of the class in the specified dataset. \n",
        "# Note that in binary classification, recall of the positive class is also known as “sensitivity”; recall of the negative class is “specificity”.\n",
        "print(classification_report(y_true=y_test, y_pred=predictions, labels=[0,1], digits=4))"
      ],
      "metadata": {
        "colab": {
          "base_uri": "https://localhost:8080/"
        },
        "id": "1MYbkVCyx2w4",
        "outputId": "abaa92de-1382-4f3a-b0fc-3bfa290d41f8"
      },
      "execution_count": 350,
      "outputs": [
        {
          "output_type": "stream",
          "name": "stdout",
          "text": [
            "              precision    recall  f1-score   support\n",
            "\n",
            "           0     0.8247    0.8857    0.8541      1041\n",
            "           1     0.5882    0.4645    0.5191       366\n",
            "\n",
            "    accuracy                         0.7761      1407\n",
            "   macro avg     0.7065    0.6751    0.6866      1407\n",
            "weighted avg     0.7632    0.7761    0.7670      1407\n",
            "\n"
          ]
        }
      ]
    },
    {
      "cell_type": "code",
      "source": [
        " # cij is equal to the number of observations known to be in group i and predicted to be in group j\n",
        "# in binary classification, the count of true negatives is C00, \n",
        "# false negatives is C10, true positives is C11 and false positives is C01.\n",
        "confusion_matrix(y_true=y_test,y_pred=predictions)"
      ],
      "metadata": {
        "colab": {
          "base_uri": "https://localhost:8080/"
        },
        "id": "TUFCbu-Fx44n",
        "outputId": "13cb7bab-a55b-4b9a-85b1-4f8838773978"
      },
      "execution_count": 351,
      "outputs": [
        {
          "output_type": "execute_result",
          "data": {
            "text/plain": [
              "array([[922, 119],\n",
              "       [196, 170]])"
            ]
          },
          "metadata": {},
          "execution_count": 351
        }
      ]
    },
    {
      "cell_type": "markdown",
      "source": [
        "### Additional Analysis: Hyperparameter Tuning\n",
        "hyperparameter tuning on the entire dataset"
      ],
      "metadata": {
        "id": "yj_IdpQEv_iP"
      }
    },
    {
      "cell_type": "code",
      "source": [
        "from sklearn.model_selection import GridSearchCV\n",
        "from sklearn.model_selection import RepeatedStratifiedKFold"
      ],
      "metadata": {
        "id": "BnlkZyHYAomE"
      },
      "execution_count": 352,
      "outputs": []
    },
    {
      "cell_type": "code",
      "source": [
        "x_df = pd.DataFrame(x_trans)\n",
        "x_fs = x_df.drop(x_df.columns[new_index],axis = 1).to_numpy() # remove insignificant features in x"
      ],
      "metadata": {
        "id": "iLIw98GEhAsK"
      },
      "execution_count": 353,
      "outputs": []
    },
    {
      "cell_type": "code",
      "source": [
        "x_fs.shape"
      ],
      "metadata": {
        "colab": {
          "base_uri": "https://localhost:8080/"
        },
        "id": "kEtG1J7Fh1J8",
        "outputId": "2d8880da-703e-4176-d2e3-b38187f9f3a5"
      },
      "execution_count": 354,
      "outputs": [
        {
          "output_type": "execute_result",
          "data": {
            "text/plain": [
              "(7032, 38)"
            ]
          },
          "metadata": {},
          "execution_count": 354
        }
      ]
    },
    {
      "cell_type": "markdown",
      "source": [
        "#### A.1 - SVM"
      ],
      "metadata": {
        "id": "-6vZOaszy8_h"
      }
    },
    {
      "cell_type": "code",
      "source": [
        "# defining parameter range\n",
        "param_grid = {'C': [100, 10, 1.0, 0.1, 0.001], \n",
        "              'gamma': ['scale'],\n",
        "              'kernel': ['poly', 'rbf', 'sigmoid']} \n",
        "\n",
        "cv = RepeatedStratifiedKFold(n_splits=10, n_repeats=3, random_state=1)  \n",
        "grid_svm = GridSearchCV(estimator=SVC(random_state=1), param_grid=param_grid, cv=cv, scoring='accuracy',error_score=0)\n",
        "  \n",
        "# fitting the model for grid search\n",
        "grid_result = grid_svm.fit(x_fs, y)"
      ],
      "metadata": {
        "id": "cBKIY6kMy6Tz"
      },
      "execution_count": 355,
      "outputs": []
    },
    {
      "cell_type": "code",
      "source": [
        "# summarize results\n",
        "# Running the example a few times using cross validation and compare the average outcome.\n",
        "# Running the example prints the best result as well as the results from all combinations evaluated.\n",
        "print(\"Best: %f using %s\" % (grid_result.best_score_, grid_result.best_params_))\n",
        "means = grid_result.cv_results_['mean_test_score']\n",
        "stds = grid_result.cv_results_['std_test_score']\n",
        "params = grid_result.cv_results_['params']\n",
        "for mean, stdev, param in zip(means, stds, params):\n",
        "    print(\"%f (%f) with: %r\" % (mean, stdev, param))"
      ],
      "metadata": {
        "colab": {
          "base_uri": "https://localhost:8080/"
        },
        "id": "LT0M4EKGgUiW",
        "outputId": "82058be2-fb9a-48df-a50f-61186e8c920d"
      },
      "execution_count": 356,
      "outputs": [
        {
          "output_type": "stream",
          "name": "stdout",
          "text": [
            "Best: 0.793515 using {'C': 1.0, 'gamma': 'scale', 'kernel': 'poly'}\n",
            "0.761518 (0.013371) with: {'C': 100, 'gamma': 'scale', 'kernel': 'poly'}\n",
            "0.750143 (0.014353) with: {'C': 100, 'gamma': 'scale', 'kernel': 'rbf'}\n",
            "0.726344 (0.014246) with: {'C': 100, 'gamma': 'scale', 'kernel': 'sigmoid'}\n",
            "0.778869 (0.011846) with: {'C': 10, 'gamma': 'scale', 'kernel': 'poly'}\n",
            "0.782045 (0.011611) with: {'C': 10, 'gamma': 'scale', 'kernel': 'rbf'}\n",
            "0.727198 (0.013776) with: {'C': 10, 'gamma': 'scale', 'kernel': 'sigmoid'}\n",
            "0.793515 (0.012012) with: {'C': 1.0, 'gamma': 'scale', 'kernel': 'poly'}\n",
            "0.792567 (0.013458) with: {'C': 1.0, 'gamma': 'scale', 'kernel': 'rbf'}\n",
            "0.724874 (0.012200) with: {'C': 1.0, 'gamma': 'scale', 'kernel': 'sigmoid'}\n",
            "0.792236 (0.014154) with: {'C': 0.1, 'gamma': 'scale', 'kernel': 'poly'}\n",
            "0.789534 (0.012722) with: {'C': 0.1, 'gamma': 'scale', 'kernel': 'rbf'}\n",
            "0.747817 (0.011738) with: {'C': 0.1, 'gamma': 'scale', 'kernel': 'sigmoid'}\n",
            "0.734215 (0.000428) with: {'C': 0.001, 'gamma': 'scale', 'kernel': 'poly'}\n",
            "0.734215 (0.000428) with: {'C': 0.001, 'gamma': 'scale', 'kernel': 'rbf'}\n",
            "0.734215 (0.000428) with: {'C': 0.001, 'gamma': 'scale', 'kernel': 'sigmoid'}\n"
          ]
        }
      ]
    },
    {
      "cell_type": "code",
      "source": [
        "# print best parameter after tuning\n",
        "print(grid_svm.best_params_)\n",
        "  \n",
        "# print how our model looks after hyper-parameter tuning\n",
        "print(grid_svm.best_estimator_)"
      ],
      "metadata": {
        "colab": {
          "base_uri": "https://localhost:8080/"
        },
        "id": "6IiuKDJNAs3k",
        "outputId": "526c2500-4b05-49dc-bd99-9e16d8665212"
      },
      "execution_count": 357,
      "outputs": [
        {
          "output_type": "stream",
          "name": "stdout",
          "text": [
            "{'C': 1.0, 'gamma': 'scale', 'kernel': 'poly'}\n",
            "SVC(kernel='poly', random_state=1)\n"
          ]
        }
      ]
    },
    {
      "cell_type": "code",
      "source": [
        "grid_svm_predictions = grid_svm.predict(x_fs)\n",
        "  \n",
        "# print classification report\n",
        "print(classification_report(y, grid_svm_predictions,digits=4))"
      ],
      "metadata": {
        "colab": {
          "base_uri": "https://localhost:8080/"
        },
        "id": "ASbJ9bdoAwXc",
        "outputId": "c5284da8-dd69-4e03-fa73-a68bece79c2c"
      },
      "execution_count": 358,
      "outputs": [
        {
          "output_type": "stream",
          "name": "stdout",
          "text": [
            "              precision    recall  f1-score   support\n",
            "\n",
            "           0     0.8494    0.9076    0.8775      5163\n",
            "           1     0.6851    0.5554    0.6135      1869\n",
            "\n",
            "    accuracy                         0.8140      7032\n",
            "   macro avg     0.7673    0.7315    0.7455      7032\n",
            "weighted avg     0.8057    0.8140    0.8073      7032\n",
            "\n"
          ]
        }
      ]
    },
    {
      "cell_type": "code",
      "source": [
        "# we see that the polynomial kernel works out, then it is a good idea to dive into the degree hyperparameter.\n",
        "# defining parameter range\n",
        "param_grid = {'C': [1.0], \n",
        "              'gamma': ['scale'],\n",
        "              'kernel': ['poly'],\n",
        "              'degree': [1,2,3,4,5]} \n",
        "\n",
        "cv = RepeatedStratifiedKFold(n_splits=10, n_repeats=3, random_state=1)  \n",
        "grid_svm = GridSearchCV(estimator=SVC(random_state=1), param_grid=param_grid, cv=cv, scoring='accuracy',error_score=0)\n",
        "  \n",
        "# fitting the model for grid search\n",
        "grid_result = grid_svm.fit(x_fs, y)"
      ],
      "metadata": {
        "id": "f6L8Ow5msfY5"
      },
      "execution_count": 368,
      "outputs": []
    },
    {
      "cell_type": "code",
      "source": [
        "# summarize results\n",
        "# Running the example a few times using cross validation and compare the average outcome.\n",
        "# Running the example prints the best result as well as the results from all combinations evaluated.\n",
        "print(\"Best: %f using %s\" % (grid_result.best_score_, grid_result.best_params_))\n",
        "means = grid_result.cv_results_['mean_test_score']\n",
        "stds = grid_result.cv_results_['std_test_score']\n",
        "params = grid_result.cv_results_['params']\n",
        "for mean, stdev, param in zip(means, stds, params):\n",
        "    print(\"%f (%f) with: %r\" % (mean, stdev, param))"
      ],
      "metadata": {
        "colab": {
          "base_uri": "https://localhost:8080/"
        },
        "id": "xXLjEoF9s2tC",
        "outputId": "9f9554d9-6ad4-46b0-d8e9-affde805cf90"
      },
      "execution_count": 369,
      "outputs": [
        {
          "output_type": "stream",
          "name": "stdout",
          "text": [
            "Best: 0.799441 using {'C': 1.0, 'degree': 1, 'gamma': 'scale', 'kernel': 'poly'}\n",
            "0.799441 (0.012204) with: {'C': 1.0, 'degree': 1, 'gamma': 'scale', 'kernel': 'poly'}\n",
            "0.797876 (0.014144) with: {'C': 1.0, 'degree': 2, 'gamma': 'scale', 'kernel': 'poly'}\n",
            "0.793515 (0.012012) with: {'C': 1.0, 'degree': 3, 'gamma': 'scale', 'kernel': 'poly'}\n",
            "0.784082 (0.012415) with: {'C': 1.0, 'degree': 4, 'gamma': 'scale', 'kernel': 'poly'}\n",
            "0.767114 (0.012453) with: {'C': 1.0, 'degree': 5, 'gamma': 'scale', 'kernel': 'poly'}\n"
          ]
        }
      ]
    },
    {
      "cell_type": "code",
      "source": [
        "grid_svm_predictions = grid_svm.predict(x_fs)\n",
        "  \n",
        "# print classification report\n",
        "print(classification_report(y, grid_svm_predictions,digits=4))"
      ],
      "metadata": {
        "colab": {
          "base_uri": "https://localhost:8080/"
        },
        "id": "0bGfJ8Mns9o9",
        "outputId": "4e91f2e7-f7d0-41f2-b85d-479cbc9555a5"
      },
      "execution_count": 370,
      "outputs": [
        {
          "output_type": "stream",
          "name": "stdout",
          "text": [
            "              precision    recall  f1-score   support\n",
            "\n",
            "           0     0.8429    0.8970    0.8691      5163\n",
            "           1     0.6541    0.5383    0.5905      1869\n",
            "\n",
            "    accuracy                         0.8016      7032\n",
            "   macro avg     0.7485    0.7176    0.7298      7032\n",
            "weighted avg     0.7927    0.8016    0.7951      7032\n",
            "\n"
          ]
        }
      ]
    },
    {
      "cell_type": "markdown",
      "source": [
        "#### A.2 - Logistic Regression"
      ],
      "metadata": {
        "id": "zqkuj_BizAXI"
      }
    },
    {
      "cell_type": "code",
      "source": [
        "# defining parameter range\n",
        "param_grid = {'C': [100, 10, 1.0, 0.1, 0.01], \n",
        "              'solver': ['liblinear', 'newton-cg', 'lbfgs'],\n",
        "              'penalty': ['l2']} \n",
        "\n",
        "cv = RepeatedStratifiedKFold(n_splits=10, n_repeats=3, random_state=1)    \n",
        "grid_lr = GridSearchCV(LogisticRegression(random_state=1), param_grid, cv=cv, scoring='accuracy',error_score=0)\n",
        "  \n",
        "# fitting the model for grid search\n",
        "grid_result = grid_lr.fit(x_fs, y)"
      ],
      "metadata": {
        "id": "DIEczxOsCN2d"
      },
      "execution_count": 378,
      "outputs": []
    },
    {
      "cell_type": "code",
      "source": [
        "# summarize results\n",
        "# Running the example a few times using cross validation and compare the average outcome.\n",
        "# Running the example prints the best result as well as the results from all combinations evaluated.\n",
        "print(\"Best: %f using %s\" % (grid_result.best_score_, grid_result.best_params_))\n",
        "means = grid_result.cv_results_['mean_test_score']\n",
        "stds = grid_result.cv_results_['std_test_score']\n",
        "params = grid_result.cv_results_['params']\n",
        "for mean, stdev, param in zip(means, stds, params):\n",
        "    print(\"%f (%f) with: %r\" % (mean, stdev, param))"
      ],
      "metadata": {
        "colab": {
          "base_uri": "https://localhost:8080/"
        },
        "id": "IrUURbxo-SVu",
        "outputId": "86698992-ef88-4bdb-e6d0-5a38e71b1ad2"
      },
      "execution_count": 379,
      "outputs": [
        {
          "output_type": "stream",
          "name": "stdout",
          "text": [
            "Best: 0.802711 using {'C': 1.0, 'penalty': 'l2', 'solver': 'liblinear'}\n",
            "0.802285 (0.013598) with: {'C': 100, 'penalty': 'l2', 'solver': 'liblinear'}\n",
            "0.802143 (0.013565) with: {'C': 100, 'penalty': 'l2', 'solver': 'newton-cg'}\n",
            "0.802142 (0.013546) with: {'C': 100, 'penalty': 'l2', 'solver': 'lbfgs'}\n",
            "0.802237 (0.013596) with: {'C': 10, 'penalty': 'l2', 'solver': 'liblinear'}\n",
            "0.802237 (0.013533) with: {'C': 10, 'penalty': 'l2', 'solver': 'newton-cg'}\n",
            "0.802190 (0.013544) with: {'C': 10, 'penalty': 'l2', 'solver': 'lbfgs'}\n",
            "0.802711 (0.013214) with: {'C': 1.0, 'penalty': 'l2', 'solver': 'liblinear'}\n",
            "0.802711 (0.013169) with: {'C': 1.0, 'penalty': 'l2', 'solver': 'newton-cg'}\n",
            "0.802711 (0.013169) with: {'C': 1.0, 'penalty': 'l2', 'solver': 'lbfgs'}\n",
            "0.802000 (0.012347) with: {'C': 0.1, 'penalty': 'l2', 'solver': 'liblinear'}\n",
            "0.801953 (0.012484) with: {'C': 0.1, 'penalty': 'l2', 'solver': 'newton-cg'}\n",
            "0.801953 (0.012484) with: {'C': 0.1, 'penalty': 'l2', 'solver': 'lbfgs'}\n",
            "0.795981 (0.012939) with: {'C': 0.01, 'penalty': 'l2', 'solver': 'liblinear'}\n",
            "0.795080 (0.013039) with: {'C': 0.01, 'penalty': 'l2', 'solver': 'newton-cg'}\n",
            "0.795127 (0.013052) with: {'C': 0.01, 'penalty': 'l2', 'solver': 'lbfgs'}\n"
          ]
        }
      ]
    },
    {
      "cell_type": "code",
      "source": [
        "# print best parameter after tuning\n",
        "print(grid_lr.best_params_)\n",
        "  \n",
        "# print how our model looks after hyper-parameter tuning\n",
        "print(grid_lr.best_estimator_)"
      ],
      "metadata": {
        "colab": {
          "base_uri": "https://localhost:8080/"
        },
        "id": "2n_qpbt1COw6",
        "outputId": "65b51687-ba2a-4399-86dc-0f662745cb08"
      },
      "execution_count": 380,
      "outputs": [
        {
          "output_type": "stream",
          "name": "stdout",
          "text": [
            "{'C': 1.0, 'penalty': 'l2', 'solver': 'liblinear'}\n",
            "LogisticRegression(random_state=1, solver='liblinear')\n"
          ]
        }
      ]
    },
    {
      "cell_type": "code",
      "source": [
        "grid_lr_predictions = grid_lr.predict(x_fs)\n",
        "  \n",
        "# print classification report\n",
        "print(classification_report(y, grid_lr_predictions,digits=4))"
      ],
      "metadata": {
        "colab": {
          "base_uri": "https://localhost:8080/"
        },
        "id": "UI2Lx79CCSqi",
        "outputId": "86c2ea58-a768-453d-c9eb-471cf5c009c5"
      },
      "execution_count": 381,
      "outputs": [
        {
          "output_type": "stream",
          "name": "stdout",
          "text": [
            "              precision    recall  f1-score   support\n",
            "\n",
            "           0     0.8454    0.8972    0.8705      5163\n",
            "           1     0.6581    0.5468    0.5973      1869\n",
            "\n",
            "    accuracy                         0.8040      7032\n",
            "   macro avg     0.7517    0.7220    0.7339      7032\n",
            "weighted avg     0.7956    0.8040    0.7979      7032\n",
            "\n"
          ]
        }
      ]
    },
    {
      "cell_type": "markdown",
      "source": [
        "#### A.3 - Random Forest"
      ],
      "metadata": {
        "id": "-C-QKTRdzCva"
      }
    },
    {
      "cell_type": "code",
      "source": [
        "# defining parameter range\n",
        "param_grid = {'n_estimators': [10, 100, 1000],\n",
        "              'max_features': ['sqrt', 'log2']\n",
        "} \n",
        "  \n",
        "cv = RepeatedStratifiedKFold(n_splits=10, n_repeats=3, random_state=1)  \n",
        "grid_rf = GridSearchCV(estimator=RandomForestClassifier(random_state=1), param_grid=param_grid, cv=cv, scoring='accuracy',error_score=0)\n",
        "  \n",
        "# fitting the model for grid search\n",
        "grid_result = grid_rf.fit(x_fs, y)"
      ],
      "metadata": {
        "id": "kfG3SLV4wBbi"
      },
      "execution_count": 382,
      "outputs": []
    },
    {
      "cell_type": "code",
      "source": [
        "# summarize results\n",
        "# Running the example a few times using cross validation and compare the average outcome.\n",
        "# Running the example prints the best result as well as the results from all combinations evaluated.\n",
        "print(\"Best: %f using %s\" % (grid_result.best_score_, grid_result.best_params_))\n",
        "means = grid_result.cv_results_['mean_test_score']\n",
        "stds = grid_result.cv_results_['std_test_score']\n",
        "params = grid_result.cv_results_['params']\n",
        "for mean, stdev, param in zip(means, stds, params):\n",
        "    print(\"%f (%f) with: %r\" % (mean, stdev, param))"
      ],
      "metadata": {
        "colab": {
          "base_uri": "https://localhost:8080/"
        },
        "id": "xIoW2ccD0U-a",
        "outputId": "5e565633-2c40-4b31-a895-d8a9425262e2"
      },
      "execution_count": 383,
      "outputs": [
        {
          "output_type": "stream",
          "name": "stdout",
          "text": [
            "Best: 0.779389 using {'max_features': 'sqrt', 'n_estimators': 1000}\n",
            "0.771236 (0.012396) with: {'max_features': 'sqrt', 'n_estimators': 10}\n",
            "0.777445 (0.012961) with: {'max_features': 'sqrt', 'n_estimators': 100}\n",
            "0.779389 (0.012398) with: {'max_features': 'sqrt', 'n_estimators': 1000}\n",
            "0.770523 (0.013295) with: {'max_features': 'log2', 'n_estimators': 10}\n",
            "0.777824 (0.011725) with: {'max_features': 'log2', 'n_estimators': 100}\n",
            "0.778773 (0.011516) with: {'max_features': 'log2', 'n_estimators': 1000}\n"
          ]
        }
      ]
    },
    {
      "cell_type": "code",
      "source": [
        "# print best parameter after tuning\n",
        "print(grid_rf.best_params_)\n",
        "  \n",
        "# print how our model looks after hyper-parameter tuning\n",
        "print(grid_rf.best_estimator_)"
      ],
      "metadata": {
        "colab": {
          "base_uri": "https://localhost:8080/"
        },
        "id": "hbiEwHdRCQqN",
        "outputId": "3e3dc33b-a58a-45bf-8612-7bef801b4bf3"
      },
      "execution_count": 384,
      "outputs": [
        {
          "output_type": "stream",
          "name": "stdout",
          "text": [
            "{'max_features': 'sqrt', 'n_estimators': 1000}\n",
            "RandomForestClassifier(max_features='sqrt', n_estimators=1000, random_state=1)\n"
          ]
        }
      ]
    },
    {
      "cell_type": "code",
      "source": [
        "grid_rf_predictions = grid_rf.predict(x_fs)\n",
        "  \n",
        "# print classification report\n",
        "print(classification_report(y, grid_rf_predictions,digits=4))"
      ],
      "metadata": {
        "colab": {
          "base_uri": "https://localhost:8080/"
        },
        "id": "OQJqqVBQCTX5",
        "outputId": "97cb475b-1e80-45d1-a160-07e1b7e3c74e"
      },
      "execution_count": 385,
      "outputs": [
        {
          "output_type": "stream",
          "name": "stdout",
          "text": [
            "              precision    recall  f1-score   support\n",
            "\n",
            "           0     0.9969    0.9981    0.9975      5163\n",
            "           1     0.9946    0.9914    0.9930      1869\n",
            "\n",
            "    accuracy                         0.9963      7032\n",
            "   macro avg     0.9958    0.9948    0.9953      7032\n",
            "weighted avg     0.9963    0.9963    0.9963      7032\n",
            "\n"
          ]
        }
      ]
    }
  ]
}